{
 "cells": [
  {
   "cell_type": "markdown",
   "metadata": {},
   "source": [
    "# Prepare"
   ]
  },
  {
   "cell_type": "code",
   "execution_count": 2,
   "metadata": {},
   "outputs": [],
   "source": [
    "import json\n",
    "import re\n",
    "import os, sys\n",
    "import pickle"
   ]
  },
  {
   "cell_type": "code",
   "execution_count": 3,
   "metadata": {},
   "outputs": [],
   "source": [
    "import torch\n",
    "from torch import nn\n",
    "import torch.nn.functional as F\n",
    "import torch.optim as optim\n",
    "from torch.utils.data import Dataset, DataLoader\n",
    "import gluonnlp as nlp\n",
    "import numpy as np\n",
    "from tqdm import tqdm"
   ]
  },
  {
   "cell_type": "code",
   "execution_count": 4,
   "metadata": {},
   "outputs": [],
   "source": [
    "from kobert.utils import get_tokenizer\n",
    "from kobert.pytorch_kobert import get_pytorch_kobert_model"
   ]
  },
  {
   "cell_type": "code",
   "execution_count": 5,
   "metadata": {},
   "outputs": [],
   "source": [
    "from transformers import AdamW\n",
    "from transformers.optimization import get_cosine_schedule_with_warmup"
   ]
  },
  {
   "cell_type": "code",
   "execution_count": 6,
   "metadata": {},
   "outputs": [],
   "source": [
    "def clean_sentence(sent):\n",
    "    sent = sent.strip()\n",
    "    sent = re.sub('{laughing}|{clearing}|{singing}|{applauding}', '', sent)\n",
    "    sent = re.sub('[(][(].*?[)][)]|-.*?-', '', sent)\n",
    "    return sent"
   ]
  },
  {
   "cell_type": "code",
   "execution_count": 7,
   "metadata": {},
   "outputs": [],
   "source": [
    "get_main_topic = lambda x: x.split(' > ')[0]\n",
    "\n",
    "def load_data():\n",
    "    file_list = [f_name for f_name in os.listdir('data') if f_name[-5:] == '.json']\n",
    "    \n",
    "    total_data = []\n",
    "    for f_name in tqdm(file_list):\n",
    "        with open('data/%s' %f_name, 'r') as f:\n",
    "            data = json.loads(f.read())['document'][0]\n",
    "            metadata = data['metadata']\n",
    "            utterance = data['utterance']\n",
    "            \n",
    "            topic = get_main_topic(metadata['topic'])\n",
    "            if topic[:4] == 'NWRW':\n",
    "                continue\n",
    "\n",
    "            last_speaker = None\n",
    "            seg1 = seg2 = ''\n",
    "            for u in utterance:\n",
    "                if last_speaker is None:\n",
    "                    last_speaker = u['speaker_id']\n",
    "                    seg2 = u['form']\n",
    "                elif last_speaker == u['speaker_id']:\n",
    "                    seg2 += ' ' + u['original_form']\n",
    "                else:\n",
    "                    if seg1 and seg2:\n",
    "                        total_data.append([f_name, topic, clean_sentence(seg1), clean_sentence(seg2)])\n",
    "                    last_speaker = u['speaker_id']\n",
    "                    seg1 = seg2\n",
    "                    seg2 = u['original_form']\n",
    "            if seg1 and seg2:\n",
    "                total_data.append([f_name, topic, clean_sentence(seg1), clean_sentence(seg2)])\n",
    "                \n",
    "    return np.array(total_data)"
   ]
  },
  {
   "cell_type": "code",
   "execution_count": 8,
   "metadata": {},
   "outputs": [],
   "source": [
    "device = torch.device(\"cuda:0\")"
   ]
  },
  {
   "cell_type": "code",
   "execution_count": 9,
   "metadata": {},
   "outputs": [
    {
     "name": "stdout",
     "output_type": "stream",
     "text": [
      "using cached model\n",
      "using cached model\n",
      "using cached model\n"
     ]
    }
   ],
   "source": [
    "bertmodel, vocab = get_pytorch_kobert_model()\n",
    "tokenizer = get_tokenizer()\n",
    "tok = nlp.data.BERTSPTokenizer(tokenizer, vocab, lower=False)"
   ]
  },
  {
   "cell_type": "code",
   "execution_count": 10,
   "metadata": {},
   "outputs": [],
   "source": [
    "## Setting parameters\n",
    "pre_max_len = 4096\n",
    "max_len = 512\n",
    "batch_size = 6\n",
    "warmup_ratio = 0.1\n",
    "num_epochs = 20\n",
    "max_grad_norm = 1\n",
    "log_interval = 200\n",
    "learning_rate =  5e-5"
   ]
  },
  {
   "cell_type": "code",
   "execution_count": 11,
   "metadata": {},
   "outputs": [],
   "source": [
    "indices = np.indices([pre_max_len])[0]\n",
    "def pad_transform(transform, sent1, sent2, max_len):\n",
    "    tokens, valid_len, segs = transform([sent1, sent2])\n",
    "    if valid_len < max_len:\n",
    "        return tokens[:max_len], np.array((tokens != 1).sum(), dtype='int32'), segs[:max_len]\n",
    "    \n",
    "    idx2 = indices[segs == 1][:-1]\n",
    "    idx1 = indices[:idx2[0]][1:-1]\n",
    "    if len(idx1) < len(idx2) and (len(idx1) * 2 + 3) < max_len:\n",
    "        idx2 = idx2[:(max_len - 3 - len(idx1))]\n",
    "    elif len(idx2) < len(idx1) and (len(idx2) * 2 + 3) < max_len:\n",
    "        idx1 = idx1[-(max_len - 3 - len(idx2)):]\n",
    "    else:\n",
    "        if len(idx1) < len(idx2):\n",
    "            idx1, idx2 = idx1[-((max_len - 3) // 2):], idx2[:((max_len - 3) // 2 + 1)]\n",
    "        else:\n",
    "            idx1, idx2 = idx1[-((max_len - 3) // 2 + 1):], idx2[:((max_len - 3) // 2)]\n",
    "    return (np.concatenate([[2], tokens[idx1], [3], tokens[idx2],[3]]), \n",
    "             np.array(max_len, dtype='int32'), \n",
    "             np.array([0] * (len(idx1) + 2) + [1] * (len(idx2) + 1)))"
   ]
  },
  {
   "cell_type": "code",
   "execution_count": 12,
   "metadata": {},
   "outputs": [],
   "source": [
    "class BERTDataset(Dataset):\n",
    "    def __init__(self, dataset, sent_idx1, sent_idx2, label_idx, bert_tokenizer, max_len,\n",
    "                 pad, pair):\n",
    "        transform = nlp.data.BERTSentenceTransform(\n",
    "            bert_tokenizer, max_seq_length=pre_max_len, pad=pad, pair=pair)\n",
    "\n",
    "        self.sentences = [pad_transform(transform, d[sent_idx1], d[sent_idx2], max_len) for d in tqdm(dataset)]\n",
    "#         self.sentences = [transform([d[sent_idx1], d[sent_idx2]]) for d in tqdm(dataset)]\n",
    "        self.labels = [np.int32(d[label_idx]) for d in dataset]\n",
    "\n",
    "    def __getitem__(self, i):\n",
    "        return (self.sentences[i] + (self.labels[i], ))\n",
    "\n",
    "    def __len__(self):\n",
    "        return (len(self.labels))"
   ]
  },
  {
   "cell_type": "code",
   "execution_count": 13,
   "metadata": {},
   "outputs": [],
   "source": [
    "class BERTClassifier(nn.Module):\n",
    "    def __init__(self,\n",
    "                 bert,\n",
    "                 hidden_size = 768,\n",
    "                 num_classes=2,\n",
    "                 dr_rate=None,\n",
    "                 params=None):\n",
    "        super(BERTClassifier, self).__init__()\n",
    "        self.bert = bert\n",
    "        self.dr_rate = dr_rate\n",
    "                 \n",
    "        self.classifier = nn.Linear(hidden_size , num_classes)\n",
    "        if dr_rate:\n",
    "            self.dropout = nn.Dropout(p=dr_rate)\n",
    "    \n",
    "    def gen_attention_mask(self, token_ids, valid_length):\n",
    "        attention_mask = torch.zeros_like(token_ids)\n",
    "        for i, v in enumerate(valid_length):\n",
    "            attention_mask[i][:v] = 1\n",
    "        return attention_mask.float()\n",
    "\n",
    "    def forward(self, token_ids, valid_length, segment_ids):\n",
    "        attention_mask = self.gen_attention_mask(token_ids, valid_length)\n",
    "        \n",
    "        ret = self.bert(input_ids = token_ids, token_type_ids = segment_ids.long(), attention_mask = attention_mask.float().to(token_ids.device))\n",
    "        pooler = ret[1]\n",
    "        if self.dr_rate:\n",
    "            out = self.dropout(pooler)\n",
    "        return self.classifier(out)"
   ]
  },
  {
   "cell_type": "markdown",
   "metadata": {},
   "source": [
    "# Train"
   ]
  },
  {
   "cell_type": "code",
   "execution_count": 19,
   "metadata": {},
   "outputs": [],
   "source": [
    "def row_to_list(row):\n",
    "    return str(row[2]), str(row[3]), label_w2i[row[1]]"
   ]
  },
  {
   "cell_type": "code",
   "execution_count": 36,
   "metadata": {},
   "outputs": [
    {
     "name": "stderr",
     "output_type": "stream",
     "text": [
      "100%|██████████| 2232/2232 [00:02<00:00, 1062.10it/s]\n"
     ]
    }
   ],
   "source": [
    "raw_dataset = load_data()\n",
    "file_with_label = np.unique(raw_dataset[:, :2], axis=0)\n",
    "_labels, _counts = np.unique(file_with_label[:, 1], return_counts=True)\n",
    "label_counts = dict(zip(_labels, _counts))"
   ]
  },
  {
   "cell_type": "code",
   "execution_count": 37,
   "metadata": {},
   "outputs": [],
   "source": [
    "np.random.seed(0)\n",
    "np.random.shuffle(file_with_label)\n",
    "\n",
    "valid_list = {label: [] for label in label_counts}\n",
    "test_list = {label: [] for label in label_counts}\n",
    "\n",
    "for file in file_with_label:\n",
    "    if len(valid_list[file[1]]) < label_counts[file[1]] * 0.1:\n",
    "        valid_list[file[1]].append(file[0])\n",
    "    elif len(test_list[file[1]]) < label_counts[file[1]] * 0.1:\n",
    "        test_list[file[1]].append(file[0])\n",
    "        \n",
    "_valid_list = []\n",
    "_test_list = []\n",
    "for label in label_counts:\n",
    "    _valid_list.extend(valid_list[label])\n",
    "    _test_list.extend(test_list[label])\n",
    "    \n",
    "valid_list = _valid_list\n",
    "test_list = _test_list"
   ]
  },
  {
   "cell_type": "code",
   "execution_count": 38,
   "metadata": {},
   "outputs": [],
   "source": [
    "raw_train_dataset, raw_valid_dataset, raw_test_dataset = [], [], []\n",
    "for row in raw_dataset:\n",
    "    if row[0] in valid_list:\n",
    "        raw_valid_dataset.append(row)\n",
    "    elif row[0] in test_list:\n",
    "        raw_test_dataset.append(row)\n",
    "    else:\n",
    "        raw_train_dataset.append(row)\n",
    "raw_train_dataset, raw_valid_dataset, raw_test_dataset = np.array(raw_train_dataset), np.array(raw_valid_dataset), np.array(raw_test_dataset)"
   ]
  },
  {
   "cell_type": "code",
   "execution_count": 48,
   "metadata": {},
   "outputs": [],
   "source": [
    "np.savez('raw_train_valid_test.npz', raw_train_dataset, raw_valid_dataset, raw_test_dataset)"
   ]
  },
  {
   "cell_type": "code",
   "execution_count": 16,
   "metadata": {},
   "outputs": [],
   "source": [
    "npz_file = np.load('raw_train_valid_test.npz')\n",
    "raw_train_dataset, raw_valid_dataset, raw_test_dataset = npz_file['arr_0'], npz_file['arr_1'], npz_file['arr_2']"
   ]
  },
  {
   "cell_type": "code",
   "execution_count": null,
   "metadata": {},
   "outputs": [],
   "source": [
    "label_i2w = np.unique(raw_train_dataset[:, 1]).tolist()\n",
    "label_w2i = {w: i for i, w in enumerate(label_i2w)}"
   ]
  },
  {
   "cell_type": "code",
   "execution_count": 17,
   "metadata": {},
   "outputs": [],
   "source": [
    "label_w2i = pickle.load(open('ver_2.w2i', 'rb'))\n",
    "label_i2w = {label_w2i[l]: l for l in label_w2i}"
   ]
  },
  {
   "cell_type": "code",
   "execution_count": 20,
   "metadata": {
    "scrolled": true
   },
   "outputs": [],
   "source": [
    "train_dataset = [row_to_list(r) for r in raw_train_dataset]\n",
    "valid_dataset = [row_to_list(r) for r in raw_valid_dataset]\n",
    "test_dataset = [row_to_list(r) for r in raw_test_dataset]"
   ]
  },
  {
   "cell_type": "code",
   "execution_count": 21,
   "metadata": {
    "scrolled": true
   },
   "outputs": [
    {
     "name": "stderr",
     "output_type": "stream",
     "text": [
      "100%|██████████| 18629/18629 [00:36<00:00, 516.97it/s]\n",
      "100%|██████████| 2451/2451 [00:04<00:00, 521.48it/s]\n",
      "100%|██████████| 2277/2277 [00:04<00:00, 494.87it/s]\n"
     ]
    }
   ],
   "source": [
    "data_train = BERTDataset(train_dataset, 0, 1, 2, tok, max_len, True, True)\n",
    "data_valid = BERTDataset(valid_dataset, 0, 1, 2, tok, max_len, True, True)\n",
    "data_test = BERTDataset(test_dataset, 0, 1, 2, tok, max_len, True, True)"
   ]
  },
  {
   "cell_type": "code",
   "execution_count": 22,
   "metadata": {},
   "outputs": [],
   "source": [
    "train_dataloader = torch.utils.data.DataLoader(data_train, batch_size=batch_size, num_workers=5)\n",
    "valid_dataloader = torch.utils.data.DataLoader(data_valid, batch_size=batch_size, num_workers=5)\n",
    "test_dataloader = torch.utils.data.DataLoader(data_test, batch_size=batch_size, num_workers=5)"
   ]
  },
  {
   "cell_type": "code",
   "execution_count": 42,
   "metadata": {},
   "outputs": [],
   "source": [
    "model = BERTClassifier(bertmodel, dr_rate=0.3, num_classes=len(label_i2w)).to(device)"
   ]
  },
  {
   "cell_type": "code",
   "execution_count": 43,
   "metadata": {},
   "outputs": [],
   "source": [
    "# Prepare optimizer and schedule (linear warmup and decay)\n",
    "no_decay = ['bias', 'LayerNorm.weight']\n",
    "optimizer_grouped_parameters = [\n",
    "    {'params': [p for n, p in model.named_parameters() if not any(nd in n for nd in no_decay)], 'weight_decay': 0.01},\n",
    "    {'params': [p for n, p in model.named_parameters() if any(nd in n for nd in no_decay)], 'weight_decay': 0.0}\n",
    "]\n",
    "\n",
    "optimizer = AdamW(optimizer_grouped_parameters, lr=learning_rate)\n",
    "# loss_fn = nn.CrossEntropyLoss(weight=weight)\n",
    "loss_fn = nn.CrossEntropyLoss()\n",
    "\n",
    "t_total = len(train_dataloader) * num_epochs\n",
    "warmup_step = int(t_total * warmup_ratio)\n",
    "\n",
    "scheduler = get_cosine_schedule_with_warmup(optimizer, num_warmup_steps=warmup_step, num_training_steps=t_total)"
   ]
  },
  {
   "cell_type": "code",
   "execution_count": 44,
   "metadata": {},
   "outputs": [],
   "source": [
    "def calc_accuracy(X,Y):\n",
    "    max_vals, max_indices = torch.max(X, 1)\n",
    "    train_acc = (max_indices == Y).sum().data.cpu().numpy()/max_indices.size()[0]\n",
    "    return train_acc"
   ]
  },
  {
   "cell_type": "code",
   "execution_count": 45,
   "metadata": {
    "scrolled": true
   },
   "outputs": [
    {
     "name": "stdout",
     "output_type": "stream",
     "text": [
      "epoch 01 batch id 0001/3105 loss 2.619715 train acc 0.000000\n",
      "epoch 01 batch id 0201/3105 loss 2.834718 train acc 0.051410\n",
      "epoch 01 batch id 0401/3105 loss 2.598113 train acc 0.071072\n",
      "epoch 01 batch id 0601/3105 loss 2.834365 train acc 0.118691\n",
      "epoch 01 batch id 0801/3105 loss 2.500948 train acc 0.146484\n",
      "epoch 01 batch id 1001/3105 loss 1.784213 train acc 0.228605\n",
      "epoch 01 batch id 1201/3105 loss 0.629869 train acc 0.300999\n",
      "epoch 01 batch id 1401/3105 loss 0.396200 train acc 0.371996\n",
      "epoch 01 batch id 1601/3105 loss 1.481052 train acc 0.422965\n",
      "epoch 01 batch id 1801/3105 loss 2.382094 train acc 0.463909\n",
      "epoch 01 batch id 2001/3105 loss 0.571073 train acc 0.487756\n",
      "epoch 01 batch id 2201/3105 loss 0.207719 train acc 0.513403\n",
      "epoch 01 batch id 2401/3105 loss 0.254676 train acc 0.539012\n",
      "epoch 01 batch id 2601/3105 loss 0.121420 train acc 0.562476\n",
      "epoch 01 batch id 2801/3105 loss 0.012414 train acc 0.581935\n",
      "epoch 01 batch id 3001/3105 loss 0.046614 train acc 0.593524\n",
      "100%|██████████| 3105/3105 [12:31<00:00,  4.13it/s]\n",
      "epoch 01 train acc 0.601825\n",
      "epoch 01 valid acc 0.809698\n",
      "epoch 02 batch id 0001/3105 loss 0.039131 train acc 1.000000\n",
      "epoch 02 batch id 0201/3105 loss 0.782122 train acc 0.727197\n",
      "epoch 02 batch id 0401/3105 loss 0.011462 train acc 0.778470\n",
      "epoch 02 batch id 0601/3105 loss 3.345505 train acc 0.790349\n",
      "epoch 02 batch id 0801/3105 loss 0.004895 train acc 0.799625\n",
      "epoch 02 batch id 1001/3105 loss 0.006213 train acc 0.803197\n",
      "epoch 02 batch id 1201/3105 loss 0.007950 train acc 0.798362\n",
      "epoch 02 batch id 1401/3105 loss 0.087083 train acc 0.802998\n",
      "epoch 02 batch id 1601/3105 loss 1.955549 train acc 0.808141\n",
      "epoch 02 batch id 1801/3105 loss 2.852834 train acc 0.807237\n",
      "epoch 02 batch id 2001/3105 loss 0.011151 train acc 0.798101\n",
      "epoch 02 batch id 2201/3105 loss 0.008538 train acc 0.797971\n",
      "epoch 02 batch id 2401/3105 loss 0.005597 train acc 0.800500\n",
      "epoch 02 batch id 2601/3105 loss 0.012531 train acc 0.804434\n",
      "epoch 02 batch id 2801/3105 loss 0.001747 train acc 0.806795\n",
      "epoch 02 batch id 3001/3105 loss 0.036265 train acc 0.801288\n",
      "100%|██████████| 3105/3105 [12:30<00:00,  4.14it/s]\n",
      "epoch 02 train acc 0.801825\n",
      "epoch 02 valid acc 0.748574\n",
      "epoch 03 batch id 0001/3105 loss 1.037084 train acc 0.833333\n",
      "epoch 03 batch id 0201/3105 loss 3.002092 train acc 0.685738\n",
      "epoch 03 batch id 0401/3105 loss 0.051692 train acc 0.736076\n",
      "epoch 03 batch id 0601/3105 loss 3.343466 train acc 0.765946\n",
      "epoch 03 batch id 0801/3105 loss 0.003066 train acc 0.785060\n",
      "epoch 03 batch id 1001/3105 loss 0.001355 train acc 0.785548\n",
      "epoch 03 batch id 1201/3105 loss 0.004829 train acc 0.780044\n",
      "epoch 03 batch id 1401/3105 loss 0.003004 train acc 0.786462\n",
      "epoch 03 batch id 1601/3105 loss 2.124392 train acc 0.792109\n",
      "epoch 03 batch id 1801/3105 loss 2.418240 train acc 0.790394\n",
      "epoch 03 batch id 2001/3105 loss 3.574003 train acc 0.784358\n",
      "epoch 03 batch id 2201/3105 loss 0.006102 train acc 0.780933\n",
      "epoch 03 batch id 2401/3105 loss 0.005825 train acc 0.785090\n",
      "epoch 03 batch id 2601/3105 loss 0.005312 train acc 0.791426\n",
      "epoch 03 batch id 2801/3105 loss 0.002229 train acc 0.798286\n",
      "epoch 03 batch id 3001/3105 loss 0.034168 train acc 0.796901\n",
      "100%|██████████| 3105/3105 [12:28<00:00,  4.15it/s]\n",
      "epoch 03 train acc 0.798121\n",
      "epoch 03 valid acc 0.790954\n",
      "epoch 04 batch id 0001/3105 loss 0.823114 train acc 0.666667\n",
      "epoch 04 batch id 0201/3105 loss 0.045718 train acc 0.723051\n",
      "epoch 04 batch id 0401/3105 loss 0.002036 train acc 0.765586\n",
      "epoch 04 batch id 0601/3105 loss 2.005271 train acc 0.785358\n",
      "epoch 04 batch id 0801/3105 loss 0.002336 train acc 0.798793\n",
      "epoch 04 batch id 1001/3105 loss 0.004180 train acc 0.809690\n",
      "epoch 04 batch id 1201/3105 loss 0.008122 train acc 0.809603\n",
      "epoch 04 batch id 1401/3105 loss 0.002606 train acc 0.815608\n",
      "epoch 04 batch id 1601/3105 loss 2.434269 train acc 0.822299\n",
      "epoch 04 batch id 1801/3105 loss 2.035927 train acc 0.819730\n",
      "epoch 04 batch id 2001/3105 loss 0.005286 train acc 0.812427\n",
      "epoch 04 batch id 2201/3105 loss 1.115146 train acc 0.808950\n",
      "epoch 04 batch id 2401/3105 loss 0.259726 train acc 0.809454\n",
      "epoch 04 batch id 2601/3105 loss 0.015507 train acc 0.815712\n",
      "epoch 04 batch id 2801/3105 loss 0.002441 train acc 0.820659\n",
      "epoch 04 batch id 3001/3105 loss 0.137475 train acc 0.819394\n",
      "100%|██████████| 3105/3105 [12:27<00:00,  4.15it/s]\n",
      "epoch 04 train acc 0.821310\n",
      "epoch 04 valid acc 0.806438\n",
      "epoch 05 batch id 0001/3105 loss 0.083095 train acc 1.000000\n",
      "epoch 05 batch id 0201/3105 loss 0.013300 train acc 0.807629\n",
      "epoch 05 batch id 0401/3105 loss 0.002515 train acc 0.835827\n",
      "epoch 05 batch id 0601/3105 loss 0.009778 train acc 0.846367\n",
      "epoch 05 batch id 0801/3105 loss 0.004092 train acc 0.856221\n",
      "epoch 05 batch id 1001/3105 loss 2.486014 train acc 0.855478\n",
      "epoch 05 batch id 1201/3105 loss 0.004704 train acc 0.853039\n",
      "epoch 05 batch id 1401/3105 loss 0.004064 train acc 0.857483\n",
      "epoch 05 batch id 1601/3105 loss 0.484747 train acc 0.863002\n",
      "epoch 05 batch id 1801/3105 loss 2.824630 train acc 0.862669\n",
      "epoch 05 batch id 2001/3105 loss 0.008568 train acc 0.848326\n",
      "epoch 05 batch id 2201/3105 loss 0.009157 train acc 0.844540\n",
      "epoch 05 batch id 2401/3105 loss 0.001694 train acc 0.847494\n",
      "epoch 05 batch id 2601/3105 loss 0.038461 train acc 0.850250\n",
      "epoch 05 batch id 2801/3105 loss 0.002122 train acc 0.853921\n",
      "epoch 05 batch id 3001/3105 loss 0.041272 train acc 0.851105\n",
      "100%|██████████| 3105/3105 [12:24<00:00,  4.17it/s]\n",
      "epoch 05 train acc 0.852389\n",
      "epoch 05 valid acc 0.797881\n",
      "epoch 06 batch id 0001/3105 loss 0.024480 train acc 1.000000\n",
      "epoch 06 batch id 0201/3105 loss 0.010566 train acc 0.834992\n",
      "epoch 06 batch id 0401/3105 loss 0.004902 train acc 0.854946\n",
      "epoch 06 batch id 0601/3105 loss 2.014938 train acc 0.856628\n",
      "epoch 06 batch id 0801/3105 loss 1.070719 train acc 0.848315\n",
      "epoch 06 batch id 1001/3105 loss 0.859960 train acc 0.837329\n",
      "epoch 06 batch id 1201/3105 loss 0.005974 train acc 0.837358\n",
      "epoch 06 batch id 1401/3105 loss 0.002523 train acc 0.837378\n",
      "epoch 06 batch id 1601/3105 loss 0.954854 train acc 0.844160\n",
      "epoch 06 batch id 1801/3105 loss 2.237598 train acc 0.838978\n",
      "epoch 06 batch id 2001/3105 loss 0.043307 train acc 0.827170\n",
      "epoch 06 batch id 2201/3105 loss 0.038807 train acc 0.820688\n",
      "epoch 06 batch id 2401/3105 loss 1.785578 train acc 0.819173\n",
      "epoch 06 batch id 2601/3105 loss 0.997487 train acc 0.815007\n",
      "epoch 06 batch id 2801/3105 loss 0.002046 train acc 0.818517\n",
      "epoch 06 batch id 3001/3105 loss 0.092327 train acc 0.818672\n",
      "100%|██████████| 3105/3105 [12:27<00:00,  4.15it/s]\n",
      "epoch 06 train acc 0.819860\n",
      "epoch 06 valid acc 0.797881\n",
      "epoch 07 batch id 0001/3105 loss 0.009978 train acc 1.000000\n",
      "epoch 07 batch id 0201/3105 loss 0.034524 train acc 0.732172\n",
      "epoch 07 batch id 0401/3105 loss 0.004936 train acc 0.721530\n",
      "epoch 07 batch id 0601/3105 loss 0.226036 train acc 0.759567\n",
      "epoch 07 batch id 0801/3105 loss 0.006582 train acc 0.781731\n",
      "epoch 07 batch id 1001/3105 loss 0.002215 train acc 0.803696\n",
      "epoch 07 batch id 1201/3105 loss 0.004161 train acc 0.815293\n",
      "epoch 07 batch id 1401/3105 loss 0.003251 train acc 0.824530\n",
      "epoch 07 batch id 1601/3105 loss 0.863001 train acc 0.833229\n",
      "epoch 07 batch id 1801/3105 loss 3.701070 train acc 0.838053\n",
      "epoch 07 batch id 2001/3105 loss 0.005746 train acc 0.831501\n",
      "epoch 07 batch id 2201/3105 loss 0.221432 train acc 0.834015\n",
      "epoch 07 batch id 2401/3105 loss 0.003056 train acc 0.839928\n",
      "epoch 07 batch id 2601/3105 loss 1.024714 train acc 0.844547\n",
      "epoch 07 batch id 2801/3105 loss 0.001537 train acc 0.848983\n",
      "epoch 07 batch id 3001/3105 loss 0.031760 train acc 0.848384\n",
      "100%|██████████| 3105/3105 [12:25<00:00,  4.17it/s]\n",
      "epoch 07 train acc 0.849866\n",
      "epoch 07 valid acc 0.814588\n",
      "epoch 08 batch id 0001/3105 loss 0.014146 train acc 1.000000\n",
      "epoch 08 batch id 0201/3105 loss 0.010128 train acc 0.851575\n",
      "epoch 08 batch id 0401/3105 loss 0.001994 train acc 0.868662\n",
      "epoch 08 batch id 0601/3105 loss 0.006888 train acc 0.879645\n",
      "epoch 08 batch id 0801/3105 loss 0.002053 train acc 0.889097\n",
      "epoch 08 batch id 1001/3105 loss 2.666391 train acc 0.893273\n",
      "epoch 08 batch id 1201/3105 loss 0.004522 train acc 0.891618\n",
      "epoch 08 batch id 1401/3105 loss 0.002574 train acc 0.890792\n",
      "epoch 08 batch id 1601/3105 loss 0.010298 train acc 0.873100\n",
      "epoch 08 batch id 1801/3105 loss 2.962321 train acc 0.870165\n"
     ]
    },
    {
     "name": "stdout",
     "output_type": "stream",
     "text": [
      "epoch 08 batch id 2001/3105 loss 0.008381 train acc 0.857488\n",
      "epoch 08 batch id 2201/3105 loss 0.004854 train acc 0.856505\n",
      "epoch 08 batch id 2401/3105 loss 0.930413 train acc 0.859989\n",
      "epoch 08 batch id 2601/3105 loss 0.007730 train acc 0.862681\n",
      "epoch 08 batch id 2801/3105 loss 0.002061 train acc 0.865822\n",
      "epoch 08 batch id 3001/3105 loss 0.082560 train acc 0.862768\n",
      "100%|██████████| 3105/3105 [12:24<00:00,  4.17it/s]\n",
      "epoch 08 train acc 0.864895\n",
      "epoch 08 valid acc 0.805216\n",
      "epoch 09 batch id 0001/3105 loss 0.004603 train acc 1.000000\n",
      "epoch 09 batch id 0201/3105 loss 0.940431 train acc 0.853234\n",
      "epoch 09 batch id 0401/3105 loss 0.007532 train acc 0.853283\n",
      "epoch 09 batch id 0601/3105 loss 0.006902 train acc 0.871048\n",
      "epoch 09 batch id 0801/3105 loss 0.007539 train acc 0.882022\n",
      "epoch 09 batch id 1001/3105 loss 0.003453 train acc 0.888278\n",
      "epoch 09 batch id 1201/3105 loss 0.005687 train acc 0.889675\n",
      "epoch 09 batch id 1401/3105 loss 0.002893 train acc 0.892577\n",
      "epoch 09 batch id 1601/3105 loss 0.015640 train acc 0.891943\n",
      "epoch 09 batch id 1801/3105 loss 3.036510 train acc 0.888118\n",
      "epoch 09 batch id 2001/3105 loss 0.011643 train acc 0.879810\n",
      "epoch 09 batch id 2201/3105 loss 0.025964 train acc 0.878010\n",
      "epoch 09 batch id 2401/3105 loss 0.003897 train acc 0.882757\n",
      "epoch 09 batch id 2601/3105 loss 0.013472 train acc 0.886198\n",
      "epoch 09 batch id 2801/3105 loss 0.001956 train acc 0.888373\n",
      "epoch 09 batch id 3001/3105 loss 0.063510 train acc 0.886927\n",
      "100%|██████████| 3105/3105 [12:20<00:00,  4.19it/s]\n",
      "epoch 09 train acc 0.888191\n",
      "epoch 09 valid acc 0.821516\n",
      "epoch 10 batch id 0001/3105 loss 0.006950 train acc 1.000000\n",
      "epoch 10 batch id 0201/3105 loss 0.160011 train acc 0.860697\n",
      "epoch 10 batch id 0401/3105 loss 0.003053 train acc 0.867415\n",
      "epoch 10 batch id 0601/3105 loss 0.003633 train acc 0.881032\n",
      "epoch 10 batch id 0801/3105 loss 0.016763 train acc 0.874324\n",
      "epoch 10 batch id 1001/3105 loss 1.246698 train acc 0.860806\n",
      "epoch 10 batch id 1201/3105 loss 0.002999 train acc 0.858035\n",
      "epoch 10 batch id 1401/3105 loss 0.003466 train acc 0.856174\n",
      "epoch 10 batch id 1601/3105 loss 0.122901 train acc 0.862169\n",
      "epoch 10 batch id 1801/3105 loss 2.605509 train acc 0.869517\n",
      "epoch 10 batch id 2001/3105 loss 0.006459 train acc 0.865817\n",
      "epoch 10 batch id 2201/3105 loss 0.009329 train acc 0.868090\n",
      "epoch 10 batch id 2401/3105 loss 0.008312 train acc 0.873664\n",
      "epoch 10 batch id 2601/3105 loss 0.008705 train acc 0.879149\n",
      "epoch 10 batch id 2801/3105 loss 0.002405 train acc 0.883137\n",
      "epoch 10 batch id 3001/3105 loss 0.018834 train acc 0.883261\n",
      "100%|██████████| 3105/3105 [12:23<00:00,  4.17it/s]\n",
      "epoch 10 train acc 0.884702\n",
      "epoch 10 valid acc 0.786879\n",
      "epoch 11 batch id 0001/3105 loss 0.004606 train acc 1.000000\n",
      "epoch 11 batch id 0201/3105 loss 0.025476 train acc 0.866501\n",
      "epoch 11 batch id 0401/3105 loss 0.002667 train acc 0.885702\n",
      "epoch 11 batch id 0601/3105 loss 0.004534 train acc 0.894897\n",
      "epoch 11 batch id 0801/3105 loss 0.003733 train acc 0.901165\n",
      "epoch 11 batch id 1001/3105 loss 0.017401 train acc 0.906593\n",
      "epoch 11 batch id 1201/3105 loss 0.015356 train acc 0.909659\n",
      "epoch 11 batch id 1401/3105 loss 0.002360 train acc 0.912087\n",
      "epoch 11 batch id 1601/3105 loss 0.010828 train acc 0.914116\n",
      "epoch 11 batch id 1801/3105 loss 1.589115 train acc 0.913937\n",
      "epoch 11 batch id 2001/3105 loss 0.009091 train acc 0.908213\n",
      "epoch 11 batch id 2201/3105 loss 0.007378 train acc 0.907315\n",
      "epoch 11 batch id 2401/3105 loss 0.004702 train acc 0.910315\n",
      "epoch 11 batch id 2601/3105 loss 0.006922 train acc 0.912405\n",
      "epoch 11 batch id 2801/3105 loss 0.001536 train acc 0.914019\n",
      "epoch 11 batch id 3001/3105 loss 0.006422 train acc 0.911918\n",
      "100%|██████████| 3105/3105 [12:24<00:00,  4.17it/s]\n",
      "epoch 11 train acc 0.911755\n",
      "epoch 11 valid acc 0.766096\n",
      "epoch 12 batch id 0001/3105 loss 0.747242 train acc 0.833333\n",
      "epoch 12 batch id 0201/3105 loss 0.015229 train acc 0.865672\n",
      "epoch 12 batch id 0401/3105 loss 0.004122 train acc 0.889027\n",
      "epoch 12 batch id 0601/3105 loss 2.455000 train acc 0.904049\n",
      "epoch 12 batch id 0801/3105 loss 0.016409 train acc 0.910529\n",
      "epoch 12 batch id 1001/3105 loss 1.438799 train acc 0.915418\n",
      "epoch 12 batch id 1201/3105 loss 0.003224 train acc 0.920067\n",
      "epoch 12 batch id 1401/3105 loss 0.002604 train acc 0.920890\n",
      "epoch 12 batch id 1601/3105 loss 0.014904 train acc 0.921924\n",
      "epoch 12 batch id 1801/3105 loss 3.426141 train acc 0.922543\n",
      "epoch 12 batch id 2001/3105 loss 0.009277 train acc 0.919540\n",
      "epoch 12 batch id 2201/3105 loss 0.007643 train acc 0.917840\n",
      "epoch 12 batch id 2401/3105 loss 0.006549 train acc 0.920103\n",
      "epoch 12 batch id 2601/3105 loss 0.004412 train acc 0.922658\n",
      "epoch 12 batch id 2801/3105 loss 0.001376 train acc 0.924491\n",
      "epoch 12 batch id 3001/3105 loss 0.007799 train acc 0.922581\n",
      "100%|██████████| 3105/3105 [12:18<00:00,  4.21it/s]\n",
      "epoch 12 train acc 0.923296\n",
      "epoch 12 valid acc 0.814996\n",
      "epoch 13 batch id 0001/3105 loss 0.003113 train acc 1.000000\n",
      "epoch 13 batch id 0201/3105 loss 0.017101 train acc 0.893864\n",
      "epoch 13 batch id 0401/3105 loss 0.004267 train acc 0.910224\n",
      "epoch 13 batch id 0601/3105 loss 1.280577 train acc 0.923738\n",
      "epoch 13 batch id 0801/3105 loss 0.004279 train acc 0.926966\n",
      "epoch 13 batch id 1001/3105 loss 0.002098 train acc 0.931735\n",
      "epoch 13 batch id 1201/3105 loss 0.004641 train acc 0.932695\n",
      "epoch 13 batch id 1401/3105 loss 0.004222 train acc 0.932191\n",
      "epoch 13 batch id 1601/3105 loss 0.012537 train acc 0.932750\n",
      "epoch 13 batch id 1801/3105 loss 2.992485 train acc 0.933000\n",
      "epoch 13 batch id 2001/3105 loss 0.006624 train acc 0.929119\n",
      "epoch 13 batch id 2201/3105 loss 0.005434 train acc 0.928972\n",
      "epoch 13 batch id 2401/3105 loss 0.005680 train acc 0.930932\n",
      "epoch 13 batch id 2601/3105 loss 0.004815 train acc 0.932718\n",
      "epoch 13 batch id 2801/3105 loss 0.002078 train acc 0.934488\n",
      "epoch 13 batch id 3001/3105 loss 0.007091 train acc 0.931578\n",
      "100%|██████████| 3105/3105 [12:19<00:00,  4.20it/s]\n",
      "epoch 13 train acc 0.932313\n",
      "epoch 13 valid acc 0.814588\n",
      "epoch 14 batch id 0001/3105 loss 0.002119 train acc 1.000000\n",
      "epoch 14 batch id 0201/3105 loss 0.005372 train acc 0.906302\n",
      "epoch 14 batch id 0401/3105 loss 0.003204 train acc 0.916459\n",
      "epoch 14 batch id 0601/3105 loss 1.136711 train acc 0.930948\n",
      "epoch 14 batch id 0801/3105 loss 0.009059 train acc 0.935913\n",
      "epoch 14 batch id 1001/3105 loss 0.001195 train acc 0.939893\n",
      "epoch 14 batch id 1201/3105 loss 0.002632 train acc 0.940605\n",
      "epoch 14 batch id 1401/3105 loss 0.002684 train acc 0.941232\n",
      "epoch 14 batch id 1601/3105 loss 0.004904 train acc 0.942328\n",
      "epoch 14 batch id 1801/3105 loss 2.429865 train acc 0.941051\n",
      "epoch 14 batch id 2001/3105 loss 0.007551 train acc 0.937115\n",
      "epoch 14 batch id 2201/3105 loss 0.006888 train acc 0.937831\n",
      "epoch 14 batch id 2401/3105 loss 0.005144 train acc 0.938706\n",
      "epoch 14 batch id 2601/3105 loss 0.008537 train acc 0.940536\n",
      "epoch 14 batch id 2801/3105 loss 0.001902 train acc 0.941509\n",
      "epoch 14 batch id 3001/3105 loss 0.007243 train acc 0.940020\n",
      "100%|██████████| 3105/3105 [12:20<00:00,  4.19it/s]\n",
      "epoch 14 train acc 0.940580\n",
      "epoch 14 valid acc 0.811328\n",
      "epoch 15 batch id 0001/3105 loss 0.001996 train acc 1.000000\n",
      "epoch 15 batch id 0201/3105 loss 0.009282 train acc 0.924544\n",
      "epoch 15 batch id 0401/3105 loss 0.003172 train acc 0.934331\n",
      "epoch 15 batch id 0601/3105 loss 1.135536 train acc 0.944814\n",
      "epoch 15 batch id 0801/3105 loss 0.009113 train acc 0.948190\n",
      "epoch 15 batch id 1001/3105 loss 0.001960 train acc 0.946886\n",
      "epoch 15 batch id 1201/3105 loss 0.003919 train acc 0.947544\n",
      "epoch 15 batch id 1401/3105 loss 0.002494 train acc 0.948013\n",
      "epoch 15 batch id 1601/3105 loss 0.005899 train acc 0.947845\n",
      "epoch 15 batch id 1801/3105 loss 3.233397 train acc 0.948640\n",
      "epoch 15 batch id 2001/3105 loss 0.006838 train acc 0.945027\n",
      "epoch 15 batch id 2201/3105 loss 0.004544 train acc 0.944646\n",
      "epoch 15 batch id 2401/3105 loss 0.006180 train acc 0.945648\n",
      "epoch 15 batch id 2601/3105 loss 0.005124 train acc 0.947392\n",
      "epoch 15 batch id 2801/3105 loss 0.002041 train acc 0.948233\n",
      "epoch 15 batch id 3001/3105 loss 0.006113 train acc 0.946962\n",
      "100%|██████████| 3105/3105 [12:20<00:00,  4.20it/s]\n",
      "epoch 15 train acc 0.947343\n",
      "epoch 15 valid acc 0.834556\n",
      "epoch 16 batch id 0001/3105 loss 0.002125 train acc 1.000000\n",
      "epoch 16 batch id 0201/3105 loss 0.010885 train acc 0.931177\n"
     ]
    },
    {
     "name": "stdout",
     "output_type": "stream",
     "text": [
      "epoch 16 batch id 0401/3105 loss 0.001738 train acc 0.938487\n",
      "epoch 16 batch id 0601/3105 loss 0.011580 train acc 0.947033\n",
      "epoch 16 batch id 0801/3105 loss 0.008540 train acc 0.950479\n",
      "epoch 16 batch id 1001/3105 loss 0.002242 train acc 0.953047\n",
      "epoch 16 batch id 1201/3105 loss 0.005804 train acc 0.954760\n",
      "epoch 16 batch id 1401/3105 loss 0.002861 train acc 0.954318\n",
      "epoch 16 batch id 1601/3105 loss 0.005317 train acc 0.954091\n",
      "epoch 16 batch id 1801/3105 loss 3.830405 train acc 0.954655\n",
      "epoch 16 batch id 2001/3105 loss 0.006163 train acc 0.951608\n",
      "epoch 16 batch id 2201/3105 loss 0.005914 train acc 0.951386\n",
      "epoch 16 batch id 2401/3105 loss 0.004140 train acc 0.952103\n",
      "epoch 16 batch id 2601/3105 loss 0.005171 train acc 0.953544\n",
      "epoch 16 batch id 2801/3105 loss 0.002097 train acc 0.953945\n",
      "epoch 16 batch id 3001/3105 loss 0.004724 train acc 0.952849\n",
      "100%|██████████| 3105/3105 [12:15<00:00,  4.22it/s]\n",
      "epoch 16 train acc 0.952979\n",
      "epoch 16 valid acc 0.833333\n",
      "epoch 17 batch id 0001/3105 loss 0.001868 train acc 1.000000\n",
      "epoch 17 batch id 0201/3105 loss 0.011569 train acc 0.934494\n",
      "epoch 17 batch id 0401/3105 loss 0.001974 train acc 0.941812\n",
      "epoch 17 batch id 0601/3105 loss 0.002393 train acc 0.950361\n",
      "epoch 17 batch id 0801/3105 loss 0.008160 train acc 0.952767\n",
      "epoch 17 batch id 1001/3105 loss 0.001349 train acc 0.955711\n",
      "epoch 17 batch id 1201/3105 loss 0.054250 train acc 0.957119\n",
      "epoch 17 batch id 1401/3105 loss 0.002163 train acc 0.956579\n",
      "epoch 17 batch id 1601/3105 loss 0.006381 train acc 0.956590\n",
      "epoch 17 batch id 1801/3105 loss 3.089597 train acc 0.956598\n",
      "epoch 17 batch id 2001/3105 loss 0.007001 train acc 0.954023\n",
      "epoch 17 batch id 2201/3105 loss 0.006568 train acc 0.954036\n",
      "epoch 17 batch id 2401/3105 loss 0.003497 train acc 0.955366\n",
      "epoch 17 batch id 2601/3105 loss 0.005383 train acc 0.956747\n",
      "epoch 17 batch id 2801/3105 loss 0.002023 train acc 0.957456\n",
      "epoch 17 batch id 3001/3105 loss 0.004424 train acc 0.956737\n",
      "100%|██████████| 3105/3105 [12:19<00:00,  4.20it/s]\n",
      "epoch 17 train acc 0.956951\n",
      "epoch 17 valid acc 0.827628\n",
      "epoch 18 batch id 0001/3105 loss 0.001289 train acc 1.000000\n",
      "epoch 18 batch id 0201/3105 loss 0.009404 train acc 0.940299\n",
      "epoch 18 batch id 0401/3105 loss 0.001917 train acc 0.946384\n",
      "epoch 18 batch id 0601/3105 loss 0.002578 train acc 0.954243\n",
      "epoch 18 batch id 0801/3105 loss 0.009342 train acc 0.954016\n",
      "epoch 18 batch id 1001/3105 loss 0.001278 train acc 0.956543\n",
      "epoch 18 batch id 1201/3105 loss 0.006783 train acc 0.958784\n",
      "epoch 18 batch id 1401/3105 loss 0.003284 train acc 0.958839\n",
      "epoch 18 batch id 1601/3105 loss 0.004496 train acc 0.958776\n",
      "epoch 18 batch id 1801/3105 loss 2.194984 train acc 0.959004\n",
      "epoch 18 batch id 2001/3105 loss 0.006037 train acc 0.956522\n",
      "epoch 18 batch id 2201/3105 loss 0.005051 train acc 0.956383\n",
      "epoch 18 batch id 2401/3105 loss 0.003073 train acc 0.957587\n",
      "epoch 18 batch id 2601/3105 loss 0.003629 train acc 0.958862\n",
      "epoch 18 batch id 2801/3105 loss 0.002444 train acc 0.959419\n",
      "epoch 18 batch id 3001/3105 loss 0.003841 train acc 0.958569\n",
      "100%|██████████| 3105/3105 [12:20<00:00,  4.19it/s]\n",
      "epoch 18 train acc 0.958830\n",
      "epoch 18 valid acc 0.823961\n",
      "epoch 19 batch id 0001/3105 loss 0.001579 train acc 1.000000\n",
      "epoch 19 batch id 0201/3105 loss 0.008780 train acc 0.944444\n",
      "epoch 19 batch id 0401/3105 loss 0.002089 train acc 0.949709\n",
      "epoch 19 batch id 0601/3105 loss 0.002584 train acc 0.957571\n",
      "epoch 19 batch id 0801/3105 loss 0.009861 train acc 0.958177\n",
      "epoch 19 batch id 1001/3105 loss 0.001394 train acc 0.959873\n",
      "epoch 19 batch id 1201/3105 loss 0.007205 train acc 0.961699\n",
      "epoch 19 batch id 1401/3105 loss 0.002631 train acc 0.961694\n",
      "epoch 19 batch id 1601/3105 loss 0.005469 train acc 0.961378\n",
      "epoch 19 batch id 1801/3105 loss 2.175374 train acc 0.961873\n",
      "epoch 19 batch id 2001/3105 loss 0.005878 train acc 0.959020\n",
      "epoch 19 batch id 2201/3105 loss 0.004972 train acc 0.958731\n",
      "epoch 19 batch id 2401/3105 loss 0.002665 train acc 0.959947\n",
      "epoch 19 batch id 2601/3105 loss 0.004149 train acc 0.961233\n",
      "epoch 19 batch id 2801/3105 loss 0.001682 train acc 0.961740\n",
      "epoch 19 batch id 3001/3105 loss 0.003461 train acc 0.960902\n",
      "100%|██████████| 3105/3105 [12:19<00:00,  4.20it/s]\n",
      "epoch 19 train acc 0.961084\n",
      "epoch 19 valid acc 0.825998\n",
      "epoch 20 batch id 0001/3105 loss 0.001445 train acc 1.000000\n",
      "epoch 20 batch id 0201/3105 loss 0.006370 train acc 0.947761\n",
      "epoch 20 batch id 0401/3105 loss 0.001720 train acc 0.953865\n",
      "epoch 20 batch id 0601/3105 loss 0.002760 train acc 0.960344\n",
      "epoch 20 batch id 0801/3105 loss 0.010479 train acc 0.960466\n",
      "epoch 20 batch id 1001/3105 loss 0.001411 train acc 0.961871\n",
      "epoch 20 batch id 1201/3105 loss 0.007061 train acc 0.963364\n",
      "epoch 20 batch id 1401/3105 loss 0.002327 train acc 0.963241\n",
      "epoch 20 batch id 1601/3105 loss 0.005453 train acc 0.962836\n",
      "epoch 20 batch id 1801/3105 loss 2.043974 train acc 0.963169\n",
      "epoch 20 batch id 2001/3105 loss 0.006023 train acc 0.960436\n",
      "epoch 20 batch id 2201/3105 loss 0.005865 train acc 0.960397\n",
      "epoch 20 batch id 2401/3105 loss 0.002524 train acc 0.961544\n",
      "epoch 20 batch id 2601/3105 loss 0.002567 train acc 0.962707\n",
      "epoch 20 batch id 2801/3105 loss 0.002729 train acc 0.963227\n",
      "epoch 20 batch id 3001/3105 loss 0.004015 train acc 0.962512\n",
      "100%|██████████| 3105/3105 [12:16<00:00,  4.22it/s]\n",
      "epoch 20 train acc 0.962695\n",
      "epoch 20 valid acc 0.824776\n"
     ]
    }
   ],
   "source": [
    "pickle.dump(label_w2i, open('ver_2.w2i', 'wb'))\n",
    "result = []\n",
    "\n",
    "n_batch = len(train_dataloader)\n",
    "for e in range(num_epochs):\n",
    "    train_acc = 0.0\n",
    "    valid_acc = 0.0\n",
    "    model.train()\n",
    "    for batch_id, (token_ids, valid_length, segment_ids, label) in enumerate(tqdm(train_dataloader, file=sys.stdout)):\n",
    "        optimizer.zero_grad()\n",
    "        token_ids = token_ids.long().to(device)\n",
    "        segment_ids = segment_ids.long().to(device)\n",
    "        valid_length= valid_length\n",
    "        label = label.long().to(device)\n",
    "        out = model(token_ids, valid_length, segment_ids)\n",
    "        loss = loss_fn(out, label)\n",
    "        loss.backward()\n",
    "        torch.nn.utils.clip_grad_norm_(model.parameters(), max_grad_norm)\n",
    "        optimizer.step()\n",
    "        scheduler.step()  # Update learning rate schedule\n",
    "        train_acc += calc_accuracy(out, label)\n",
    "        if batch_id % log_interval == 0:\n",
    "            tqdm.write(\"epoch %02d batch id %04d/%d loss %f train acc %f\" %(e+1, batch_id+1, n_batch, loss.data.cpu().numpy(), train_acc / (batch_id+1)))\n",
    "    train_acc /= batch_id + 1\n",
    "    print(\"epoch %02d train acc %f\" %(e+1, train_acc))\n",
    "    model.eval()\n",
    "    for batch_id, (token_ids, valid_length, segment_ids, label) in in enumerate(tqdm(valid_dataloader, file=sys.stdout)):\n",
    "        token_ids = token_ids.long().to(device)\n",
    "        segment_ids = segment_ids.long().to(device)\n",
    "        valid_length= valid_length\n",
    "        label = label.long().to(device)\n",
    "        out = model(token_ids, valid_length, segment_ids)\n",
    "        valid_acc += calc_accuracy(out, label)\n",
    "    valid_acc /=  batch_id+1\n",
    "    print(\"epoch %02d valid acc %f\" %(e+1, valid_acc))\n",
    "    torch.save(model, 'ver_2_%02d_%.04f_%.04f.model' %(e+1, train_acc, valid_acc))"
   ]
  },
  {
   "cell_type": "markdown",
   "metadata": {},
   "source": [
    "# Predict"
   ]
  },
  {
   "cell_type": "code",
   "execution_count": 14,
   "metadata": {},
   "outputs": [],
   "source": [
    "from sklearn.metrics import recall_score, precision_score, f1_score"
   ]
  },
  {
   "cell_type": "code",
   "execution_count": 39,
   "metadata": {},
   "outputs": [],
   "source": [
    "model = torch.load('ver_2_12_0.9233_0.8150.model')\n",
    "label_w2i = pickle.load(open('ver_2.w2i', 'rb'))\n",
    "label_i2w = {label_w2i[l]: l for l in label_w2i}"
   ]
  },
  {
   "cell_type": "code",
   "execution_count": 40,
   "metadata": {},
   "outputs": [],
   "source": [
    "def get_pred(X):\n",
    "    _, indices = torch.max(X, 1)\n",
    "    return indices.cpu().numpy().tolist()"
   ]
  },
  {
   "cell_type": "code",
   "execution_count": 41,
   "metadata": {},
   "outputs": [
    {
     "name": "stdout",
     "output_type": "stream",
     "text": [
      "100%|██████████| 380/380 [00:28<00:00, 13.38it/s]\n"
     ]
    }
   ],
   "source": [
    "valid_acc = 0\n",
    "test_pred = []\n",
    "model.eval()\n",
    "for batch_id, (token_ids, valid_length, segment_ids, label) in enumerate(tqdm(test_dataloader, file=sys.stdout)):\n",
    "    token_ids = token_ids.long().to(device)\n",
    "    segment_ids = segment_ids.long().to(device)\n",
    "    valid_length= valid_length\n",
    "    label = label.long().to(device)\n",
    "    out = model(token_ids, valid_length, segment_ids)\n",
    "    test_pred.append(get_pred(out))\n",
    "test_pred = np.concatenate(test_pred)"
   ]
  },
  {
   "cell_type": "code",
   "execution_count": 42,
   "metadata": {},
   "outputs": [],
   "source": [
    "test_true = np.array([d[2] for d in test_dataset])"
   ]
  },
  {
   "cell_type": "code",
   "execution_count": 43,
   "metadata": {
    "scrolled": true
   },
   "outputs": [],
   "source": [
    "test_acc = (test_pred == test_true).sum() / len(test_true)\n",
    "test_precision = [precision_score(test_true, test_pred, labels=[i], average='macro') for i in label_i2w]\n",
    "test_recall = [recall_score(test_true, test_pred, labels=[i], average='macro') for i in label_i2w]\n",
    "test_f1 = [f1_score(test_true, test_pred, labels=[i], average='macro') for i in label_i2w]"
   ]
  },
  {
   "cell_type": "code",
   "execution_count": 44,
   "metadata": {},
   "outputs": [
    {
     "name": "stdout",
     "output_type": "stream",
     "text": [
      "| Label | Precision | Recall | F1 |\n",
      "|-------|-----------|--------|----|\n",
      "| 가족 | 0.6932 | 0.5755 | 0.6289 |\n",
      "| 건강/다이어트 | 0.9109 | 0.8364 | 0.8720 |\n",
      "| 계절/날씨 | 0.9516 | 0.8872 | 0.9183 |\n",
      "| 꿈(목표) | 0.7079 | 0.6702 | 0.6885 |\n",
      "| 먹거리 | 0.9084 | 0.9189 | 0.9136 |\n",
      "| 반려동물 | 0.9286 | 0.9832 | 0.9551 |\n",
      "| 방송/연예 | 0.8628 | 0.7471 | 0.8008 |\n",
      "| 선물 | 0.9153 | 0.9153 | 0.9153 |\n",
      "| 성격 | 0.8540 | 0.9360 | 0.8931 |\n",
      "| 스포츠/레저 | 0.8544 | 0.8232 | 0.8385 |\n",
      "| 아르바이트 | 0.9469 | 0.9224 | 0.9345 |\n",
      "| 여행지(국내/해외) | 0.8495 | 0.9518 | 0.8977 |\n",
      "| 연애/결혼 | 0.8367 | 0.8849 | 0.8601 |\n",
      "| 영화 | 0.8636 | 0.9553 | 0.9072 |\n",
      "| 회사/학교 | 0.7010 | 0.7606 | 0.7296 |\n",
      "| Total | 0.8523 | 0.8512 | 0.8502 |\n",
      "Test Accuracy : 0.8546\n"
     ]
    }
   ],
   "source": [
    "print('| Label | Precision | Recall | F1 |')\n",
    "print('|-------|-----------|--------|----|')\n",
    "for i, (precision, recall, f1) in enumerate(zip(test_precision, test_recall, test_f1)):\n",
    "    print('| %s | %.4f | %.4f | %.4f |' %(label_i2w[i], precision, recall, f1))\n",
    "print('| %s | %.4f | %.4f | %.4f |' %(\n",
    "    'Total', \n",
    "    precision_score(test_true, test_pred, average='macro'), \n",
    "    recall_score(test_true, test_pred, average='macro'), \n",
    "    f1_score(test_true, test_pred, average='macro'), \n",
    "))\n",
    "\n",
    "print('Test Accuracy : %.4f' %test_acc)"
   ]
  },
  {
   "cell_type": "code",
   "execution_count": 37,
   "metadata": {},
   "outputs": [],
   "source": [
    "file_names = [\n",
    "    \"ver_2_01_0.6018_0.8097.model\",\n",
    "    \"ver_2_02_0.8018_0.7486.model\",\n",
    "    \"ver_2_03_0.7981_0.7910.model\",\n",
    "    \"ver_2_04_0.8213_0.8064.model\",\n",
    "    \"ver_2_05_0.8524_0.7979.model\",\n",
    "    \"ver_2_06_0.8199_0.7979.model\",\n",
    "    \"ver_2_07_0.8499_0.8146.model\",\n",
    "    \"ver_2_08_0.8649_0.8052.model\",\n",
    "    \"ver_2_09_0.8882_0.8215.model\",\n",
    "    \"ver_2_10_0.8847_0.7869.model\",\n",
    "    \"ver_2_11_0.9118_0.7661.model\",\n",
    "    \"ver_2_12_0.9233_0.8150.model\",\n",
    "    \"ver_2_13_0.9323_0.8146.model\",\n",
    "    \"ver_2_14_0.9406_0.8113.model\",\n",
    "    \"ver_2_15_0.9473_0.8346.model\",\n",
    "    \"ver_2_16_0.9530_0.8333.model\",\n",
    "    \"ver_2_17_0.9570_0.8276.model\",\n",
    "    \"ver_2_18_0.9588_0.8240.model\",\n",
    "    \"ver_2_19_0.9611_0.8260.model\",\n",
    "    \"ver_2_20_0.9627_0.8248.model\"\n",
    "]"
   ]
  },
  {
   "cell_type": "code",
   "execution_count": 38,
   "metadata": {},
   "outputs": [
    {
     "name": "stdout",
     "output_type": "stream",
     "text": [
      "100%|██████████| 380/380 [00:29<00:00, 12.89it/s]\n",
      "0.829161176987264\n",
      "100%|██████████| 380/380 [00:29<00:00, 12.87it/s]\n",
      "0.7307861220904699\n",
      "100%|██████████| 380/380 [00:29<00:00, 12.78it/s]\n",
      "0.7870004391743523\n",
      "100%|██████████| 380/380 [00:29<00:00, 12.73it/s]\n",
      "0.8120333772507685\n",
      "100%|██████████| 380/380 [00:29<00:00, 12.74it/s]\n",
      "0.8173034694773825\n",
      "100%|██████████| 380/380 [00:29<00:00, 12.71it/s]\n",
      "0.7782169521299956\n",
      "100%|██████████| 380/380 [00:30<00:00, 12.66it/s]\n",
      "0.8230127360562143\n",
      "100%|██████████| 380/380 [00:29<00:00, 12.72it/s]\n",
      "0.8278436539306104\n",
      "100%|██████████| 380/380 [00:30<00:00, 12.65it/s]\n",
      "0.8322353974527887\n",
      "100%|██████████| 380/380 [00:29<00:00, 12.71it/s]\n",
      "0.7834870443566095\n",
      "100%|██████████| 380/380 [00:29<00:00, 12.71it/s]\n",
      "0.7566974088713219\n",
      "100%|██████████| 380/380 [00:29<00:00, 12.93it/s]\n",
      "0.8546332894158981\n",
      "100%|██████████| 380/380 [00:28<00:00, 13.12it/s]\n",
      "0.8375054896794027\n",
      "100%|██████████| 380/380 [00:28<00:00, 13.12it/s]\n",
      "0.8274044795783926\n",
      "100%|██████████| 380/380 [00:29<00:00, 13.10it/s]\n",
      "0.8379446640316206\n",
      "100%|██████████| 380/380 [00:28<00:00, 13.11it/s]\n",
      "0.8361879666227492\n",
      "100%|██████████| 380/380 [00:28<00:00, 13.11it/s]\n",
      "0.8309178743961353\n",
      "100%|██████████| 380/380 [00:29<00:00, 13.08it/s]\n",
      "0.8278436539306104\n",
      "100%|██████████| 380/380 [00:28<00:00, 13.11it/s]\n",
      "0.8282828282828283\n",
      "100%|██████████| 380/380 [00:28<00:00, 13.12it/s]\n",
      "0.8260869565217391\n"
     ]
    }
   ],
   "source": [
    "for f in file_names:\n",
    "    model = torch.load(f)\n",
    "    label_w2i = pickle.load(open('ver_2.w2i', 'rb'))\n",
    "    label_i2w = {label_w2i[l]: l for l in label_w2i}\n",
    "    test_pred = []\n",
    "    model.eval()\n",
    "    for batch_id, (token_ids, valid_length, segment_ids, label) in enumerate(tqdm(test_dataloader, file=sys.stdout)):\n",
    "        token_ids = token_ids.long().to(device)\n",
    "        segment_ids = segment_ids.long().to(device)\n",
    "        valid_length= valid_length\n",
    "        label = label.long().to(device)\n",
    "        out = model(token_ids, valid_length, segment_ids)\n",
    "        test_pred.append(get_pred(out))\n",
    "    test_pred = np.concatenate(test_pred)\n",
    "    test_true = np.array([d[2] for d in test_dataset])\n",
    "    test_acc = (test_pred == test_true).sum() / len(test_true)\n",
    "    print(test_acc)"
   ]
  },
  {
   "cell_type": "code",
   "execution_count": 35,
   "metadata": {},
   "outputs": [
    {
     "data": {
      "text/plain": [
       "array([13, 13, 13, ...,  6,  6,  6])"
      ]
     },
     "execution_count": 35,
     "metadata": {},
     "output_type": "execute_result"
    }
   ],
   "source": [
    "test_pred"
   ]
  },
  {
   "cell_type": "code",
   "execution_count": 15,
   "metadata": {},
   "outputs": [
    {
     "name": "stderr",
     "output_type": "stream",
     "text": [
      "100%|██████████| 2/2 [00:00<00:00, 91.12it/s]\n"
     ]
    }
   ],
   "source": [
    "raw_data = [\n",
    "    ('혹시 마블 좋아하세요?', '네. 최근에 스파이더맨 봤어요.'),\n",
    "    ('점심 뭐 드셨어요?', '근처에서 마라탕 먹었어요.')\n",
    "]\n",
    "data = BERTDataset([d + (0,) for d in raw_data], 0, 1, 2, tok, max_len, True, False)\n",
    "dataloader = DataLoader(data, batch_size=batch_size, num_workers=5)"
   ]
  },
  {
   "cell_type": "code",
   "execution_count": 16,
   "metadata": {},
   "outputs": [
    {
     "name": "stderr",
     "output_type": "stream",
     "text": [
      "/home/svclaw2000/Dialog-Classification-Using-KoBERT/venv_kcc/lib/python3.7/site-packages/ipykernel_launcher.py:3: TqdmDeprecationWarning: This function will be removed in tqdm==5.0.0\n",
      "Please use `tqdm.notebook.tqdm` instead of `tqdm.tqdm_notebook`\n",
      "  This is separate from the ipykernel package so we can avoid doing imports until\n"
     ]
    },
    {
     "data": {
      "application/vnd.jupyter.widget-view+json": {
       "model_id": "4885577bcf5f4ea9ae9753fd0c1ddd06",
       "version_major": 2,
       "version_minor": 0
      },
      "text/plain": [
       "  0%|          | 0/1 [00:00<?, ?it/s]"
      ]
     },
     "metadata": {},
     "output_type": "display_data"
    }
   ],
   "source": [
    "model.eval()\n",
    "outputs = []\n",
    "for batch_id, (token_ids, valid_length, segment_ids, label) in enumerate(tqdm_notebook(dataloader)):\n",
    "    token_ids = token_ids.long().to(device)\n",
    "    segment_ids = segment_ids.long().to(device)\n",
    "    valid_length = valid_length\n",
    "    label = label.long().to(device)\n",
    "    out = model(token_ids, valid_length, segment_ids)\n",
    "    outputs.append(out.cpu().detach().numpy())\n",
    "\n",
    "result = np.concatenate(outputs)"
   ]
  },
  {
   "cell_type": "code",
   "execution_count": 17,
   "metadata": {},
   "outputs": [
    {
     "data": {
      "text/plain": [
       "array([[-1.6374834 , -1.3215848 ,  0.12254745, -2.5353487 , -0.89550805,\n",
       "        -1.4683422 ,  1.9166542 , -2.0298762 , -1.7553192 ,  1.1083449 ,\n",
       "        -1.3344933 , -0.5012208 ,  0.7741338 ,  8.988237  , -0.67473793],\n",
       "       [ 0.14410633,  0.48958924, -0.43005556, -1.36853   , 10.405009  ,\n",
       "        -1.5924621 , -1.6080155 ,  0.31998512, -2.137295  , -0.46647248,\n",
       "        -0.10372277,  2.2267296 , -1.6280773 , -1.0927978 , -1.1962178 ]],\n",
       "      dtype=float32)"
      ]
     },
     "execution_count": 17,
     "metadata": {},
     "output_type": "execute_result"
    }
   ],
   "source": [
    "result"
   ]
  },
  {
   "cell_type": "code",
   "execution_count": 62,
   "metadata": {},
   "outputs": [],
   "source": [
    "full_length = list(map(lambda x: len(x[2] + x[3]), raw_train_dataset))"
   ]
  },
  {
   "cell_type": "code",
   "execution_count": 51,
   "metadata": {},
   "outputs": [],
   "source": [
    "temp = np.array(test_dataset)"
   ]
  },
  {
   "cell_type": "code",
   "execution_count": 52,
   "metadata": {},
   "outputs": [
    {
     "data": {
      "text/plain": [
       "array([['아~ 언니 어제 엄마한테 전화가 왔는데 &name&이가 내가 동생이 있거든. 남동생이 근데 걔가 고등학교 이 학년이야. 근데 얘가 공부를 너무 안 해. 너무 안 해가지고 내보고 공부를 시켜달라는 거야. 쫌 어떻게 쫌 전화를 해가지고 &name&이가 전화를 해가지구 쫌 공부를 시키라 이렇게 나한테 말을 하는 거야. 그게 난 너무 짜증나가지고 이제 전화를 하긴 했다. 했는데 얘가 영 이제 사춘기가 뒤늦게 왔는지 영 얘가 퉁명스럽고 내가 그래도 수능 선밴데 내 얘기를 안 들을려하고 자기가 학원대로 할려는 거야. 아~ 그래서 너무 어제 스트레스 받아가지고 어~ 친언니도 있거든. 나 그래서 친언니랑 이제 둘이서 완전 얘를 어뜨케 해야 되나 하고 이제 스 같이 토론을 했던 그런 기억이 있거든. 어제 그~ 언니도 혹시 동생 있어?',\n",
       "        '너랑 나랑 완전 똑같은 거 같은데 나도 언니 한 명이 있고 남동생 한 명 있거든. 근데 딱 역시 다들 비슷한 거 같애. 요새 내 남동생도 내 남동생은 공부를 스 잘하는 편이야. 그래가지구 어~ 그래가지고 자기 혼자서 공부를 하는데 이건 또 나쁜 점이 이제 나를 무시를 해. 나도 그래두 얘랑 성적이 비슷하 비슷했 하긴 했었는데 얘가 교육 과정이 달라지면서 이제 수학 문제 들고 와가지구 나한테 어~ 문제 풀 때 오 분에서 십 분 정도는 걸릴 거 아니야. 근데 가져와가지고 모른 척하면서 물어보고 내가 모르면 이제 어~ 너는 이런 것도 모르냐 아~ 너무 멍청하다 이런 식으로 말을 하고 도망가니까 이제 언니랑 나랑 어~ 이제 걔가 문제를 물어보면 거의 무시하는 정도로  지나쳐. 그런 걸 보면 너 남동생이랑 친한 거 같은데 언니랑도 친해?',\n",
       "        '0'],\n",
       "       ['너랑 나랑 완전 똑같은 거 같은데 나도 언니 한 명이 있고 남동생 한 명 있거든. 근데 딱 역시 다들 비슷한 거 같애. 요새 내 남동생도 내 남동생은 공부를 스 잘하는 편이야. 그래가지구 어~ 그래가지고 자기 혼자서 공부를 하는데 이건 또 나쁜 점이 이제 나를 무시를 해. 나도 그래두 얘랑 성적이 비슷하 비슷했 하긴 했었는데 얘가 교육 과정이 달라지면서 이제 수학 문제 들고 와가지구 나한테 어~ 문제 풀 때 오 분에서 십 분 정도는 걸릴 거 아니야. 근데 가져와가지고 모른 척하면서 물어보고 내가 모르면 이제 어~ 너는 이런 것도 모르냐 아~ 너무 멍청하다 이런 식으로 말을 하고 도망가니까 이제 언니랑 나랑 어~ 이제 걔가 문제를 물어보면 거의 무시하는 정도로  지나쳐. 그런 걸 보면 너 남동생이랑 친한 거 같은데 언니랑도 친해?',\n",
       "        '내가 언니랑 네 살 차이 나거든. 그래서 언니는 이미 직장인이고 어~ 동생이랑은 다섯 살 차이나. 그래서 이제 언니랑 동생이랑 나이 차이가 많아서 둘이 되게 친하고 나는 근데 언니랑은 쫌 친한데 동생이랑은 또 안 친해. 그래서 어~ 이게 문제가 뭐냐면 언니가 직장인이고 내랑 친하니까 자꾸 이제 가족의 일은 나한테 말하는 거야. 그  굉장히 스트레스거든. 나는 그래서 기숙사에 있는데도 불구하고 우리 집 사정을 이제 훤히 다 알게 되는 그런 부작용이 있는 거야. 그래서 언니는 이제 나보다 졸업한 지 오래됐으니까 내보고 이제 그~ 어떻게 교육 방침을 나한테 설정을 하라고 하는데 아~ 나는 요즘에 문과 이과 없어진 거 처음 알았거든. 처음 알아가지고 아무것도 모르는데 걔가 언니 남동생처럼 나를 걍 무시하는 거야. 근데 무시하는 게 내가 어릴 때 쫌 때리고 안 이렇게 때리고 또 기를 작으 죽여놨어야 되는데 이제 언니도 나이가 많고 나도 나이 차이가 쫌 나니까 오냐 오냐 길렀던 거 같애. 그래서 얘가 키도 쫌 크자 크거든. 커 크니까 이제 나를 만만하게 보는 거야. 그래갖고 언니랑 어제께도 아~ 얘를 어릴 때 쫌 때렸어야 되는데  쫌 폭력적인 그런 얘기도 나왔었거든. 근데 언니는 만약에 남동생이 그러면 무시하고 그러면은 뭐 어떻게 대응을 해? 친언니랑',\n",
       "        '0'],\n",
       "       ['내가 언니랑 네 살 차이 나거든. 그래서 언니는 이미 직장인이고 어~ 동생이랑은 다섯 살 차이나. 그래서 이제 언니랑 동생이랑 나이 차이가 많아서 둘이 되게 친하고 나는 근데 언니랑은 쫌 친한데 동생이랑은 또 안 친해. 그래서 어~ 이게 문제가 뭐냐면 언니가 직장인이고 내랑 친하니까 자꾸 이제 가족의 일은 나한테 말하는 거야. 그  굉장히 스트레스거든. 나는 그래서 기숙사에 있는데도 불구하고 우리 집 사정을 이제 훤히 다 알게 되는 그런 부작용이 있는 거야. 그래서 언니는 이제 나보다 졸업한 지 오래됐으니까 내보고 이제 그~ 어떻게 교육 방침을 나한테 설정을 하라고 하는데 아~ 나는 요즘에 문과 이과 없어진 거 처음 알았거든. 처음 알아가지고 아무것도 모르는데 걔가 언니 남동생처럼 나를 걍 무시하는 거야. 근데 무시하는 게 내가 어릴 때 쫌 때리고 안 이렇게 때리고 또 기를 작으 죽여놨어야 되는데 이제 언니도 나이가 많고 나도 나이 차이가 쫌 나니까 오냐 오냐 길렀던 거 같애. 그래서 얘가 키도 쫌 크자 크거든. 커 크니까 이제 나를 만만하게 보는 거야. 그래갖고 언니랑 어제께도 아~ 얘를 어릴 때 쫌 때렸어야 되는데  쫌 폭력적인 그런 얘기도 나왔었거든. 근데 언니는 만약에 남동생이 그러면 무시하고 그러면은 뭐 어떻게 대응을 해? 친언니랑',\n",
       "        '어~ 나는 친언니 가 나랑 세 살 차이가 나가지고 이제 대학 입학을 서울로 해가지고 지금 떨어져 지낸 지 거의 육 년 칠 년 돼가가지고 어~ 언니랑은 잘 안 싸우는데 동생 같은 경우는 너 말처럼 애기 때부터 때려서 키워가지고 그런가 이렇게 깝쭉거리긴 하는데 한 번 인상 찌푸리면 바로 꼬리를 내리더라고. 그런 거 보면 나쁘지 않긴 한데 얘가 너무 위쭉 되지 않나 싶어가지고 가끔은 미안하기도 해. 어~ 그런 거 너는 언니랑 더 친하다고 했는데 나는 언니랑 육 년 동안 떨어져 지내서 그런지 어~ 남동생이랑 더 친하구 언니랑 남동생이랑은 별로 안 친한데 어~ 떨어져 지내면 더 친해지지 않아? 남동생 같은 경우도 너한테 더 잘해주지 않아?',\n",
       "        '0'],\n",
       "       ['어~ 나는 친언니 가 나랑 세 살 차이가 나가지고 이제 대학 입학을 서울로 해가지고 지금 떨어져 지낸 지 거의 육 년 칠 년 돼가가지고 어~ 언니랑은 잘 안 싸우는데 동생 같은 경우는 너 말처럼 애기 때부터 때려서 키워가지고 그런가 이렇게 깝쭉거리긴 하는데 한 번 인상 찌푸리면 바로 꼬리를 내리더라고. 그런 거 보면 나쁘지 않긴 한데 얘가 너무 위쭉 되지 않나 싶어가지고 가끔은 미안하기도 해. 어~ 그런 거 너는 언니랑 더 친하다고 했는데 나는 언니랑 육 년 동안 떨어져 지내서 그런지 어~ 남동생이랑 더 친하구 언니랑 남동생이랑은 별로 안 친한데 어~ 떨어져 지내면 더 친해지지 않아? 남동생 같은 경우도 너한테 더 잘해주지 않아?',\n",
       "        ' 나도 원래 가족은 쫌 쩌 떨어져야지 쫌 애틋함이 있다 이런 말이 있잖아. 그래서 나는 초반에는 어~ 내가 본가가 저쪽에 있고 내가 여기 있으니까 처음에는 되게 애틋하고 그런 감정이 들었는데 에~ 그래서 친언니도 되게 나한테 기프티콘 막 보내주고 막 치킨 이런 거 사주고 그래가지고 난 되게 좋았거든. 좋고 이제 업 엄마 아빠도 막 잘 지내냐 이런 식으로 물어봐가지고 나는 되게 애틋함이 되게 컸었어. 근데 남동생은 내가 이렇게 멀리 기숙사  과제하고 있는데 전화를 한 통 안 하는 거야. 전화도 한 통 안 하고 카톡 하면 완전 씹고 그~ 언니 아이유 알지. 아이유가 되게 유명한 연예인인데 남동생이 하나 있잖아. 근데 걔가 용돈을 준다고 하니까 대답하는 그런 짤방이 있거든. 그래서 그거 보고 난 느꼈어. 아~ 얜 나랑 진짜 비슷하구나. 얘는 내가 뭐 사준다거나 뭐 생일이거나 이런 때만 답이 오고 평소에는 진짜 답을 하나도 안 하는 거야. 안읽씹이라고 알지. 그냥 읽고 씹는 것도 아니고 안 읽고 그냥 무시를 하는 거야. 그래서 난 너무 화가 나가지고 그때 옛날에 그~ 여름방학 때 내려가서 대판 싸웠거든. 근데 대판 싸워도 사춘기여서 안 고쳐지드라고. 그래서 그냥 포기했어. 나는 관계를 포기하고 그냥 사람으로 만들자 이게 나의 모토거든. 근데 만약에 쫌 부모님이 그런 데 그런 거 보시면은 별말 안 해? 나는 되게 부모님이 그런 거 보고 있으면 넌 나이가 그렇게 먹어서도 싸우냐 이렇게 말하시거든. 언니는 네는 어때?',\n",
       "        '0'],\n",
       "       [' 나도 원래 가족은 쫌 쩌 떨어져야지 쫌 애틋함이 있다 이런 말이 있잖아. 그래서 나는 초반에는 어~ 내가 본가가 저쪽에 있고 내가 여기 있으니까 처음에는 되게 애틋하고 그런 감정이 들었는데 에~ 그래서 친언니도 되게 나한테 기프티콘 막 보내주고 막 치킨 이런 거 사주고 그래가지고 난 되게 좋았거든. 좋고 이제 업 엄마 아빠도 막 잘 지내냐 이런 식으로 물어봐가지고 나는 되게 애틋함이 되게 컸었어. 근데 남동생은 내가 이렇게 멀리 기숙사  과제하고 있는데 전화를 한 통 안 하는 거야. 전화도 한 통 안 하고 카톡 하면 완전 씹고 그~ 언니 아이유 알지. 아이유가 되게 유명한 연예인인데 남동생이 하나 있잖아. 근데 걔가 용돈을 준다고 하니까 대답하는 그런 짤방이 있거든. 그래서 그거 보고 난 느꼈어. 아~ 얜 나랑 진짜 비슷하구나. 얘는 내가 뭐 사준다거나 뭐 생일이거나 이런 때만 답이 오고 평소에는 진짜 답을 하나도 안 하는 거야. 안읽씹이라고 알지. 그냥 읽고 씹는 것도 아니고 안 읽고 그냥 무시를 하는 거야. 그래서 난 너무 화가 나가지고 그때 옛날에 그~ 여름방학 때 내려가서 대판 싸웠거든. 근데 대판 싸워도 사춘기여서 안 고쳐지드라고. 그래서 그냥 포기했어. 나는 관계를 포기하고 그냥 사람으로 만들자 이게 나의 모토거든. 근데 만약에 쫌 부모님이 그런 데 그런 거 보시면은 별말 안 해? 나는 되게 부모님이 그런 거 보고 있으면 넌 나이가 그렇게 먹어서도 싸우냐 이렇게 말하시거든. 언니는 네는 어때?',\n",
       "        '어~ 나는 이제 쫌 언니랑 나랑 되게 많이 고등학교 때부터 싸워가지고 이제 동생이랑 나랑 싸웃 싸울 때는 요새는 동생이 쪼끔 말을 잘 듣긴 하는데 언니랑 나랑 싸울 때 부모님한테 되게 혼 혼이 났어. 그래서 이제 언니랑 남동생이랑 어렸을 때 싸워도 연대 책임이라고 알지. 그래서 연대 책임으로 나까지  혼이나 그래서 나는 부모님 안 계실 때 거의 싸울려고 노력을 하는데  어~ 일단 남동생이 잘못 같은 거  하거나 예를 들어서 너도 께임 좋아하잖아. 나도 께임 좋아하니까 께임기가지구 갖고 놀고 있었는데 이제 그거를 남동생이 못하도록 숨겨놨는데 얘가 알고 어딨는지 알고 몰래 해버린 거야. 그래가지고 내 께임 데이터가 다 사라지고 막 걔가 이제 새 께임으로 해야 해서 쫌 께임을 더 이상 할 수 어 없는 상태로 만들어놔서 되게 화가 났었는데 그~ 이게 부모님이 계셔가지구 걔한테 께임가지구 뭐라고 한다고 잔소리를 받을 수 있으니까 두고두고 쌓아놨다가 이제 부모님 안 계실 때 딱 터트려가지고 걔한테 되게 미안하다고 사과를 받은 적이 있어. 너는 그런 거 가지고 싸운 적이 없어?',\n",
       "        '0'],\n",
       "       ['어~ 나는 이제 쫌 언니랑 나랑 되게 많이 고등학교 때부터 싸워가지고 이제 동생이랑 나랑 싸웃 싸울 때는 요새는 동생이 쪼끔 말을 잘 듣긴 하는데 언니랑 나랑 싸울 때 부모님한테 되게 혼 혼이 났어. 그래서 이제 언니랑 남동생이랑 어렸을 때 싸워도 연대 책임이라고 알지. 그래서 연대 책임으로 나까지  혼이나 그래서 나는 부모님 안 계실 때 거의 싸울려고 노력을 하는데  어~ 일단 남동생이 잘못 같은 거  하거나 예를 들어서 너도 께임 좋아하잖아. 나도 께임 좋아하니까 께임기가지구 갖고 놀고 있었는데 이제 그거를 남동생이 못하도록 숨겨놨는데 얘가 알고 어딨는지 알고 몰래 해버린 거야. 그래가지고 내 께임 데이터가 다 사라지고 막 걔가 이제 새 께임으로 해야 해서 쫌 께임을 더 이상 할 수 어 없는 상태로 만들어놔서 되게 화가 났었는데 그~ 이게 부모님이 계셔가지구 걔한테 께임가지구 뭐라고 한다고 잔소리를 받을 수 있으니까 두고두고 쌓아놨다가 이제 부모님 안 계실 때 딱 터트려가지고 걔한테 되게 미안하다고 사과를 받은 적이 있어. 너는 그런 거 가지고 싸운 적이 없어?',\n",
       "        '나는 그런 적으로는 싸운 적 없는데 자꾸 이제 학업 쪽으로 나한테 트러블이 생기는 거야. 얘가 그~ 롤이라고 해가지고 그~ 인터넷 께임 같은 걸 되게 많이 하는데 그걸 내 컴퓨터에서 계속하는 거야. 근데 집에는 자기 컴퓨터가 없거든.  내 컴퓨터로 깔아가지고 용량 진짜 많은데 그거 깔아가지고 하고 있는 거야. 그래서 나는 그거 때문에 열 받쳐가지고 쫌 많이 싸웠던 거 같애. 어~ 그래서 그래서 약간 오히려 이제 엄머 엄마 아빠는 이제 니 컴퓨터로 하니까 니가 쫌 어떻게 관리를 해라 하면서 내 탓으로 이제 돌리시는 경향이 있거든. 그래서 쫌 약간 어릴 때 쫌 스트레스 스 였던 거 같애. 그게 원래 언니 있고 남동생 있고 그러면 둘째가 약간 샌드위치 라고 해가지고 쫌 언니 말처럼 주 중간에 이제 많이  치고박고 이렇게 싸우잖아. 언니한테는 언니니까 잘해라하고 동생한테 동생이니까 잘 챙겨라 이러잖아.  나는 어릴 때 그거 때문에 되게 속상했던 기억이 많아. 그래서 어~ 아~ 하나 기억나는 에피소드가 있는데 언니가 생일이어가지고 언니 친구 끼리 생일 파티를 하러 갔는데 내가 근데 그때는 어려가지고 언니 친구의 생일 파틴데 내가 따라간 거야. 그래서 언니랑 되게 싸웠었거든. 내가 그렇게 쫌 웃기는 에피소드가 있었는데 언니는 그~ 샌드위치 중간에 끼어가지고 쫌 웃겼던 그런 에피소드 있어? 막 재밌는 거 말이야. ',\n",
       "        '0'],\n",
       "       ['나는 그런 적으로는 싸운 적 없는데 자꾸 이제 학업 쪽으로 나한테 트러블이 생기는 거야. 얘가 그~ 롤이라고 해가지고 그~ 인터넷 께임 같은 걸 되게 많이 하는데 그걸 내 컴퓨터에서 계속하는 거야. 근데 집에는 자기 컴퓨터가 없거든.  내 컴퓨터로 깔아가지고 용량 진짜 많은데 그거 깔아가지고 하고 있는 거야. 그래서 나는 그거 때문에 열 받쳐가지고 쫌 많이 싸웠던 거 같애. 어~ 그래서 그래서 약간 오히려 이제 엄머 엄마 아빠는 이제 니 컴퓨터로 하니까 니가 쫌 어떻게 관리를 해라 하면서 내 탓으로 이제 돌리시는 경향이 있거든. 그래서 쫌 약간 어릴 때 쫌 스트레스 스 였던 거 같애. 그게 원래 언니 있고 남동생 있고 그러면 둘째가 약간 샌드위치 라고 해가지고 쫌 언니 말처럼 주 중간에 이제 많이  치고박고 이렇게 싸우잖아. 언니한테는 언니니까 잘해라하고 동생한테 동생이니까 잘 챙겨라 이러잖아.  나는 어릴 때 그거 때문에 되게 속상했던 기억이 많아. 그래서 어~ 아~ 하나 기억나는 에피소드가 있는데 언니가 생일이어가지고 언니 친구 끼리 생일 파티를 하러 갔는데 내가 근데 그때는 어려가지고 언니 친구의 생일 파틴데 내가 따라간 거야. 그래서 언니랑 되게 싸웠었거든. 내가 그렇게 쫌 웃기는 에피소드가 있었는데 언니는 그~ 샌드위치 중간에 끼어가지고 쫌 웃겼던 그런 에피소드 있어? 막 재밌는 거 말이야. ',\n",
       "        '어~ 나는 어~ 나도 생일 하니까 기억이 났던 에피소드 중 하나가 언니랑 동생은 생일이 삼 월인데 나는 생일이 일월이란 말이야. 근데 이제 초등학교 때는 생일 파티를 삼월 달에 이제 학교 다닐 때에 생일인 애들은 항상 생일 파티를 하는데 나같이 일월에 생일인 애들은 인제 방학이니까 잊혀질쯤에 초등학교 때는 핸드폰도 없으니까 연락도 못하구 잊혀질쯤에 생일이니까 이게 생일 파티를 진행을 못 하는 거야. 그래서 이제 언니랑 남동생이 항상 생일 파티를 하는데 나는 못해가지구 어린 마음에 나도 삼월을 생 삼월로 생일을 옮겨가지구 이제 언니 생일 파티 때 언니 친구들이 왔는데 내 생일 파티 마냥 해가지구 막 해가지고 언니 친구들이 고맙게도 내 선물까지 챙겨 온 기억이 있어. 그런 걸 보면 이제 언니한테도 고맙긴 하는데 너는 따로 형제한테 고마운 기억이 있어?',\n",
       "        '0'],\n",
       "       ['어~ 나는 어~ 나도 생일 하니까 기억이 났던 에피소드 중 하나가 언니랑 동생은 생일이 삼 월인데 나는 생일이 일월이란 말이야. 근데 이제 초등학교 때는 생일 파티를 삼월 달에 이제 학교 다닐 때에 생일인 애들은 항상 생일 파티를 하는데 나같이 일월에 생일인 애들은 인제 방학이니까 잊혀질쯤에 초등학교 때는 핸드폰도 없으니까 연락도 못하구 잊혀질쯤에 생일이니까 이게 생일 파티를 진행을 못 하는 거야. 그래서 이제 언니랑 남동생이 항상 생일 파티를 하는데 나는 못해가지구 어린 마음에 나도 삼월을 생 삼월로 생일을 옮겨가지구 이제 언니 생일 파티 때 언니 친구들이 왔는데 내 생일 파티 마냥 해가지구 막 해가지고 언니 친구들이 고맙게도 내 선물까지 챙겨 온 기억이 있어. 그런 걸 보면 이제 언니한테도 고맙긴 하는데 너는 따로 형제한테 고마운 기억이 있어?',\n",
       "        '나는 청소년 때까지는 고마운 적이 없었어. 왜냐하면 자꾸 싸우기만 하고 약간 뭐 서로 탓하고 막 그런 그랬던 시절이 쫌 길어가지고 근데 이제 어른 성인 되고 나서는 약간 이제 서로 좀 챙겨 주고 그래도 혈육이  니까 쫌 잘 챙겨 주자 이런 마인드로 이제 잘 챙겨 줘서 이제 최근에 쫌 고마운 게 쫌 내가 좀 먹고 싶다 하는 거 있으면 뭐 치킨 같은 거 막 먹어 먹고 살아라 기숙사니까 쫌 잘 못 먹고 살지 않냐 이래가지고 기프티콘 쏴주고 이런 거는 쫌 고맙더라고. 어~ 그리고 어~ 부모님도 이제 쫌 약간 뭐 이불 같은 거 새로 보내주시고 이~ 최근에 내가 벌레가 나왔거든. 벌레가 기숙사에 나왔었는데 그거 뭐 방충망 이런 것도 막 보내주신다고 하 해가지고 일단 거절은 했는데 그런 걸 잘 챙겨 주시는 그런 게 좋더라고. 근데 내가 음~ 쫌 고민이 되는 게 우리 집이 약간 쫌 아버지가 약간 쫌 쎄시거든. 약간 말하는 것도 쎄시고 약간 무뚝뚝한 자연적인 그런 경상도 남자란 말이야. 근데 그래서 그런지 내가 아버지랑 약간 좀 어색한 그런 감이 쫌 없지 않아 있어. 그래서 내가 여기 와서 놀랬던 게 되게 이제 아버지랑 되게 잘 지내시는 분들이 되게 많더라고. 그~ 동기 들 편입생 언니들 얘기들 들어 보면 그렇더라고. 그래서 혹시 언니는 이제 아빠랑 얘기를 잘하는지 쫌 궁금해. 그런 게',\n",
       "        '0'],\n",
       "       ['나는 청소년 때까지는 고마운 적이 없었어. 왜냐하면 자꾸 싸우기만 하고 약간 뭐 서로 탓하고 막 그런 그랬던 시절이 쫌 길어가지고 근데 이제 어른 성인 되고 나서는 약간 이제 서로 좀 챙겨 주고 그래도 혈육이  니까 쫌 잘 챙겨 주자 이런 마인드로 이제 잘 챙겨 줘서 이제 최근에 쫌 고마운 게 쫌 내가 좀 먹고 싶다 하는 거 있으면 뭐 치킨 같은 거 막 먹어 먹고 살아라 기숙사니까 쫌 잘 못 먹고 살지 않냐 이래가지고 기프티콘 쏴주고 이런 거는 쫌 고맙더라고. 어~ 그리고 어~ 부모님도 이제 쫌 약간 뭐 이불 같은 거 새로 보내주시고 이~ 최근에 내가 벌레가 나왔거든. 벌레가 기숙사에 나왔었는데 그거 뭐 방충망 이런 것도 막 보내주신다고 하 해가지고 일단 거절은 했는데 그런 걸 잘 챙겨 주시는 그런 게 좋더라고. 근데 내가 음~ 쫌 고민이 되는 게 우리 집이 약간 쫌 아버지가 약간 쫌 쎄시거든. 약간 말하는 것도 쎄시고 약간 무뚝뚝한 자연적인 그런 경상도 남자란 말이야. 근데 그래서 그런지 내가 아버지랑 약간 좀 어색한 그런 감이 쫌 없지 않아 있어. 그래서 내가 여기 와서 놀랬던 게 되게 이제 아버지랑 되게 잘 지내시는 분들이 되게 많더라고. 그~ 동기 들 편입생 언니들 얘기들 들어 보면 그렇더라고. 그래서 혹시 언니는 이제 아빠랑 얘기를 잘하는지 쫌 궁금해. 그런 게',\n",
       "        '어~ 나는 부모님이랑 성인이 되고 나서 친해진 편이긴 한데 어렸을 때는 아니 가족 자체가 말 수가 되게 없는 편이어가지구 어~ 내가 예를 들어서 학교에 무슨 일이 있어 무슨 일이 있어가지구 재밌는 일이 있어가지구 집에 와서 밥 먹는 시간 동안 이제 나 이런 이런 이런 일을 했고 친구들이랑 이렇게 놀았다 그렇게 하면 어~ 재밌었겠다 이런 말이라도 해줬으면 고마웠을 텐데 공부나 하지 왜 그런 거를 하 하고 앉아 있냐 공부를 해라 이런 식으로 말을 해가지구 나는 압  아버지가 그런 식으로 말을 하셔가지구 나는 되게 아빠랑 사이가 안 좋았다가 이제 어~ 성인이 되고 나서 아빠의 성격이 쪼끔 바뀌기 시작하면서 지그 지금도 쪼끔 어색하긴 하지만 어~ 주말 주말에 밥도 같이 먹을려고 노력을 하고 이제 효도를 할려고 노력 중이야. 너는 그러면 엄마랑은 친해?',\n",
       "        '0'],\n",
       "       ['어~ 나는 부모님이랑 성인이 되고 나서 친해진 편이긴 한데 어렸을 때는 아니 가족 자체가 말 수가 되게 없는 편이어가지구 어~ 내가 예를 들어서 학교에 무슨 일이 있어 무슨 일이 있어가지구 재밌는 일이 있어가지구 집에 와서 밥 먹는 시간 동안 이제 나 이런 이런 이런 일을 했고 친구들이랑 이렇게 놀았다 그렇게 하면 어~ 재밌었겠다 이런 말이라도 해줬으면 고마웠을 텐데 공부나 하지 왜 그런 거를 하 하고 앉아 있냐 공부를 해라 이런 식으로 말을 해가지구 나는 압  아버지가 그런 식으로 말을 하셔가지구 나는 되게 아빠랑 사이가 안 좋았다가 이제 어~ 성인이 되고 나서 아빠의 성격이 쪼끔 바뀌기 시작하면서 지그 지금도 쪼끔 어색하긴 하지만 어~ 주말 주말에 밥도 같이 먹을려고 노력을 하고 이제 효도를 할려고 노력 중이야. 너는 그러면 엄마랑은 친해?',\n",
       "        '어~ 효도한다는 그런 생각 되게 좋은 거 같애. 나는 이제 아직 아직 내가 어린 거 같아서 그런 식으로 생각은 해본 적 없는데 음~ 내가 언니가 있기도 하고 그래서 생각은 해본 적 없는데 그런 마인드 가지는 건 되게 좋은 거 같애. 어~ 나는 근데 엄마랑도 쫌 어색했었거든.  어릴 때 근데 내가 그때 옛날에 수술을 크게 한 적 있어가지고 어~ 수술을 할라면 이제 보호자가 있어야 되잖아. 그래갖고 이제 우리는 이제 간병인 이런 거 안 쓰고 이제 어머니가 이제 보호자로 오셨는데 그때 되게 많이 챙겨 주셔 가지고 어~ 그때부터 약간 되게 친해졌던 거 같애. 그때가 아마 중학교 땐가 그랬었 던 거거든. 그래서 그때 쫌 챙겨 주시면서 아~ 이제 어~ 엄마가 괜히 엄마 아니구나 하면서 으 되게 그~ 드라마에 나오는 뭐 어머니의  사랑 이런 거 비슷한 거를 쫌 느껴봤던 거 같애. 근데  스 그래 그래 온 그러니까 상대적으로 이제 아버지는 약간 소홀하다 약간 이런 식으로 서운함을 느꼈던 거 같애. 근데 언니 말 들으니까 생각나는 게 그~ 약간 갱년기라는 게 있잖아. 우리가 많이 배웠잖아. 그~ 실제 수업에서도 배웠는데 그게 남자한테도 온다 하더라고. 갱년기가 그래서 그런가 요즘 아빠가 쫌 약간 서운 감정을 표현하는 표현하지 않으면은 막 서운해하고 그런 모습을 보인단 말이야. 그래서 약간 갱년기 오신 거 같거든. 어~ 언니네 부모님은 어때?',\n",
       "        '0'],\n",
       "       ['일단 가족 소개를 좀 해볼까요?',\n",
       "        '네. 저는 이제 우리 부모님 어머니 아버지 그리고 오빠가 둘이 있어요. 그리고 이제 막내로 컸습니다. 근데 이제 아버지는 어~ 돌아가셨어요. 그~ 되게 기억에 남는 게 우리 둘째 &name&이 낳고 그 해에 돌아가셔서 이제 그~ 해가 이제 쫌 많이 기억에 남는 해죠. 아버지가 돌아가시면서 어~ 그래서 부모님과의 그런 유대 관계도 되게 중요한 거 같고 어~ 어떻게 보면 부모님들 간의 관계도 되게 중요는 한 거 같애요. 그래서 어쨌든 우리 아버지 지금 생각할 땐 아버지가 참 많이 나를 사랑하셨구나 그건 있어요. 돌아가신 아버지에 대한 기억이 어쨌든 긍정적이긴 합니다. 또 엄마도 또 긍정적이긴 하고 오빠 둘 전혀 유대 관계가 없이 컸습니다.  저랑 이케 자라면서 성이 다르고 하다보니까 그러나. 대화를 많이 하거나 그렇게 크진 않은 거 같애요. 그리고 이제 혼자서 이제 혼자 어~ 이렇게 막내 딸로 이렇게 컸습니다. 우리 선생님은 어떻게 ',\n",
       "        '0'],\n",
       "       ['네. 저는 이제 우리 부모님 어머니 아버지 그리고 오빠가 둘이 있어요. 그리고 이제 막내로 컸습니다. 근데 이제 아버지는 어~ 돌아가셨어요. 그~ 되게 기억에 남는 게 우리 둘째 &name&이 낳고 그 해에 돌아가셔서 이제 그~ 해가 이제 쫌 많이 기억에 남는 해죠. 아버지가 돌아가시면서 어~ 그래서 부모님과의 그런 유대 관계도 되게 중요한 거 같고 어~ 어떻게 보면 부모님들 간의 관계도 되게 중요는 한 거 같애요. 그래서 어쨌든 우리 아버지 지금 생각할 땐 아버지가 참 많이 나를 사랑하셨구나 그건 있어요. 돌아가신 아버지에 대한 기억이 어쨌든 긍정적이긴 합니다. 또 엄마도 또 긍정적이긴 하고 오빠 둘 전혀 유대 관계가 없이 컸습니다.  저랑 이케 자라면서 성이 다르고 하다보니까 그러나. 대화를 많이 하거나 그렇게 크진 않은 거 같애요. 그리고 이제 혼자서 이제 혼자 어~ 이렇게 막내 딸로 이렇게 컸습니다. 우리 선생님은 어떻게 ',\n",
       "        '막내라서 사랑을 되게 많이 받았을 거 같애요.', '0'],\n",
       "       ['아니요. 아닌 거 같애요. 저는 근까 엄마는 저를 어렸을 때 많이 어~ 딸 하나니까 예뻐는 했던 거 같고 근데 아빠랑 관계가 그렇게 안 좋았던 거 같애요. 어~ 아빠랑 많이 관계가 안 좋았고 그래 사랑받았다는 느낌보다는 저를 항상 못난이라고 했거든요. 애칭이었 지금 보니까 애칭이었는데 항상 너는 못난이야 하도 그래서 그~ 외모 콤플렉스가 있이 컸어요. 진짜 그 소릴 너무 많이 들었으니까 평생  딱지 붙게 못난이라고 했어요. 아빠가 저를 그니까 진짜 얼굴이 난 못생겼다라는 거 그거 거기서부터 내 자존감이 이제 만들어진 거예요. 항상 자신감 없고 이게 음~ 근데 많이 이케 막 그런 부족함을 많이 갖고 크지는 않았던 거 같애요. 성향이 워낙 소심하고 그래서 그런 거지 예. 근데 막 듬뿍한 사랑은 아~ 없었습니다. ',\n",
       "        '근데 진짜 마 말이 진짜 중요한 거 같애요. 근데 그건 진짜 애칭이었는데 어~ 이렇게 딸이 받았을 거라고는 아마 전혀 생각을 못하셨을 거예요. 그러니까 계속 그렇게 쓰셨겠죠. 저도 그~ 부모님 에~ 부모님 계시고 언니 첫째가 언니고 둘째가 오빠고 어~ 제가 막내다 보니까 딸 두 명에 아들 하난데 그 순서도 첫째가 딸 둘째가 아들 에~ 이렇게 딸 이게 근데 왜 그럴까를 생각했을 때 첫째는 첫째니까 사랑받는 거예요. 첫째는 에~ 그리고 둘째는 아들이니까 사랑을 받아요. 그리고 셋째는 막내라서 에~ 그래서 이게 어~ 또 그~ 아버지가 아버지가 워낙에 자식을 좋아하는 에~ 워낙에 자식을 좋아하는 그~ 성향이다 보니까 근데 그게 아버지가 쥐띠거든요. 근데 띠를 공부하시는 분이 그런 얘기는 하시더라고요. 쥐가 어딜 가서 말 많이 모아오잖아요. 양식을 음~ 그런 거처럼 막 밖에 가서 막 이렇게 한다기보다는 이렇게 쫌 안으로  내 사람들 챙기고 내 가족들 챙기고 어~ 되게 위하고  이런 것들이 크다 하더라고요.  모르겠어요. 그런 것들이 있어서 그런지 모르겠지만 뭐 아버지도 뭐 젊었을 때는 엄마 속 많이 썩였어요. 근데  지금은 되게 가정적이고 하신데 어쨌든 자식은 되게 사랑하셔가지고 어~ 언니도 어~ 되게 이뻐하시고 어~ 오빠도 그렇고  막내 솔직히 엄마 욕심에는 인제 둘째를 낳고 난 다음에 의사 선생님이 절대 낳지를 말라고 했어요. 왜냐 몸이 워낙 약했었기 때문에 어~ 오빠도 인제 죽다 살아났기 때문에 오늘날로 보자면 인큐베이터 같은 데 들어가 있다가 나와서 이게 산모도 위험하고 애기도 위험하다 셋째는 절대 가지면 안 된다 이렇게 얘길 했는데 엄마가 자식 욕심이 좀 있어요. 그리고 낳을 거라는 생각을 안 했을 수 있는데 어쨌든 제가 생긴 거예요. 어~  생겼는데 또 시골에서 그~ 경운기 타고 가다가 저를 밴 상태에서 구르시고 오토바이를 타고 가다가 사고 나서 저를 또 이렇게 가진 상태에서 떨어지고  세 번이나 사고를 당했는데도 얘가 있었던 거야. 이 뱃속에 너무 미안한고 얘한테 그까 의도한 건 아닌데 에~ 이게 관리를 어쨌든 잘 못해서 사고가 나고 그럼에도 얘가 붙어있는 게 얘한테 정말 잘해야 되겠다 란 생각이 들었대요. 그러고 나서 딱 태어났는데 남자 같이 생겼는데 갑자기 공주님이다라고 해서 깜짝 놀랬다는 거예요.  그런데 엄마는 되게 실망했대요. 솔직히 셋째를 아들을 낳고 싶었대요. 근데 아빠는 너무 좋아했다는 거예요. 딸이라서 에~ 그래서 이게 아들 딸 상관없이 되게 예뻐하셨어요. 아빠는 어쨌든 그리고 어렸을 때부터 사실 엄마보다는 아빠랑 더 많이 친했던 거 같애요. 유대감이나 이런 것들이 그래서 뭐 들이나 논 이런 데 갈 때 항상 뒤에 오토바이 아빠 뒤에 탁 붙어서 막 이렇게 껴안고 또 자전거를 타고 이렇게 다녔던 기억이 되게 많고 아빠가 인제 자영업 농기계 수리점을 하시거든요. 그니까 항상 어렸을 때 본 건 라디오 틀어놓고 농기계를 수리하시는 모습이에요. 음~ 그래서 이게 농기계 수리점이다 보니까 거의 동네의 중심이 돼버려서 뭐 아저씨들 항상 와서 뭐 술 드시고  술 드셔야 되니까 뭐 안주 뭐 별 좋은 건 아니지만 그~ 술잔 내오면서 항상 이제 어른들한테 인사하고 이게 이게 사람을 맞이하는 이런 부분에 있어서 그런 환경들이 있다보니까 이게 자연스러운을 거예요. 사람을 대하는 게 어~ 특히나 이제 어른들한테 어~ 그래서 항상 인사하고 어~ 다 동네 아는 분들이니까 뭐 옷 지나 오 옷 오며 가며 어~ 두 번 세 번을 만나도 늘 인사하니까 밝게 그러니까 인제 이미지는 좋았죠. 동네에서 음~ 되게 인사 잘한다고 인사성 좋다고 그래서 그렇게 하다보니까 아빠는 항상 일하고 막 용접하고 뭘 납땜을 하고 이럴 때 옆에서 항상 쫑알쫑알대면서 학교 생활 얘기하고 뭐 뭐 이런 얘기하고  이런 것들이 그런 것들은 되게 소통이 잘 됐던 거 같애요. 음~ 학습적인 걸 해주신 건 하나도 없는데 그런 소통은 되게 잘해주셔서  이렇게 사는 게 당연하다고 생각을 했던 거예요.  정해진 틀 안에서 뭐 우리 뭐 또래만 이렇게 대화를 하고 그게 아니라  어른들이랑 어~ 또는 뭐 부모님이랑 나이가 들면서는  엄마랑의 대화가 훨씬 더 많아지더라구요. 왜냐면 여자들만이 대화를 할 수 있는 그런 주제들이 생겨나면서  자연스럽게 아빠보다는 에~ 엄마랑 더 얘기를 많이 하는 에~ 그래서 이제 최근에도 고향에 뭐 에~ 뭐 예기치 못하게 어쨌든 갔다 왔는데 그때에도 어쨌든 집에 있는 동안은 그냥 내 방에 틀어박혀 있는 거보다는 음~ 기왕에 인제 갔으면은 또 엄마 아빠랑 얘기를 좀 많이 하고 많이 도와드릴려고 그렇게 노력을 했어서 어~ 엄마랑 대화를 진짜 되게 많이 했어요.  그래서 워낙에 인제 그~ 경상도 분들이라 아무리 잘해줘도 잘해주는 게 느껴지는데 말로 표현은 안 해요. 못해요. 닭살스러워서 근데 갈 때쯤 되니까 인제 엄마가 그런 얘길 하더라고요. 니가 옆에서 이렇게 쫑알쫑알대는 게 이제 이게 이게 젖어버려서 가고 나면 너무 공허할 거 같다라는 그~ 마음이 되게 적적할 거 같다고 얘기를 하더라고요. 그래서 그게 좀 마음이 많이 쓰여서 되도록이면 하루에 한 번씩 전화를 할려고 노력은 하는데 어쨌든 그렇게 가족들 간에 대화를 하는 게 진짜 중요하 다는 생각이 많이 들더라고요. 음~ 음~ 음~  그 환경이 그냥 그 환경이 그 자체가 성격이 되어서 어~ 성격이 형성되는 거 같애요. 진짜 음~ 그래서 저도 인제 뭐 저희가 이제 상담이나 이런 걸 많이 해주잖아요. 그러면 어~ 사실 후천적으로 만들어지는 것도 많다고 하지만 뭐 심리학적으로도 그러죠. 그~ 가정 내의 그런 선천적인 환경 만들어진 환경들이 훨씬 더 크다고 그니까 그 사람의 가정 환경을 들여다 보면 지금 현재의 이런 모습이 될 수밖에 없는 그 이유가 너무 충분히 드러나는 거기 때문에 그런 어릴 시절 부모님과의 관계 뭐 대화 소통 뭐 이런 것들을 파악하는 게 진짜 중요한 거 같애요. 음~ 음~ 그래서 이게 나와 부모님과의 그런 관계 또 지금의 내 모습을 생각하면 에~ 자녀가 있으니까 자녀에게 내가 어떻게 대해야 될 것이며 어떻게 소통을 해야 되는지에 대한 정립이 좀 더 될 거 같애요. 에~ 그래서 그런 걸 좀 생각을 해보시면 좋을 거 같애요. 음~ 음~ 그르 부모님 음~ 중에서 어느 분을 더 많이 닮은 거 같아요?',\n",
       "        '0'],\n",
       "       ['우리 남편은 진짜 내가 이때까지 만난 사람 중에 제일 좋은 사람? 우리 부모보다 진짜 서로에게 있어 참 좋은 사람. 그냥 우리 남편은 뭐랄까 처음 남편과 결혼했을 때 우리 아버지가 그~ 참 인물이 없다고 쫌 왜소하고 이렇다 우리 아버지가 별로 반대를 했거든. 근데 그 인물을 내가 다 바꽈놨지. 지금은 어느 배우 못지 않게 그라고 우리 남편 같은 경우에는 나랑 성격이 완전히 반대거든? 나는 급하고 다혈질이고 잘 삐끼고 화내고 이러는데 우리 남편은 그 자리. 물론 우리 남편 제일 좋은 점은 돈을 많이 벌어서 주지. 내가 평생 살면서 내가 돈 걱정은 안 했으니까 한번도 나는 그렇지만 그 걱정이라는 게 내가 뭐 너무 뭐 돈이 뭐 많아 없 너무 많다 그런 거보다는 그냥 내 선에서는 내 쓸만큼은 되니까 나는 인제 내 쓸만큼은 충분히 되니까 나는 돈 걱정은 하지 않고 살았고 그라고 우리 남편이 또 이리 좋은 점은 내 하자는 대로 다 해줘. 여보 오늘 뭐 어디 갈까 이러면은 탁 말 안 하고 탁 나가서 시동 끌고 딱 데리러 오고 이러니까 그래서 항상 그러 뭐라고 해야 될까? 결혼하기 전에는 엄마 아버지가 가족이 제일 좋았지만 결혼하고 난 뒤에는 남편이 제일 좋고 그라고 뭐 또 우리 남편이 지금 또 인제 골프 이런 인제 운동을 하니까 자기 취미 생활 이런 거 자기가 알아서 다 하고 무엇보다 내를 귀찮게 안 하지. 뭐 주말에는 자기가 알아서 잘 놀고 또 내가 평일에는 또 뭐 직장 생활 열심히 하고 주말에는 또 내가 가자 하면 또 같이 가주고 요리하고 그라고 우리 남편이 굉장히 가정적인데 말을 이케 자상하게 하는 그런 스타일은 또 아니거든. 완전히 경상도 남자거든? 그래 그런 거 보면은 난 우리 남편이 참 한 가지 안 된 게 내가 이런 말을 니한테 처음 밝히는데 우리 남편이 어렸을 때 느그는 인제 이런 사실을 모를 거야. 우리 아버님이 우리 남편 여섯 살 때 다쳤어. 회사 생활하다가 현장에서 떨어진 거야. 그러 우리 아버님이 그~ 목에 골절이 나가지고 우리 아버님이 우리 남편 한 마흔다섯 살인가? 그때 우리 아버 아버님이 반신불구가 된 거야. 우리 아버님이 그래 우리 어머님이 인제 평생 인제 우리 아버님 그~ 수발을 하신 거지. 그런데도 우리 어머님이 내가 존경하는 이유가 훌륭하신 게 자식 세 명을 너무 잘 키웠다는 거야. 우리 어머님이 구김살 한 개 없이 너무 바르게 경우 바르고 각자 자기 삶에서 정말 열심히 살고 성실하고 그~ 배우자도 다 좋은 사람들을 만났고 그러고 보면은 우리 아버님 희생함으로 인해가지고 자식들이 그 복을 받은 게 아닐까. 그라고 우리 어머님도 굉장히 우리 아버님 때문에 인제 그런 스트레스를 인제 우리 어머님이 풀 수가 없으니까 말을 예쁘게 못하잖아. 그러니까 보면은 모국어가 다 그 자식들의 말이 된다고 우리 남편이 인제 우리 어머님 그 들었던 말 그대로 듣고 자랐으니까 말 같은 거는 우리 남편이 따뜻하게는 못해. 막 긍정적으로 막 그즈 그즈 낙천적 이렇게는 못하지만은 근데 그런 말을 못하는 걸 뛰어넘을 정도로 우리 남편이 행동 면에 있어서는 참 남편이 말로 안 하고 행동으로 다 보여주고 잘하니까 그래서 나는 인제 어렸을 때 또 우리 엄마한테서 또 좋은 말만 듣고 자랐으니까 아 우리 남편은 참 좋은 사람인 이지만은 사랑을 그렇게 많이는 못 받았겠구나. 자기 말은 자기가 막내기 때문에 사랑을 제일 많았다 하고 우리 어머님도 뭐 하는 소리가 내가 니를 어찌 키웠는데 그런 말도 많이 하는데 그렇지만은 나는 인제 그런 언어적인 이런 사랑 같은 걸 우리 남편에게 정말 잘해줘야겠다. 그래서 나는 인제 그런 부분들을 우리 남편에게 내가 굉장히 잘해줄려고 노력을 하고 우리 남편의 단점이라면은 그거지. 이제 말을 서울 사람처럼 그렇게 뭐야 해야 되나? 뭐 했니? 뭐 꼬리 올리고 뭐 부드럽게 막 그렇게 하진 않지만 말 내용은 또 너무 또 마음이 와닿 따뜻한 사람이야. 그니까는 우리 남편은 진짜 내가 내 자신을 내가 남편에게 뭐 떠나서 내가  주도적으로 내 삶을 살아야 되지만 그래도 내 살아가는 일부분에 있어서 남편이 없으면 안 되고 그라고 또 인제 우리 애들 같은 경우에도 남들은 딸 둘이라고 너무 부럽대. 그래서 나는 사실 또 아들 낳고 싶었거든. 근데 지금은 있는 아들 버리고 싶다는 그런 사람 말도 내가 이해가 돼. 그래서 나는  이케 너무 감사한 게 아들이 없는 거 너무 너무 감사할 거 같는 거야. 왜 있으면 또 내가 시어머니 노릇 해야 되니까. 난 그게 너무 고맙더라고. 응. 그래서 그냥 우리 딸 뭐 둘이는 내가 그냥 크게 기대만 안 하면은 다 지 분야에서 열심히 사니까 그냥 내가 자식을 위해서 희생한다. 이런 마음만 내려놓으면은 자식들이 그냥 즈그 분야에서 즈그 알아서 잘 살 거 같거든? 그래서 나는 자식 걱정 별로 안 하고 어쨌든간에만 남은 인생 오십 년 더 남았지만 그냥 우리 아저씨랑 뭐 평소대로 그냥 쇼핑하고 맛있는 거 먹고 놀러다니고 그냥 이런 그냥 이런 일상적인 소소한 생활 있잖아. 근데 이런 삶들을 이어가면은 뭐 내 인생은 어느 정도는 성공했구나 그런 생각을 내가 할 수 있을 거 같거든. 어. 그래서 인제 나는 이런 걸 떠나서 &name1&이 니가 생각하는 가족은 이래야 된다 하는 그런 생각 있니?',\n",
       "        '응. 뭐 음~ 부담을 너무 주는 건 아닌 거 같애. 가족끼리 이리라도 나도 꼭 그런 건 아니고 서로를 쪼끔씩 왜냐면 가족이 아무리 가족이 있지만 사람은 각자의 외로움은 다 있는 거 같애. 나 남편한테도 늘 그렇게 말하거든. 나도 내 나 내 나름대로  자기도 뭔가 모르게 내가 옆에 있어도 외로울 때가 있을 것이고 나도 어~ 자기도 내 옆에 있지만 내가 외로울 때가 있다. 근데 이거는 사람으로서 다 어느 정도의 우리가 다 욕구를 채워줄 수 없는 부분이라고 생각하거든. 그래서 그 부분에서는 내가 나의 방식대로 자기도 자기의 어떤 친구들을 만나면서 그걸 채워가야 될 것이고 또 자기 혼자만에 채워가야 된다고 생각하고 있고 나도 마찬가지라 생각을 해. 근데 그런 부분까지 가족한테 부담을 주는 거는 굉장히 나는 아니라고 생각하거든. 그니까 만족하지 못하는 근까 항상 그 자리에 있어 고맙기는 하지만 때로는 가족이기 때문에 더 섭섭할 때가 있고 또 나 또한 가족한테 상처를 줄 때가 있다고 생각해. 나도 모르게 근데 어~ 가족이 모두 다 다 보듬어야 된다는 생각은 좀 부담감은 남편도 좀 안 가졌으면 하고 나 또한 근데 나도 모르게 그런 거를 바랄 때가 있는 거 같애. 뭐 내가 엄마로서 너무 희생을 하고 어떻게 하고 있는데 그런 생각은 가끔 들 때는 있지만 가족이라 해서 모든 것을 내가 안아야 된다. 이런 생각은 안 했으면 좋겠고 우리가 그때그때 행복하게 우리 애도 같이 밥을 먹으면서 서로의 또 가족 대화도 하고 그 아픔도 내가 나누고 있지만은 다 나눌 수 없다는 그런 생각은 하거든? 그래서 자기계발이 자기 시간이 나는 쫌 필요하다고 생각하는 사람 중에 한 사람이야. 남편 또 나도 낚시를 가면서 자기 시간을 즐겨라. 또 자기 친구들끼리 꼭 아내가 따라가야 된다. 이런 생각을 하지 말고 자기도 친구끼리 자기 또래끼리 자기의 또 사회 일원으로서 만나면에서 스트레스 풀면서 자기의 어떤 만족도를 높일 수 있고 나 또한 그렇게 했으면 좋겠고 내 아이들도 쫌 그렇게 해주길 나는 쫌 바라거든. 그래서 너무 가족이라는 그 어떤 책임감이 져야 하지만 그게 너무 목을 맨다든지 그렇게 하면은 서로가 힘들어지니까 우리는 같은 밥을 먹고 같은 피를 나눈 사람들이니까 그래 서로를 약간 배려하면서 가족 간에도 너무  쪼끔 얼 일정한 선은 있어야 된다고 생각하는 게 나는 쫌 그렇게 생각하거든? 그래서 그런 부분이 쪼끔 서로 보완하면 더 행복한 가정이 되지 않을까. 그~ 서로 각자가 좀 생각하는 시간도 쫌 필요하고 뭐 대충 그렇게 생각해. 넘 &name2&야 너 생각은 어때?',\n",
       "        '0'],\n",
       "       ['응. 뭐 음~ 부담을 너무 주는 건 아닌 거 같애. 가족끼리 이리라도 나도 꼭 그런 건 아니고 서로를 쪼끔씩 왜냐면 가족이 아무리 가족이 있지만 사람은 각자의 외로움은 다 있는 거 같애. 나 남편한테도 늘 그렇게 말하거든. 나도 내 나 내 나름대로  자기도 뭔가 모르게 내가 옆에 있어도 외로울 때가 있을 것이고 나도 어~ 자기도 내 옆에 있지만 내가 외로울 때가 있다. 근데 이거는 사람으로서 다 어느 정도의 우리가 다 욕구를 채워줄 수 없는 부분이라고 생각하거든. 그래서 그 부분에서는 내가 나의 방식대로 자기도 자기의 어떤 친구들을 만나면서 그걸 채워가야 될 것이고 또 자기 혼자만에 채워가야 된다고 생각하고 있고 나도 마찬가지라 생각을 해. 근데 그런 부분까지 가족한테 부담을 주는 거는 굉장히 나는 아니라고 생각하거든. 그니까 만족하지 못하는 근까 항상 그 자리에 있어 고맙기는 하지만 때로는 가족이기 때문에 더 섭섭할 때가 있고 또 나 또한 가족한테 상처를 줄 때가 있다고 생각해. 나도 모르게 근데 어~ 가족이 모두 다 다 보듬어야 된다는 생각은 좀 부담감은 남편도 좀 안 가졌으면 하고 나 또한 근데 나도 모르게 그런 거를 바랄 때가 있는 거 같애. 뭐 내가 엄마로서 너무 희생을 하고 어떻게 하고 있는데 그런 생각은 가끔 들 때는 있지만 가족이라 해서 모든 것을 내가 안아야 된다. 이런 생각은 안 했으면 좋겠고 우리가 그때그때 행복하게 우리 애도 같이 밥을 먹으면서 서로의 또 가족 대화도 하고 그 아픔도 내가 나누고 있지만은 다 나눌 수 없다는 그런 생각은 하거든? 그래서 자기계발이 자기 시간이 나는 쫌 필요하다고 생각하는 사람 중에 한 사람이야. 남편 또 나도 낚시를 가면서 자기 시간을 즐겨라. 또 자기 친구들끼리 꼭 아내가 따라가야 된다. 이런 생각을 하지 말고 자기도 친구끼리 자기 또래끼리 자기의 또 사회 일원으로서 만나면에서 스트레스 풀면서 자기의 어떤 만족도를 높일 수 있고 나 또한 그렇게 했으면 좋겠고 내 아이들도 쫌 그렇게 해주길 나는 쫌 바라거든. 그래서 너무 가족이라는 그 어떤 책임감이 져야 하지만 그게 너무 목을 맨다든지 그렇게 하면은 서로가 힘들어지니까 우리는 같은 밥을 먹고 같은 피를 나눈 사람들이니까 그래 서로를 약간 배려하면서 가족 간에도 너무  쪼끔 얼 일정한 선은 있어야 된다고 생각하는 게 나는 쫌 그렇게 생각하거든? 그래서 그런 부분이 쪼끔 서로 보완하면 더 행복한 가정이 되지 않을까. 그~ 서로 각자가 좀 생각하는 시간도 쫌 필요하고 뭐 대충 그렇게 생각해. 넘 &name2&야 너 생각은 어때?',\n",
       "        '그니까는 가족이라는 것도 각자 자기 인생이 다 있기 때문에 나는 우리 딸도 엄마보다는 자기 친구들을 더 좋아했으면 좋겠어. 왜냐면은 지가 먼저 행복해야 되거든. 지가 행복해야 그 행복이 또 나한테 전해지는 거니까 나도 물론 남편하고 많은 시간을 같이 보내지만은 그도 평일에 느그들 만나고 나와서 또 다른 사람 만나고 그냥 같이 할 때는 같이 하고 또 따로 할 때는 또 따로 하고 그라고 또 너무 이렇게 가족 울타리 안에만 있으면은 또 나가서 적응하기가 힘들잖아. 그지? 그까 서로의 생활은 최대한 존중해주면서 또 각자 마음으로 지원해주고 필요할 때는 또 언제든지 또 우리가 도와줄 수 있는 그런 관계면 좋겠고 나도 뭐 다 좋기만 하겠니. 그지? 어떤 드라마에서 보니까 요새 뭐 최근에 내가 애정하는 드라마가 나의 아저씨라고 그 둘째가 이런 말 하더라고. 가족은 아무도 안 보 안 볼 때 쓰레기통에 쳐박아 집어 넣고 싶은 게 가족이라고 나는 그 말이 너무 마음에 와닿대? 이제 그렇게 쫌 이케 싫을 때가 있잖아. 꼴 보기 싫을 때가 그래도 또 돌아서고 나면은 또 가족이니까 그런 좋은 점  서운한 점 다 보듬어야 되는 게 가족이 아닌가. 보며 난 인제 우리 식구들 보면서 아~ 우리만 애를 이래 키웠구나. 내가 우리 자식들이 하는 모습 보면 아 이게 내리 사랑이구나. 내가 인제 결혼 안 했다면은 가족이 없었다면은 내가 생각하지 못할 그런 부분들이니까 내가 이렇게 이런 가족이 내 주위에 있다는 것 자체로도 고맙고 나는 이제 가족들이 막 이렇게 막 잘나고 막 좋은 일 이런 것보다는 아무 일이 없으면 좋겠어. 그냥 아무 탈도 없이 그라고 우리 가족들이 나쁜 사람 눈에 안 띄고 이~ 좋은 사람 눈에만 띄었으면 나 너무 좋겠는 거야. 항상 나는 인제 그런 마음으로 살면서 감사하지.',\n",
       "        '0'],\n",
       "       ['그니까는 가족이라는 것도 각자 자기 인생이 다 있기 때문에 나는 우리 딸도 엄마보다는 자기 친구들을 더 좋아했으면 좋겠어. 왜냐면은 지가 먼저 행복해야 되거든. 지가 행복해야 그 행복이 또 나한테 전해지는 거니까 나도 물론 남편하고 많은 시간을 같이 보내지만은 그도 평일에 느그들 만나고 나와서 또 다른 사람 만나고 그냥 같이 할 때는 같이 하고 또 따로 할 때는 또 따로 하고 그라고 또 너무 이렇게 가족 울타리 안에만 있으면은 또 나가서 적응하기가 힘들잖아. 그지? 그까 서로의 생활은 최대한 존중해주면서 또 각자 마음으로 지원해주고 필요할 때는 또 언제든지 또 우리가 도와줄 수 있는 그런 관계면 좋겠고 나도 뭐 다 좋기만 하겠니. 그지? 어떤 드라마에서 보니까 요새 뭐 최근에 내가 애정하는 드라마가 나의 아저씨라고 그 둘째가 이런 말 하더라고. 가족은 아무도 안 보 안 볼 때 쓰레기통에 쳐박아 집어 넣고 싶은 게 가족이라고 나는 그 말이 너무 마음에 와닿대? 이제 그렇게 쫌 이케 싫을 때가 있잖아. 꼴 보기 싫을 때가 그래도 또 돌아서고 나면은 또 가족이니까 그런 좋은 점  서운한 점 다 보듬어야 되는 게 가족이 아닌가. 보며 난 인제 우리 식구들 보면서 아~ 우리만 애를 이래 키웠구나. 내가 우리 자식들이 하는 모습 보면 아 이게 내리 사랑이구나. 내가 인제 결혼 안 했다면은 가족이 없었다면은 내가 생각하지 못할 그런 부분들이니까 내가 이렇게 이런 가족이 내 주위에 있다는 것 자체로도 고맙고 나는 이제 가족들이 막 이렇게 막 잘나고 막 좋은 일 이런 것보다는 아무 일이 없으면 좋겠어. 그냥 아무 탈도 없이 그라고 우리 가족들이 나쁜 사람 눈에 안 띄고 이~ 좋은 사람 눈에만 띄었으면 나 너무 좋겠는 거야. 항상 나는 인제 그런 마음으로 살면서 감사하지.',\n",
       "        '굉장히 우리가 좋은 그런 시간을 가지는 계기가 됐던 거 같아. 그지? 어~ 좋고', '0'],\n",
       "       ['음~ 우리 가족은 아~ 이 남 이 녀에 부모님 아버지 다 살아계시고 지 아버지는 지금 제천에 시골에 계시고 큰 누나랑 작은 누나는 결혼해서 큰 누나는 지금 에~ 광양에서 에~ 순천에 가 있고 딸 있고 딸이 세 명이야. 그리고 작은 누나는 광주에서 근무하고 음~ 건 거기도 딸 두명 크 크 형은 지금 두바이에 파견 나가 있는데 거긴 아들이 두 명이야. 그리고 나는 아들 하나 딸 하나 해가지고 이렇게 있는데 어~ 형수는  어떻게 돼?',\n",
       "        '어~ 나 우리는 일 남 삼 녀고 언니랑 여동생 남동생 나 이르케 네 명인데 언니랑 여동생이랑 남동생은 아직 결혼 전이고 나만 결혼했어. 근데 엄마도 부모님은 첨단에 계시고 음~ 다 아직 결혼을 안 해서 애도 없고 나만 결혼해서 나는 일 남 일 녀 딸 하나 아들 하나 이 있고 딸 이름은 &name1&고 아들은 &name2&이 아홉 살이랑 일곱 살 오빠는 애기들이 몇 명이야?',\n",
       "        '0'],\n",
       "       ['어~ 나 우리는 일 남 삼 녀고 언니랑 여동생 남동생 나 이르케 네 명인데 언니랑 여동생이랑 남동생은 아직 결혼 전이고 나만 결혼했어. 근데 엄마도 부모님은 첨단에 계시고 음~ 다 아직 결혼을 안 해서 애도 없고 나만 결혼해서 나는 일 남 일 녀 딸 하나 아들 하나 이 있고 딸 이름은 &name1&고 아들은 &name2&이 아홉 살이랑 일곱 살 오빠는 애기들이 몇 명이야?',\n",
       "        '딸 한 명 아들 한 명인데 딸은 열 살 초등학교 삼 학년이고 아들은 일곱 살 유치원 유치원생이고 음~ 그리고 아~ 우리 가족이 원래 대가족이라 부모님 형제가 구나 구나 뭐지? 구 형제라 명절 때 모이면은 저~ 시 어렸을 때는 명절에 모이면은 큰집에 모여가지고 한 사 많이면 한 오십 명까지 모여가지고 뭐 명절에  요즘은 다 뭐냐? 작은 아빠들이랑 다들 떨어져서 잘 안 오시고 다들 어~ 친척 누나들이랑  다 장가를 가가지고 결혼을 다 해가지고 자 요새는 잘 안 와서 거의 요샌 안 모이고 저~ 우리 가족만 모여가지고 명절에 세는데 근데 그때가 나 어렸을 때가 재밌고 좋았는데 음~ 형수네 가족은 잘 모여?',\n",
       "        '0'],\n",
       "       ['딸 한 명 아들 한 명인데 딸은 열 살 초등학교 삼 학년이고 아들은 일곱 살 유치원 유치원생이고 음~ 그리고 아~ 우리 가족이 원래 대가족이라 부모님 형제가 구나 구나 뭐지? 구 형제라 명절 때 모이면은 저~ 시 어렸을 때는 명절에 모이면은 큰집에 모여가지고 한 사 많이면 한 오십 명까지 모여가지고 뭐 명절에  요즘은 다 뭐냐? 작은 아빠들이랑 다들 떨어져서 잘 안 오시고 다들 어~ 친척 누나들이랑  다 장가를 가가지고 결혼을 다 해가지고 자 요새는 잘 안 와서 거의 요샌 안 모이고 저~ 우리 가족만 모여가지고 명절에 세는데 근데 그때가 나 어렸을 때가 재밌고 좋았는데 음~ 형수네 가족은 잘 모여?',\n",
       "        '우리는 언니가 부천에 있고 여동생이랑 남동생이랑 나랑 부모님만 광주에 있는데 다들 아직 미혼이라서 그런지 잘 모이기가 더 힘든 거 같애. 나는 결혼해서 시댁 가느라 잘 모이기가 힘들고 또 각자 다 일이 있으니까 명절 때도 잘 모이기가 힘든 거 같애. 그래서 그냥 어~ 부모님이랑 우리 여동생 정도만 한번씩 모이고 남동생도 일하느라 바빠서 잘 못 볼 때가 많아서 일 년에 한 두 번 정도 밖에 못 봐. 그르구 오히려 결혼을 해서 그런지 친정보다는 시댁 위주로 가는 거 같아. 시댁에는 시댁에 신랑이랑 아주버님이랑 형제가 두 명인데 어~ 친정보다는 시댁 쪽으로 더 영양이 이렇게 쏠려서 명절 때도 그렇고 항상 시댁이 시댁을 먼저 가는 거 같아. 다들 그러지 않나? 오빠네는 어떤 거 같애?',\n",
       "        '0'],\n",
       "       ['우리는 언니가 부천에 있고 여동생이랑 남동생이랑 나랑 부모님만 광주에 있는데 다들 아직 미혼이라서 그런지 잘 모이기가 더 힘든 거 같애. 나는 결혼해서 시댁 가느라 잘 모이기가 힘들고 또 각자 다 일이 있으니까 명절 때도 잘 모이기가 힘든 거 같애. 그래서 그냥 어~ 부모님이랑 우리 여동생 정도만 한번씩 모이고 남동생도 일하느라 바빠서 잘 못 볼 때가 많아서 일 년에 한 두 번 정도 밖에 못 봐. 그르구 오히려 결혼을 해서 그런지 친정보다는 시댁 위주로 가는 거 같아. 시댁에는 시댁에 신랑이랑 아주버님이랑 형제가 두 명인데 어~ 친정보다는 시댁 쪽으로 더 영양이 이렇게 쏠려서 명절 때도 그렇고 항상 시댁이 시댁을 먼저 가는 거 같아. 다들 그러지 않나? 오빠네는 어떤 거 같애?',\n",
       "        '나도 똑같이 먼저 명절 첫날은 우리 집  우리 집 가서 하룻밤 자고 자 점심때까징 작은 아빠들이랑 올 때까징 기다렸다가 누나들이까징 오면은 보고  점심 먹고 어~ 짐 챙겨서 인자 처갓집잉 광준데 처갓 뭐냐 와이프 할머니가 광 장흥 관산에 사시는데 거까징 내려가 뭐지? 명절 둘째 날 가가지고 가면은 저~ 와이프 고모랑 작은 아빠들이랑 다 내려오는데 거기서 봤다가 있다가 저녁까징 먹고 다시 광주로 올라오지. 광주로 올라와서 처갓집에서 인자 하룻밤 자고 아니면은 쫌 연휴가 길면은 그 다음날까지 자고  광주로 오지. 이~ 집으로 오지. 거기서 인자 아버님이 저~ 자 목포에서 사업을 하셔가지고 목포에서  잘 안 오시는데 한번씩 오시면은 거기서 자고 오고 이렇게 하지. 어~  어~ 우리 딸은 지금 삼 학년인데 저거 봐. 뭐라  될까? 영어 학원 다니는데 영어를 쫌   쫌 뭐라 해야 . 제가 영어를 내가 영어를 별로 못해서 그런가. 보면은 영어도 잘하고 쫌 마도 말은은 쫌 안 듣지만 영어도 잘하고 그래가지고 나중에 여행 가게 가거나 되면은 딸이 가이드 해가지고 가면은 쫌 괜찮을 것 같다. 어~ 형수 딸 &name1&는 어때?',\n",
       "        '0'],\n",
       "       ['우리도 요즘 코로나 때문에 거의 있 집 집  뭐 어디 가봤자 집 근처 어디 뭐 말고는 전남권을 벗어난 적이 별로 없어. 요즘 그래두 요즘 그래도 전남권이 젤 안전한 거 같아서 음~ 그쪽 말고는 그냥 별로 없는 거 같고 이제 우리 아들은 일곱 살인데 어~ 또래 애들보다 쫌 큰 것 같애. 쫌 마르긴 해서 쪼끔 체중이 적게 나가긴 하는데 키는 쫌 큰 거 같아서 남자애고 하니까 키가 쫌 많이 컸으면 좋겠는데 음~ 쪼금 걱정이긴 해. 말라서 음~ 우리 아들 쫌 일곱 살 아직 일곱 살이라 쫌 개구쟁이긴 한데 귀여워. 잘생겼어.  아~ 오빠 아들도 일곱 살이잖아. &name2&이랑 동갑인데 오빠 아들은 어떤 거 같애?',\n",
       "        '우리 아들도 하 말 안 듣지. 어~ 제 어~ 인자 가면 갈수록 더 말 안 듣고 지금 매일 집에서 저~ 누나는 그~ 커가지구 쫌 혼내거나 뭐지? 혼내거나 그러면은 말 뭐지? 딱 눈치보고 안 하는데 아들은 그런 거 없어. 하 혼내나 말거나 그거 뭐 혼내나 마나 똑같이 행동하고 맞아도 똑같이 파 돌아다니며 똑같이 행동하고 하 힘드네. . 글고 아까 저~ 키 이야기 했는데 나도 어렸을 때는 키가 작았는데 그~ 아~ 제가 진짜 고등 중학교 까지만 해도 팔 번 칠 번 이랬거든. 근데 키는 나중에 되면은 다 크더라고 클 때 되면은 그건 너무 걱정 말고 어~ 집에 우리 집에  가족이 한 명 더 생겼는데 그거 나무라고 나무라고 강아지가 하나 들어왔는데 점 돈이  너무 많이 들어.  아~ 나는 쫌 반대했는데 어느 순간 회사 끝나고 집에 오니까 와 있드라고. 아~ 인자 첨에는 나도 강아지 좋아하는데 지금 좋아 좋아하긴 하는데 너무 털도 날리고 요새는 너무 돈이 많이 들어가니까 쫌 힘들더라고. 어제도 저~ 미용하니라고 한 십 만 원 쓰고 왔는데 아~  한 달에 한 번씩 그래 가야 되니까 글고 병원 가도 기본 한 십 만 원 이상씩 깨지니까 너무 진짜 애들한테 들어가는 것도 많은데 너무  힘들긴 하는데 한번씩 강아지가 어~ 애교도 떨고 하니까 귀여워가지고 아직 쫌 이쁘기도 하고 어쩔 때는 쫌 돈이 많이 들어가서 쫌 힘들기도 하고 그러는데 형수는 뭐 강아지 같은 거 키울 생각 없어?',\n",
       "        '0'],\n",
       "       ['난 전혀 없어. 나는 &name1&랑 &name2&이로 만족하고 있어. 아~ 난 원래 별로 애완동물을 좋아하는 편은 아닌데 어~ 그닥 키울 애들은 키우고 싶어 하는데 나는 별로 키울 마음이 없어. 어~ 우리 부모님은 지금 첨단에 사는데 어~ 엄마는 가게 개인적 개인 그냥 쪼그만한 치킨 맥주 뭐 이런 가게 하시구 아빠는 금오타이어 다니고 계셔.  아직 둘 다 젊어서 음~ 아직 환갑이 안 되셨거든  아직 두 분 다 젊어서 사회 활동하시고 하니까 음~ 쫌 경제적으로든 뭐든 우리한테 뭐 따로 이렇게 그런 부담은 없는 거 같애. 시댁 부모님두 아직 아버님이 일을 하고 계시고 해서 더 그런 거 같애. 우리 우리 집은 아무도 결혼 안 해서 손주가 우리 &name1&랑 &name2&이 밖에 없거든 그래서 부모님이 특히 &name1&하고 &name2&이를 엄청 좋아하셔. 우리 엄마는 특히 아들을 엄청 좋아해서  우리 &name2&이를 엄청 이뻐하고 원하는 건 다 해줄려고 하는 편이야. 그래서 걱정이야. 음~ &name1&는 오히려 시댁에서 훨씬 좋아하는 거 같애. 시어머니게아 시어머니가 딸을 이뻐해서 &name1&는 시댁 사랑을 많이 받고 어~ 아들은 친정 사랑을 되게 많이 받아. 애들이 아직 다 결혼을 안 해가지고 우리 집에 &name1& &name2&이 밖에 없는 게 어떻게 보면 애들한테는 좋을 수두 있는 거 같애. 원하는 거 다 들어주고 하니까 그래서 항상 할머니 집 가는 거 좋아해. 애들이 오빠네는 어떤 거 같애?',\n",
       "        '음~ 아~ 지금 부모님은 저 시골에서 농사 지시는데 지금 나이가 좀 많이 돼셔가지고 거의 한 팔십 아버님이 가십 팔십 다 돼 가시니까 인자 거의 농사도 인자 그만 짓 지을 때가 됐지. 거의 힘든 농사는 안 짓고 그냥 쉬운 꼬추나 이런 거 꼬추나 상추 같은 거 이런 거 만 해가지고 밭때기로 팔고 이런 거만 하시지. 힘든 것은 요새 안 지으고 음~ 우리 조카들이 아까 말했듯이 조카들이 우리 집은 너무 많애서 우리 아들만 쫌 막둥이어서 아직은 쫌 깟난애기라서 쪼끔 이쁨 받지. 조카들이 저~ 큰집이 바로 옆에거든. 인제 큰집 조카들까지 하면은 한 이삼십 명 되니까 우리 집 가서 뭐 그렇게 귀여움을 못 받어.  하도 많애서 그냥 그러려니 하거든. 근데 외 처갓집 가면은 저~ 장모님이 저~ 말했듯이 장모님이 아들 그런 게 엄청 좋아가지고 아들만 채 아들만 엄청 좋아해. 아들만 하고 딸은 아~ 신경 안 쓰고  그래가지고 저~ 아들이랑 아들이랑 이~ 처갓집 가는 것은 엄청 좋아해. 자 전화도 장모님만 전화 받고 이런 식으로 하우지. 저~ 외어가 우리 치 우리 집은 전화를 잘 안 받고 글거든. 할머닌  외할머니가 엄청 .  용돈도 많이 주고 하니까  조카들은 있다 갰나?',\n",
       "        '0'],\n",
       "       ['음~ 아~ 지금 부모님은 저 시골에서 농사 지시는데 지금 나이가 좀 많이 돼셔가지고 거의 한 팔십 아버님이 가십 팔십 다 돼 가시니까 인자 거의 농사도 인자 그만 짓 지을 때가 됐지. 거의 힘든 농사는 안 짓고 그냥 쉬운 꼬추나 이런 거 꼬추나 상추 같은 거 이런 거 만 해가지고 밭때기로 팔고 이런 거만 하시지. 힘든 것은 요새 안 지으고 음~ 우리 조카들이 아까 말했듯이 조카들이 우리 집은 너무 많애서 우리 아들만 쫌 막둥이어서 아직은 쫌 깟난애기라서 쪼끔 이쁨 받지. 조카들이 저~ 큰집이 바로 옆에거든. 인제 큰집 조카들까지 하면은 한 이삼십 명 되니까 우리 집 가서 뭐 그렇게 귀여움을 못 받어.  하도 많애서 그냥 그러려니 하거든. 근데 외 처갓집 가면은 저~ 장모님이 저~ 말했듯이 장모님이 아들 그런 게 엄청 좋아가지고 아들만 채 아들만 엄청 좋아해. 아들만 하고 딸은 아~ 신경 안 쓰고  그래가지고 저~ 아들이랑 아들이랑 이~ 처갓집 가는 것은 엄청 좋아해. 자 전화도 장모님만 전화 받고 이런 식으로 하우지. 저~ 외어가 우리 치 우리 집은 전화를 잘 안 받고 글거든. 할머닌  외할머니가 엄청 .  용돈도 많이 주고 하니까  조카들은 있다 갰나?',\n",
       "        '아니. 아무도 결혼을 안 해서 조카가 없어. 나는 언니도 안 했고 여동생도 안 핬고 하니까 음~ 조카는 우리 그~ 친척 동생 친척 동생한테 조카 두 명 있는데 어~ 남자애 하나 하고 여자애 하나 있는데 남자애는 올해 초등학교 일 학년이고 여자애는 여섯 살인 여섯 살이야.',\n",
       "        '0'],\n",
       "       ['name1 님은 가족은 가족이란 단어 생각하면 음~ 어떤 게 떠오르나요? 가족 하면',\n",
       "        '저는 가족 하면 일단 어~ 살아도 같이 살고 죽어도 같이 죽는다 이런 생각이 떠오르구요. 가족은 음~ 혈연이기 때문에 학연이나 지연보다 월등히 강하다고 생각하고 이 세상에서 살아가는 이유는 어~ 가족 때문이라 이렇게 생각을 하는 편입니다. 저뿐만 아니라 주위를 보더라도 뭐 형제와 등을 돌리거나 이런 사람들도 있긴 하지만 가족이란 존재는 그 무엇과도 바꿀 수 없는 굉장히 소중한 존재고 가족 관계는 전생에 진짜 인연을 천 번 만 번 겪어야 만들어진다고 생각하고 있으므로 소중한 존재라고 생각합니다. &name2& 님은 가족에 대해서 어떻게 생각하시나요?',\n",
       "        '0'],\n",
       "       ['저는 가족 하면 일단 어~ 살아도 같이 살고 죽어도 같이 죽는다 이런 생각이 떠오르구요. 가족은 음~ 혈연이기 때문에 학연이나 지연보다 월등히 강하다고 생각하고 이 세상에서 살아가는 이유는 어~ 가족 때문이라 이렇게 생각을 하는 편입니다. 저뿐만 아니라 주위를 보더라도 뭐 형제와 등을 돌리거나 이런 사람들도 있긴 하지만 가족이란 존재는 그 무엇과도 바꿀 수 없는 굉장히 소중한 존재고 가족 관계는 전생에 진짜 인연을 천 번 만 번 겪어야 만들어진다고 생각하고 있으므로 소중한 존재라고 생각합니다. &name2& 님은 가족에 대해서 어떻게 생각하시나요?',\n",
       "        '글쎄요. 가족 하면 제 즉흥적인 생각일 수 있지만 순간 가족이라 생각하면 목숨이라고 생각을 합니다. 그래서 가족 하면 쫌 아련한 그런 느낌도 있고 포근한 느낌도 있고 어~ 가족 하면 어~ 내가 그곳으로 달려가고 싶은 그런 단어입니다. 그~ &name1& 님께서는 음~ 이제 나이가 어느 정도 있으신 상태니까 부모이실 거니까 그~ 가족이라는 구성원을 가족을 이런 구선 어떻게 가족 구성원을 하고 싶으신가요? 어떤 가족으로 이렇게 끌어 이끌어가고 싶으신가요.',\n",
       "        '0'],\n",
       "       ['글쎄요. 가족 하면 제 즉흥적인 생각일 수 있지만 순간 가족이라 생각하면 목숨이라고 생각을 합니다. 그래서 가족 하면 쫌 아련한 그런 느낌도 있고 포근한 느낌도 있고 어~ 가족 하면 어~ 내가 그곳으로 달려가고 싶은 그런 단어입니다. 그~ &name1& 님께서는 음~ 이제 나이가 어느 정도 있으신 상태니까 부모이실 거니까 그~ 가족이라는 구성원을 가족을 이런 구선 어떻게 가족 구성원을 하고 싶으신가요? 어떤 가족으로 이렇게 끌어 이끌어가고 싶으신가요.',\n",
       "        '저는 어~ 핵가족과 대가족을 나누어 보면 핵가족을 좋아하시는 분도 있고 대가족을 좋아하시는 분도 있는데 저는 일단 핵가족에 찬성을 하는 편입니다. 물론 많은 분들이 지금 현재는 핵가족을 찬성하고 있는 걸로 저는 알고 있는데 에전처럼 대가족으로 살면 모두의 지금은 사람들이 개성이 강해진 상태이므로 굉장히 불편한 점이 증가할 거 같아서 핵가족 이 좋을 거 같습니다. 그런데 핵가족이라고 하더라도 굉장히 멀리 떨어져 있는 핵가족도 물론 있지만 약간 최근에 유행하는 가까운 데 있는 핵가족 이 부분도 저는 괜찮다고 생각합니다. 제가 얼마 전에 어~ 할머니 한 분을 만나 뵀는데 딸이 어~ 이거 춘천에서 거주하고 있으므로 광주에 계스 할머님이 살고 계셨는데 딸 옆으로 모시고 왔다고 해서 할머님이 어~ 광주에서 춘천으로 온 케이스를 며칠 전에 봤는데 어~ 그것도 또한 굉장히 바람직하고 좋은 거라고 생각됩니다. 다만 아쉬운 부분은 딸보 딸이 부모님을 친정 부모님을 모시고 오는 경우는 굉장히 많은데 비해 아들이 자기 어머님을 모시고 오거나 며느리가 시부모님을 모시고 오는 경우는 굉장히 드문 거 같아서 그런 부분은 제가 음~ 같은 여자 입장에서 봤을 때 굉장히 아쉬운 부분이고 쫌 긍정적인 방향으로 개선을 해나갔으면 좋겠습니다. 음~ &name2& 님께서는 최근에 가족에 대해서 어~ 도움을 받거나 가족이 힘이 됐던 적이 있으신지 그게 좀 알고 싶고 본인이 결혼 안 했을 때와 했을 때의 그~ 가족에게 어떤 힘을 받고 있는지에 대해서 알고 싶습니다.',\n",
       "        '0'],\n",
       "       ['저는 어~ 핵가족과 대가족을 나누어 보면 핵가족을 좋아하시는 분도 있고 대가족을 좋아하시는 분도 있는데 저는 일단 핵가족에 찬성을 하는 편입니다. 물론 많은 분들이 지금 현재는 핵가족을 찬성하고 있는 걸로 저는 알고 있는데 에전처럼 대가족으로 살면 모두의 지금은 사람들이 개성이 강해진 상태이므로 굉장히 불편한 점이 증가할 거 같아서 핵가족 이 좋을 거 같습니다. 그런데 핵가족이라고 하더라도 굉장히 멀리 떨어져 있는 핵가족도 물론 있지만 약간 최근에 유행하는 가까운 데 있는 핵가족 이 부분도 저는 괜찮다고 생각합니다. 제가 얼마 전에 어~ 할머니 한 분을 만나 뵀는데 딸이 어~ 이거 춘천에서 거주하고 있으므로 광주에 계스 할머님이 살고 계셨는데 딸 옆으로 모시고 왔다고 해서 할머님이 어~ 광주에서 춘천으로 온 케이스를 며칠 전에 봤는데 어~ 그것도 또한 굉장히 바람직하고 좋은 거라고 생각됩니다. 다만 아쉬운 부분은 딸보 딸이 부모님을 친정 부모님을 모시고 오는 경우는 굉장히 많은데 비해 아들이 자기 어머님을 모시고 오거나 며느리가 시부모님을 모시고 오는 경우는 굉장히 드문 거 같아서 그런 부분은 제가 음~ 같은 여자 입장에서 봤을 때 굉장히 아쉬운 부분이고 쫌 긍정적인 방향으로 개선을 해나갔으면 좋겠습니다. 음~ &name2& 님께서는 최근에 가족에 대해서 어~ 도움을 받거나 가족이 힘이 됐던 적이 있으신지 그게 좀 알고 싶고 본인이 결혼 안 했을 때와 했을 때의 그~ 가족에게 어떤 힘을 받고 있는지에 대해서 알고 싶습니다.',\n",
       "        '가족 에서 힘을 받았다는 내용은 가족한테 힘을 받는 건 매일 받습니다. 매일 받는데 또 매일 받는 또 일상 속에서의 힘을 받는 부분과 그리고 자녀들이 나가 있는 자녀들과의 관계성에서 힘을 받는 내용들이 또 저한테는 또 있습니다. 그래서 자녀들에 힘을 받는다고 예. 지금 제가 저도 지금  생각을 해보면 음~ 간혹 한 번씩 잡 그~ 하루의 만남 속에서 어~ 만남이 이루어지면 어떤 때는 자녀와의 부모하고 관계 속에서 되게 손님을 그~ 대엽하는 느낌의 그런 느낌 속에서 정신 없이 그 하루가 어~ 지나갔던 생각이 듭니다. 그래서 어~ 편안한 느낌보다는 쫌 어수선했다는 느낌이 들어요. 그런데 오히려 음~ 자녀들과의 그~ 짜여진 틀에서의 뭐 어떤 그~ 형식적인 전화가 아니고 이케 간혹 전화를 해서 이렇게 집안 가족들에 대한 내용으로 되게 마음을 쓸 때 그런 때 아~ 이래서 자식을 또 키우는가보다. 아~ 그런 생각을 하고요. 그리고 내 자식에 기대치 않았는데 자녀가 어~ 마음을 쓰는 것 쓰는 거 그에 대한 내용 그리고 어~ 가족에 대해서 쫌 끈끈하게 가지고 있구나라는 그 느낌을 받을 때 되게 가족이라는 그런 단어 내에서 이 힘을 받스 받고 있습니다. 그리고 또 한 가지 아까 질문이 있으 있었던 거 같은데 이거 외에 다른 게 있으셨나요? 아~ 다른 게 없으셨나요? 그러면은 혹시 어~ &name1& 님이 그~ 자녀들을 낳으셨으면 자녀 외에 자녀 기존의 자녀 외에 음~ 또 뭐 자녀분을 결혼시켜서 며느님이 생겼다면 그 며느님과의 가족 관계에서의 어떻게 가족 관계를 형성하고  싶으신지 한번 얘기해주심 좋겠어요.',\n",
       "        '0'],\n",
       "       ['가족 에서 힘을 받았다는 내용은 가족한테 힘을 받는 건 매일 받습니다. 매일 받는데 또 매일 받는 또 일상 속에서의 힘을 받는 부분과 그리고 자녀들이 나가 있는 자녀들과의 관계성에서 힘을 받는 내용들이 또 저한테는 또 있습니다. 그래서 자녀들에 힘을 받는다고 예. 지금 제가 저도 지금  생각을 해보면 음~ 간혹 한 번씩 잡 그~ 하루의 만남 속에서 어~ 만남이 이루어지면 어떤 때는 자녀와의 부모하고 관계 속에서 되게 손님을 그~ 대엽하는 느낌의 그런 느낌 속에서 정신 없이 그 하루가 어~ 지나갔던 생각이 듭니다. 그래서 어~ 편안한 느낌보다는 쫌 어수선했다는 느낌이 들어요. 그런데 오히려 음~ 자녀들과의 그~ 짜여진 틀에서의 뭐 어떤 그~ 형식적인 전화가 아니고 이케 간혹 전화를 해서 이렇게 집안 가족들에 대한 내용으로 되게 마음을 쓸 때 그런 때 아~ 이래서 자식을 또 키우는가보다. 아~ 그런 생각을 하고요. 그리고 내 자식에 기대치 않았는데 자녀가 어~ 마음을 쓰는 것 쓰는 거 그에 대한 내용 그리고 어~ 가족에 대해서 쫌 끈끈하게 가지고 있구나라는 그 느낌을 받을 때 되게 가족이라는 그런 단어 내에서 이 힘을 받스 받고 있습니다. 그리고 또 한 가지 아까 질문이 있으 있었던 거 같은데 이거 외에 다른 게 있으셨나요? 아~ 다른 게 없으셨나요? 그러면은 혹시 어~ &name1& 님이 그~ 자녀들을 낳으셨으면 자녀 외에 자녀 기존의 자녀 외에 음~ 또 뭐 자녀분을 결혼시켜서 며느님이 생겼다면 그 며느님과의 가족 관계에서의 어떻게 가족 관계를 형성하고  싶으신지 한번 얘기해주심 좋겠어요.',\n",
       "        '저의 생각은 일단 제 자녀는 저와 같이 생사를 같이 했었기 때문에 아무래도 저~ 친밀도가 높은데 어~ 며느리는 아무래두 이제 중간에 온 사람이기 때문에 그 정도로 친밀도가 높으리라고는 생각을 안 합니다. 그런데 어짜피 내 가족이 되었으니 서로 적응해가야 되고 서로 상처받는 일이 없어야 하기에 며느리도 노력을 해야 되는 거겠지만 내가 더 많은 노력을 하 해서 그~ 며느리가 상처받지 않도록 하기 위해서 더 많은 거를 참고 견뎌야 된다고 생각하고 그 아이의 부족한 부분봇 부분보다는 장점을 쫌 높게  치하해주고 칭찬을 즉 칭찬을 해줘서 쫌 더 나한테 가깝게 끌어들이고 가족이 될 수 있는 편안한 그런 관계가 쉽게 빠르게 될 수 있도록 노력을 하려고 하는데 이제 이거는 나만의 생각인 거지. 그~ 어~ 아이의 생각은 그 며느리의 생각은 아니므로 서로 맞춰가야 되고 어떤 과정에서는 서로 극복해가야 된다고 봅니다. 왜냐하면 서로 다른 환경에서 어~ 태어나고 자라서 만난 사람들이니 서로의 관계라 서로의 성향이 다르므로 굉장히 서로에 대해서 참고 서로 인내하는 부분이 커질 수 수 있고 많아져야 된다고 생각합니다. 혹시 어~ 님께서는 명절 때나 뭐 이럴 때 가족과 같이 지내실 때 또는 어~ 그런 경우가 아니드라도 가족이 모였을 때 어떤 일이 있어서 모였을 때 어떤 경우에 가족이 라는 존재가 있을 때 쫌 위안이 되고 어~ 기쁨이 일반 가족이 없을 때 비해서 컸는지 좀 알 수 있을까요?',\n",
       "        '0'],\n",
       "       ['저의 생각은 일단 제 자녀는 저와 같이 생사를 같이 했었기 때문에 아무래도 저~ 친밀도가 높은데 어~ 며느리는 아무래두 이제 중간에 온 사람이기 때문에 그 정도로 친밀도가 높으리라고는 생각을 안 합니다. 그런데 어짜피 내 가족이 되었으니 서로 적응해가야 되고 서로 상처받는 일이 없어야 하기에 며느리도 노력을 해야 되는 거겠지만 내가 더 많은 노력을 하 해서 그~ 며느리가 상처받지 않도록 하기 위해서 더 많은 거를 참고 견뎌야 된다고 생각하고 그 아이의 부족한 부분봇 부분보다는 장점을 쫌 높게  치하해주고 칭찬을 즉 칭찬을 해줘서 쫌 더 나한테 가깝게 끌어들이고 가족이 될 수 있는 편안한 그런 관계가 쉽게 빠르게 될 수 있도록 노력을 하려고 하는데 이제 이거는 나만의 생각인 거지. 그~ 어~ 아이의 생각은 그 며느리의 생각은 아니므로 서로 맞춰가야 되고 어떤 과정에서는 서로 극복해가야 된다고 봅니다. 왜냐하면 서로 다른 환경에서 어~ 태어나고 자라서 만난 사람들이니 서로의 관계라 서로의 성향이 다르므로 굉장히 서로에 대해서 참고 서로 인내하는 부분이 커질 수 수 있고 많아져야 된다고 생각합니다. 혹시 어~ 님께서는 명절 때나 뭐 이럴 때 가족과 같이 지내실 때 또는 어~ 그런 경우가 아니드라도 가족이 모였을 때 어떤 일이 있어서 모였을 때 어떤 경우에 가족이 라는 존재가 있을 때 쫌 위안이 되고 어~ 기쁨이 일반 가족이 없을 때 비해서 컸는지 좀 알 수 있을까요?',\n",
       "        '글쎄 명절 자녀들과의 명절의 시간 또는 저희가 어릴 때는 음~ 젊을 때죠. 젊을 때는 거의 부모 세대에 맞춰서 명절도 보냈고 거의 신 쉬야 쉬어야 하는 타이밍에는 거의 부모님들한테 맞춰서 살아온 세대예요. 그래서 어~ 그런 가운데서 어떤 가족이라는 테두릴 생각을 해왔었던 상황이고 이~ 요즘의 세대들은 어~ 부모님과의 관계에서 하루를 틈내거나 이틀 틈내거나 그런 개념이 아닐까 싶어요. 그래서 음~ 최근에 이제 저희 아이도 결혼을 몇 년 전에 해서 했는데 아침에 와서 정신 없이 밥 먹고 뭐하고 하다가 오후 저녁에 이제 가는 시간이 되다 보면 이렇게 되게 정신이 하루가 없는 거예요. 그래서 명절이란 느낌은 느낌은 있는데 쫌 정신이 없이 명절이 간다 이런 느낌이 들어요. 그랬는데 어~ 아직 앙치 결혼을 안 한 자녀는 한 이삼 일 같이 보내는 거죠. 이삼 일 이삼 일 같이 보내다 보면 더 이렇게 조그만한 것들 얘기를 할 수 있고 더 부모 자식이지만 부모의 속내나 자식의 속내도 더 많이 알 수 있는 시간이 되었어요. 그래서 어~ 우리의 살아온 세월과 요즘  또 일부의 또 그렇게 하는 자녀들의 사고와는 참 많이 갭이 있구나 어~ 이런 생각을 해봐요. 그래서 어~ 얼마 전에는 이제 그~ 결혼한 아이하고 사 이렇게 담소를 나눌 시간이 별로 없어서 전화 통화는 엄마하고 많이 하지만 많이 없어서 음~ 한번 왔다 간 지 며칠 안 됐지만 한번 만났으면 좋겠다 해서 만났는데 어~ 그래도 아주 부모 자식에 간의 다 단절 식으로 이렇게 뭐 잠깐만 보고 뭐 하면 되죠 이런 식이 아니어서 그래도 조금은 어~ 그런 대화 속에서 쫌 약간은 아~ 그래도 서로 노려갈 부분이 있겠구나. 그런 생각은 해봅니다. 그래서 부모 자식도 조끔의 시간을 어떤 어떤 날 어떤 날의 시간보다는 그 외의 날도 쫌 잠깐씩이라도 시간을 같이 갖는 게 가족 간의 유대 관계가 더 되지 않 유대 관계가 좋지 않을까 싶은 생각을 해봅니다. 그러면 그~ 자녀를 아직 안 시킨 결혼 안 시킨 자녀가 있으면 어~ &name1& 님께서 그~ 작은 결혼식을 좋아하신다고 하셨는데 자녀를 아직 결혼한 자녀가 있 있으면 그 자녀도 그~ 작은 결혼식을 하실 생각이신지.',\n",
       "        '0'],\n",
       "       ['결혼 전에 부모님과 일 남 삼 녀 로 막내 일 남 삼 녀 중의 막내로 여섯 명을 이룬 가정이었는데 우리 가족은 엄마 아빠는 늘 새벽 깜깜할 때 나가셔서 어 증조할머니가 계셨어요. 증조할머니 그리고 할아버지도 계셨고 제가 어렸을 때 초등학교 다닐 때까지는 그렇게 총 여덟 명이었는데 엄마랑 아빠는 살기 위해서 이 가정을 일으키기 위해서 없이 자란 분들이시라 벌어야 한다는 생각이 강하셔서 자녀들의 양육보다 돈이 우선 순위가 돼서 깜깜할 때 나가서 어두워야 들어오시는 분들이었어요. 할머니 진 증조할머니 손에 자랐고 그렇게 그렇게 자라 왔고 음~ 형제  형제 관계도 서로 서로 우애있게 잘 지냈고. 또 일 남 삼 녀 세 자녀 자매가 세 명이다 보니까 음~ 어렸을 때는 몰랐는데 크고 보니 자매가 많은 건 너무 좋더라구요. 내가 오빠한테는 이런 얘기를 아예 안 하고 선뜻 할 수도 없고 이런 부분을 언니한테는 쉽게 부모님의 부족한 부분이 부모님 한테 해드려야 될 부분들이나 가정 친정에 무언가를 해야 되는 일이 있으면 같이 자매들끼리 서로 이야기를 하고 그걸 오빠한테 이야기 해주구 같이 이렇게 하는 방향으로 지금까지 이끌어 왔는데 우리 가족은 자매가 많아서 너무 좋은 거 같고 부모님은 비록 사시느라 돈을 벌려고 그렇게 깜깜할 때 나가셔서 깜깜할 때 들어오셨 지만 가족을 사랑하는 마음을 알기 때문에 누구 하나 삐뚤어지게 자란 형제가 없었고 다 부모님을 존경하고 사랑하고 그렇게 잘 자란 가정의 케이스 같애요.',\n",
       "        '저는 저는 잘 기억이 안 나요. 아빠 얼굴이 기억이 안  어렸을 때 그냥 아~ 헤어지셨구나 어 약간 그런 상황에서 저는 인제 할머니 집에 그리구 저한테 인제 또 다른 남동생이 있거든요. 남동생은 인제 친가 쪽 저는 외가 동생은 친가 쪽 이렇게 나뉘어져서 그냥 할머니 할아버지 삼촌 이모  삼촌이 인제 결혼하면서 인제 외숙모가 생겼어요. 그러면서 인제 외숙모 손에서 거의 이 할머니랑 같이 이렇게 살면서 거의 외숙모 손에서 살았던 거 같애요. 삼촌하고 외숙모하고 같이 지내는 기간 동안에는 그래도 스 외숙모가 저를 초등학교 때 제가 초등학교 몇 학년인지 모르겠는데 그때 결혼하셔가주구 그나마 제가 육 학년 되기까진가 아무튼 그때까지는 숙모가 잘 이케 같이 케어해 주시면서 잘 그래도 감사하게 지내구 인제 나머지 인제 중학교나 고등학교 때는 인제 할머니 나 인제 그땐 어느 정도 자립할 수 있었으니까 그때는 제가 인제 그 안에서  잘 뭐 나름 잘 지냈던 거 같애요. 그렇게 하면서 인제 항상 그~ 온전한 가정에 대한 부러움이 항상 있었죠. 그르구 엄마는 인제 서울이나 인제 다른 인제 지방으루 일하러 가셔가주구 계속 가시고 인제 한번씩  내려오신 내려와서 인제 보고 인제 그때 엄마 올 때마다 이케 선물 이만큼 사 오시잖아요. 그러면서 인제 그 선물 어렸을 때는 그 선물은 너무 좋긴 했는데 엄마 온 게 더 좋았는데 참 그때는 그것들을 표현을 못 했던 거 같애요. 그러다 보니깐 인제 서로 원하긴 하는데 그런 표현들을 못 하다 보니까 커서 이렇게 인제 다시 엄마 품에 같이 지내는 동안에두 관계가 썩 좋 지는 않았던 거 같애요. 서로 이렇게 생각하는 내 부모니까 생각하는 마음이 있는데  막 그~ 친모에 대한 막 사랑이나 부모 내 부모에 대한 사랑이나 이런 것들이 참 없어서 저는 그게 너무 기도 제목이었어요. 내 부모를 공경할 줄 아는 항상 제 안에 인제 미움이 있었으 거 아니에요. 부모에 대한 음~ 있었고 또 인제 엄마 쪽에는 또 이케 어 일 남 삼 녀였어요. 형제들이 어 그래서 이모들이 있었고 삼촌이 있었는데 엄마도 너무 힘들었던 게 엄마만 할머니 할아버지가 유독 나가서 일을 하라고 하셨대요. 이분들은 다 이제 끼고 키우시면서  엄마도  그런 상처가 있으신 거예요.  그 형제들도 이렇게 지내면서  엄마에 대해서 이분들은 이케 셋이 지냈으니까 똘똘 뭉치면서 인제 엄마는 또 타지에 있구. 그래서 항상 이케 같이 지내지만 뭔가 시기와 질투에 있었던 거 같애요. 그래서 항상 저의 듣던 얘기는 그렇게 우리 엄마에 대해서 좋은 얘기를 듣지 못했어요. 그러면서 어~ 니네 엄마는 뭐 어떻다 어떻다 했대.  그때는 인제 그 분별에 안 되니까 뭐 그런가 부다 그런가 부다 그때는 그냥 내가 뭐 거기에 대해서 호응할 수도 없고 그런 상황이었는데  엄마랑 같이 살면서 엄마는 또 그런 자격지심이 . 어 니가 그렇게 살아서 나를 무시한다 그 가운데 살아가주구 항상 자기를 무시한다라는 생각을 하시더라구요.  제는 저는 인제 엄마를 무시하는 게 아니라 그건 인제 엄마에 대한 분노죠. 나를 어렸을 때부터 키우 키워주지 못한 그 사랑이 그 갈급함이 분노로 표출되는데 인제 엄마한테는 자기는 인제 그동안 받았던 상처들이 있으니까 그것들이 내 자식도 나를 무시한다라고 . 그래서 항상 기도 제목이 내 부모를 공경하는 십계명은 있어요. 내 부모를 공경하는 그게 항상 기도 제목이었던 거 같애요. 음~',\n",
       "        '0'],\n",
       "       ['저는 저는 잘 기억이 안 나요. 아빠 얼굴이 기억이 안  어렸을 때 그냥 아~ 헤어지셨구나 어 약간 그런 상황에서 저는 인제 할머니 집에 그리구 저한테 인제 또 다른 남동생이 있거든요. 남동생은 인제 친가 쪽 저는 외가 동생은 친가 쪽 이렇게 나뉘어져서 그냥 할머니 할아버지 삼촌 이모  삼촌이 인제 결혼하면서 인제 외숙모가 생겼어요. 그러면서 인제 외숙모 손에서 거의 이 할머니랑 같이 이렇게 살면서 거의 외숙모 손에서 살았던 거 같애요. 삼촌하고 외숙모하고 같이 지내는 기간 동안에는 그래도 스 외숙모가 저를 초등학교 때 제가 초등학교 몇 학년인지 모르겠는데 그때 결혼하셔가주구 그나마 제가 육 학년 되기까진가 아무튼 그때까지는 숙모가 잘 이케 같이 케어해 주시면서 잘 그래도 감사하게 지내구 인제 나머지 인제 중학교나 고등학교 때는 인제 할머니 나 인제 그땐 어느 정도 자립할 수 있었으니까 그때는 제가 인제 그 안에서  잘 뭐 나름 잘 지냈던 거 같애요. 그렇게 하면서 인제 항상 그~ 온전한 가정에 대한 부러움이 항상 있었죠. 그르구 엄마는 인제 서울이나 인제 다른 인제 지방으루 일하러 가셔가주구 계속 가시고 인제 한번씩  내려오신 내려와서 인제 보고 인제 그때 엄마 올 때마다 이케 선물 이만큼 사 오시잖아요. 그러면서 인제 그 선물 어렸을 때는 그 선물은 너무 좋긴 했는데 엄마 온 게 더 좋았는데 참 그때는 그것들을 표현을 못 했던 거 같애요. 그러다 보니깐 인제 서로 원하긴 하는데 그런 표현들을 못 하다 보니까 커서 이렇게 인제 다시 엄마 품에 같이 지내는 동안에두 관계가 썩 좋 지는 않았던 거 같애요. 서로 이렇게 생각하는 내 부모니까 생각하는 마음이 있는데  막 그~ 친모에 대한 막 사랑이나 부모 내 부모에 대한 사랑이나 이런 것들이 참 없어서 저는 그게 너무 기도 제목이었어요. 내 부모를 공경할 줄 아는 항상 제 안에 인제 미움이 있었으 거 아니에요. 부모에 대한 음~ 있었고 또 인제 엄마 쪽에는 또 이케 어 일 남 삼 녀였어요. 형제들이 어 그래서 이모들이 있었고 삼촌이 있었는데 엄마도 너무 힘들었던 게 엄마만 할머니 할아버지가 유독 나가서 일을 하라고 하셨대요. 이분들은 다 이제 끼고 키우시면서  엄마도  그런 상처가 있으신 거예요.  그 형제들도 이렇게 지내면서  엄마에 대해서 이분들은 이케 셋이 지냈으니까 똘똘 뭉치면서 인제 엄마는 또 타지에 있구. 그래서 항상 이케 같이 지내지만 뭔가 시기와 질투에 있었던 거 같애요. 그래서 항상 저의 듣던 얘기는 그렇게 우리 엄마에 대해서 좋은 얘기를 듣지 못했어요. 그러면서 어~ 니네 엄마는 뭐 어떻다 어떻다 했대.  그때는 인제 그 분별에 안 되니까 뭐 그런가 부다 그런가 부다 그때는 그냥 내가 뭐 거기에 대해서 호응할 수도 없고 그런 상황이었는데  엄마랑 같이 살면서 엄마는 또 그런 자격지심이 . 어 니가 그렇게 살아서 나를 무시한다 그 가운데 살아가주구 항상 자기를 무시한다라는 생각을 하시더라구요.  제는 저는 인제 엄마를 무시하는 게 아니라 그건 인제 엄마에 대한 분노죠. 나를 어렸을 때부터 키우 키워주지 못한 그 사랑이 그 갈급함이 분노로 표출되는데 인제 엄마한테는 자기는 인제 그동안 받았던 상처들이 있으니까 그것들이 내 자식도 나를 무시한다라고 . 그래서 항상 기도 제목이 내 부모를 공경하는 십계명은 있어요. 내 부모를 공경하는 그게 항상 기도 제목이었던 거 같애요. 음~',\n",
       "        '지금 자매가 셋이라 저는 막내다 보니 이게 자매가 형제들이 다 있어도 그~ 결혼해서 어렸을 때야 다 똑같은 한 가정에서 자라니 다 동등하지만 결혼해서는 인제 누군가는 잘살 수 있고 누군가는 부족할 수 있고 누군가는 그냥 평범할 수 있고 그런 가정들을 이루잖아요. 이~ 형제들이 서로 같은 형편이 되는 게 제일 좋은 거 같으는 같더라구요. 어~ 지금 작은 언니 같은 경우는 어~ 사 형부가 삼성 임원에다 이제 뭐 그러면 뭐 삼 대까지 뭐 그냥 산다 뭐 이런 얘기가 나올 정도로 그리고 시댁에서도 부어주시고 근데 작은 언니네 보면 믿음 생활을 하는 거 보면 너무 신실하고 하나님을 사랑하고 이런 게 보이는 거예요. 그러니 하나님께서 더 흘려보내니까 선교지로도 흘려보내고 흘려보내니까 더 채워주실 수밖에 엄 없겠드라구요. 어제 언니랑 대화를 하면서 그런 얘기들을 했거든요. 그래 근데 저도 결혼해서 그래도 신랑 뭐 외벌이로 살아가고 있지만 부족함 없이 늘 채워주시니 감사하고 오빠네도 같이 맞벌이 하지만 서로 어~ 그 집도 있고 잘 살아가고 있고 근데 큰 언니만 결혼을 안 한 상태로 혼자 있으니까 그렇다고 지금 무언가를 일을 한다거나 직업 그전에 땐쓰 쪽으로 일을 했지만 점점 나이가 들면서 몸이 안 따라주니까 몸이 자꾸 아프고 하다 보니까 그리고 또 큰 언니는 배우고 싶은 욕심이 되게 커요. 근데 부모님이 아까도 얘기했듯이 새벽 어두울 때 나가서 어두울 때 들어오시니까 그걸 자녀 의 교육이나 양육에 대해서 교육적인 부분에 대해서 먼저 이렇게 알려주시고 접근해서 방향을 가르쳐 주시거나 길을 선택할 수 있는 길을 알려주신다거나 그런 게 없어서 큰 언니는 여상을 가서 고등학교를 졸업하고 일을 바로 한 케이스예요. 근데 작은 언니부터 나까지는 다 대학교를 갔고 큰 언니 안에는 배우지 못한 근데 또 네 명 네 사 형제 중에 공부도 제일 잘했고 어렸을 때 왜 되게 똑똑하고 그래서 대전 충남에서 대어 대전으로 고등학교도 왔고 그때에는 정말 잘하는 사람들만 대전으로 올 수 있었 고 잘했는데 그 배우지 못함이 또 사회생활을 하면서 막 부모가 엄마가 이~ 딸들을 자녀들을 데리고 와서 무언가 일을 하면서 그런 모습들을 보니까 챙겨주고 막 사주구 이런 모습들을 보니까 그안에 차곡차곡 열등감이 쌓이기 시작한 거 같드라구요. 부러웠대요. 저 집은 난방두 마음껏 기름도 떼고 나는 추워서 늘 아껴 한 번 넣으면 아껴 쓰고 부모님도 자기를 도와 지금 이제 사회생활을 하니까 도와주는 게 아니고 자기가 해나가야 되는 입장이고 못 배워  고등학교까지밖에 못 나왔고 자기가 다 해나가야 되는 상황이니까 그 안에 부모님에 대한 조금의 원망? 왜 나를 이렇게 알려주지 않아서 왜 나한테 대학교 가라고 하지 않아서 왜 나를 지금 이렇게 힘들게 하지 그 자신의 그 쌓인 열 그 부족함들이 부모님한테 표출이 되어버린 거예요. 그래서 지금 사십 후반이지만 자기는 공부를 하고 싶다고 하면서 대학교를 다니기 시작했어요. 일을 그만두고 근데 부모님도 언니가 그렇게 얘기를 하니까 인제 자녀들을 너무 사랑하는 부모기 때문에 도와주지 못한 그 부분이 마음이 아픈 거예요. 도와줄 테니 지금 도와줄 테니 니가 하고 싶은 거 해라 해서 언니한테 매달 얼마씩 줘가며 언니는 일을 하지 않고 자기가 원하는 공부를 하고 있어요. 늘 바쁘다 하며 어~ 공부를 하고 있는데 어쨌든 이렇게 사 형제를 보면 지금 큰 언니만 가정을 이루지 않았고 또 꿈이야 있겠지만 특별한 직업이 없고 소득이 없으 없으니 이~ 같이 형제들 톡방이 있는데 그 안에서 어~ 부모님 엄마가 뭐 수술하셔서 꾸부리시기 힘드시니까 세면대를 놔드리면 좋을 거 같애 이제 대부분 다 제가 이제 부모님을 이제 많이 챙기고 부족한 걸 자꾸 이렇게 알아서 다 해드릴려고 하는 입장이라 제가 톡방에다 그런 그런 없는 것들 집에 없는 것들 있어야 되는 것들 그런 것들을 이야기해요. 그러면 부모님 보험도 형제계에서 나가고 근데 그러면 쫌 큰 언니는 지금 그 보험을 안 넣은지 일 이 년 됐거든요.  자신은 넣지 못하고 있으니까 선뜻 이야기를 못하는 거예요. 우리가 미안해해야 될 건 아닌데 괜히 마음에 언니 장녀로서 어쨌든 미안함이 있을 게 아니에요. 그걸 아니까 그런 얘기를 또 그 단톡방에 못하겠드라구요. 그래서 작은 언니한테 따로 개인톡으로 언니 이런 거 있는데 큰 언니가 알면 마음이 쫌 그럴 거 같애 라면서 언니랑 나랑 해드리면 어떨까 이런 식으로 이제 했던 것들이 몇 가지가 있어요. 그래서 형제들을 보면 동 나중에 결혼해서 쫌 위치가 비슷비슷해야 그들도 하나가 되어서 또 화합을 잘 이룰 수 있을 거 같다라는 생각이 들드라구요. 지금 아들이 셋이지만 이 애들이 누구는 정말 잘나고 누구는 못나고 이러면 나중에 그 관계 가 어~ 믿음 안에서 잘 이루어질 수도 있겠지만 사실 음~ 부정적인 마음이 들어갈 수도 있고 열등감 막 자기 자신만 왜 이러나 막 이런 마음이 들 수 있어서 지금 이 아이들한테 신겨줘야 될 것들이 무엇인지를 정확히 파악하고 가르치는 것도 동등하게 가르치고 그런데 또 거기서 중요한 건 첫째가 우선이 되어야 된다는 게 젤 느껴지드라구요. 첫째가 잘 돼야 그 밑의 아 동생들또 챙기는 게 쫌 음~ 순서가 이상하지 않 지 막내가 잘돼서 형님들을 챙기는 건 이게 순서가 보기에도 쫌 별론 거 같드라구요. 그래서 자녀 지금은 세 자녀를 양육하는 입장에서 이 자녀들을 다 자기 자신이 나중에 자라서 선택할 수 있는 폭들이 넓을 수 있도록 내가 다양하게 길을 알려주고 제시하고 선택은 아이들한테 맡기겠지만 이 아이들을 지금 잘 가르치는 게 우선이 되겠구나 이런 생각이 들었어요.',\n",
       "        '0'],\n",
       "       ['지금 자매가 셋이라 저는 막내다 보니 이게 자매가 형제들이 다 있어도 그~ 결혼해서 어렸을 때야 다 똑같은 한 가정에서 자라니 다 동등하지만 결혼해서는 인제 누군가는 잘살 수 있고 누군가는 부족할 수 있고 누군가는 그냥 평범할 수 있고 그런 가정들을 이루잖아요. 이~ 형제들이 서로 같은 형편이 되는 게 제일 좋은 거 같으는 같더라구요. 어~ 지금 작은 언니 같은 경우는 어~ 사 형부가 삼성 임원에다 이제 뭐 그러면 뭐 삼 대까지 뭐 그냥 산다 뭐 이런 얘기가 나올 정도로 그리고 시댁에서도 부어주시고 근데 작은 언니네 보면 믿음 생활을 하는 거 보면 너무 신실하고 하나님을 사랑하고 이런 게 보이는 거예요. 그러니 하나님께서 더 흘려보내니까 선교지로도 흘려보내고 흘려보내니까 더 채워주실 수밖에 엄 없겠드라구요. 어제 언니랑 대화를 하면서 그런 얘기들을 했거든요. 그래 근데 저도 결혼해서 그래도 신랑 뭐 외벌이로 살아가고 있지만 부족함 없이 늘 채워주시니 감사하고 오빠네도 같이 맞벌이 하지만 서로 어~ 그 집도 있고 잘 살아가고 있고 근데 큰 언니만 결혼을 안 한 상태로 혼자 있으니까 그렇다고 지금 무언가를 일을 한다거나 직업 그전에 땐쓰 쪽으로 일을 했지만 점점 나이가 들면서 몸이 안 따라주니까 몸이 자꾸 아프고 하다 보니까 그리고 또 큰 언니는 배우고 싶은 욕심이 되게 커요. 근데 부모님이 아까도 얘기했듯이 새벽 어두울 때 나가서 어두울 때 들어오시니까 그걸 자녀 의 교육이나 양육에 대해서 교육적인 부분에 대해서 먼저 이렇게 알려주시고 접근해서 방향을 가르쳐 주시거나 길을 선택할 수 있는 길을 알려주신다거나 그런 게 없어서 큰 언니는 여상을 가서 고등학교를 졸업하고 일을 바로 한 케이스예요. 근데 작은 언니부터 나까지는 다 대학교를 갔고 큰 언니 안에는 배우지 못한 근데 또 네 명 네 사 형제 중에 공부도 제일 잘했고 어렸을 때 왜 되게 똑똑하고 그래서 대전 충남에서 대어 대전으로 고등학교도 왔고 그때에는 정말 잘하는 사람들만 대전으로 올 수 있었 고 잘했는데 그 배우지 못함이 또 사회생활을 하면서 막 부모가 엄마가 이~ 딸들을 자녀들을 데리고 와서 무언가 일을 하면서 그런 모습들을 보니까 챙겨주고 막 사주구 이런 모습들을 보니까 그안에 차곡차곡 열등감이 쌓이기 시작한 거 같드라구요. 부러웠대요. 저 집은 난방두 마음껏 기름도 떼고 나는 추워서 늘 아껴 한 번 넣으면 아껴 쓰고 부모님도 자기를 도와 지금 이제 사회생활을 하니까 도와주는 게 아니고 자기가 해나가야 되는 입장이고 못 배워  고등학교까지밖에 못 나왔고 자기가 다 해나가야 되는 상황이니까 그 안에 부모님에 대한 조금의 원망? 왜 나를 이렇게 알려주지 않아서 왜 나한테 대학교 가라고 하지 않아서 왜 나를 지금 이렇게 힘들게 하지 그 자신의 그 쌓인 열 그 부족함들이 부모님한테 표출이 되어버린 거예요. 그래서 지금 사십 후반이지만 자기는 공부를 하고 싶다고 하면서 대학교를 다니기 시작했어요. 일을 그만두고 근데 부모님도 언니가 그렇게 얘기를 하니까 인제 자녀들을 너무 사랑하는 부모기 때문에 도와주지 못한 그 부분이 마음이 아픈 거예요. 도와줄 테니 지금 도와줄 테니 니가 하고 싶은 거 해라 해서 언니한테 매달 얼마씩 줘가며 언니는 일을 하지 않고 자기가 원하는 공부를 하고 있어요. 늘 바쁘다 하며 어~ 공부를 하고 있는데 어쨌든 이렇게 사 형제를 보면 지금 큰 언니만 가정을 이루지 않았고 또 꿈이야 있겠지만 특별한 직업이 없고 소득이 없으 없으니 이~ 같이 형제들 톡방이 있는데 그 안에서 어~ 부모님 엄마가 뭐 수술하셔서 꾸부리시기 힘드시니까 세면대를 놔드리면 좋을 거 같애 이제 대부분 다 제가 이제 부모님을 이제 많이 챙기고 부족한 걸 자꾸 이렇게 알아서 다 해드릴려고 하는 입장이라 제가 톡방에다 그런 그런 없는 것들 집에 없는 것들 있어야 되는 것들 그런 것들을 이야기해요. 그러면 부모님 보험도 형제계에서 나가고 근데 그러면 쫌 큰 언니는 지금 그 보험을 안 넣은지 일 이 년 됐거든요.  자신은 넣지 못하고 있으니까 선뜻 이야기를 못하는 거예요. 우리가 미안해해야 될 건 아닌데 괜히 마음에 언니 장녀로서 어쨌든 미안함이 있을 게 아니에요. 그걸 아니까 그런 얘기를 또 그 단톡방에 못하겠드라구요. 그래서 작은 언니한테 따로 개인톡으로 언니 이런 거 있는데 큰 언니가 알면 마음이 쫌 그럴 거 같애 라면서 언니랑 나랑 해드리면 어떨까 이런 식으로 이제 했던 것들이 몇 가지가 있어요. 그래서 형제들을 보면 동 나중에 결혼해서 쫌 위치가 비슷비슷해야 그들도 하나가 되어서 또 화합을 잘 이룰 수 있을 거 같다라는 생각이 들드라구요. 지금 아들이 셋이지만 이 애들이 누구는 정말 잘나고 누구는 못나고 이러면 나중에 그 관계 가 어~ 믿음 안에서 잘 이루어질 수도 있겠지만 사실 음~ 부정적인 마음이 들어갈 수도 있고 열등감 막 자기 자신만 왜 이러나 막 이런 마음이 들 수 있어서 지금 이 아이들한테 신겨줘야 될 것들이 무엇인지를 정확히 파악하고 가르치는 것도 동등하게 가르치고 그런데 또 거기서 중요한 건 첫째가 우선이 되어야 된다는 게 젤 느껴지드라구요. 첫째가 잘 돼야 그 밑의 아 동생들또 챙기는 게 쫌 음~ 순서가 이상하지 않 지 막내가 잘돼서 형님들을 챙기는 건 이게 순서가 보기에도 쫌 별론 거 같드라구요. 그래서 자녀 지금은 세 자녀를 양육하는 입장에서 이 자녀들을 다 자기 자신이 나중에 자라서 선택할 수 있는 폭들이 넓을 수 있도록 내가 다양하게 길을 알려주고 제시하고 선택은 아이들한테 맡기겠지만 이 아이들을 지금 잘 가르치는 게 우선이 되겠구나 이런 생각이 들었어요.',\n",
       "        '저희 그 &name& 아빠 같은 경우두 세 명이잖아요. 그~ 다 인제 지금은 가정을 이루고 있어 있는데 저희도 큰 누님이 제일 늦게 가셨거든요. 제일 늦게 가서 집안의 인제 골칫거리였다가 결혼하면서 바로 자녀도 갖고 너무 잘 되셔서 감사했는데 인제 연 나이 드시다 보니까는 남편분 또 인제 직업 때문에 많이 힘들어하시기도 하고 또 둘째를 또 나셨는데 그 부분에서 힘들어하시더라구요. 그래서 참 그~ 세 자녀들이 잘되는 것이 참 중요하다라는  그런 생각이 들어요. 저두',\n",
       "        '0'],\n",
       "       ['혹시 가족 관계가 어떻게 되세요?',\n",
       "        '네. 저는 마흔일곱 남편이라고 하지만 가장 큰 아들인 남편과 지금 스무 살짜리 아들과요. 열여덟 딸과 열여섯 아들 이렇게 해서 자녀가 세 명 있구요. 그래서 총 다섯 명이 있습니다. 다섯 식구가 살아가고 있구요. 우선은 뭐 제가 결혼을 일찍 해서 아이들이 쫌 크기는 해요. 커서 아이들도 수도 많고 나이도 많은 편이구요. 제 나이에 비해서 근데 처음에 아이들을 키울 때는 제가 너무 어린 나이어서 쫌 놀고 싶은 그런 게 되게 많았었어요. 근데 지금은 아이들이 너무 컸기 때문에 친구들은 아직 초등학교 아이를 키우고 있드라구요. 그래서 지금은 가장 좋습니다. 나이가 어떻게 되세요?',\n",
       "        '0'],\n",
       "       ['네. 저는 마흔일곱 남편이라고 하지만 가장 큰 아들인 남편과 지금 스무 살짜리 아들과요. 열여덟 딸과 열여섯 아들 이렇게 해서 자녀가 세 명 있구요. 그래서 총 다섯 명이 있습니다. 다섯 식구가 살아가고 있구요. 우선은 뭐 제가 결혼을 일찍 해서 아이들이 쫌 크기는 해요. 커서 아이들도 수도 많고 나이도 많은 편이구요. 제 나이에 비해서 근데 처음에 아이들을 키울 때는 제가 너무 어린 나이어서 쫌 놀고 싶은 그런 게 되게 많았었어요. 근데 지금은 아이들이 너무 컸기 때문에 친구들은 아직 초등학교 아이를 키우고 있드라구요. 그래서 지금은 가장 좋습니다. 나이가 어떻게 되세요?',\n",
       "        '어~ 저 나이는 이제 곧 서른이구요. 그리구 만 나이로는 스물여덟이구요. 그리고 저희 가족 관계를 간단하게 설명 드리면은 저가 좀 늦게 태어났어요. 그래가지고 저희 아 어먼 아버님이 예순일곱이시구요. 그리고 어머님이 예순여섯이고. 그리고 형은 이제 서른두 살. 이르케 있으세요. 있고 그러니까 늦게 태어나다 보니까 이제 남들 보다는 좀 달르더라고요. 근까 좀 뭔가 재촉 어~ 결혼도 빨리해야 될 것 같고 막 이런 생각도 많이 들기도 하고 어머니 주위에 그래서 막 결혼하신 분도 있으시고 거의 손자도 있으시고 그리고 어머니가 쪼 친척 중에서 둘째 아~ 셋째 둘째 이모세요. 그런데 이제 막 이제 셋째 동생 이모들이 있는데 이모들 자식들도 지금 보면은 저희보다 나이가 많거나 아니면은 결혼 했거나 조카가 있거나 막 이런 식이어서 저도 이제 막 이런 장면들을 보면은 좀 저도 빨리 결혼해야 돼 에~ 빨리 결혼내다 그런 것도 있고 그리고 저가 이제 친척 형이라고 부르는 사람이 이제 쉰두 살 막 이렇게 돼가주구 저도 이제 막 나이 많으신 분들이랑도 이제 편하게 대화할 수 있는 그런 거 같애요. 그러시면은 가족 행사가 있으신데 뭐 가족 그~ 가족이랑 같이 지내면서 뭐 재밌는 에피소드 있으세요?',\n",
       "        '0'],\n",
       "       ['어~ 저 나이는 이제 곧 서른이구요. 그리구 만 나이로는 스물여덟이구요. 그리고 저희 가족 관계를 간단하게 설명 드리면은 저가 좀 늦게 태어났어요. 그래가지고 저희 아 어먼 아버님이 예순일곱이시구요. 그리고 어머님이 예순여섯이고. 그리고 형은 이제 서른두 살. 이르케 있으세요. 있고 그러니까 늦게 태어나다 보니까 이제 남들 보다는 좀 달르더라고요. 근까 좀 뭔가 재촉 어~ 결혼도 빨리해야 될 것 같고 막 이런 생각도 많이 들기도 하고 어머니 주위에 그래서 막 결혼하신 분도 있으시고 거의 손자도 있으시고 그리고 어머니가 쪼 친척 중에서 둘째 아~ 셋째 둘째 이모세요. 그런데 이제 막 이제 셋째 동생 이모들이 있는데 이모들 자식들도 지금 보면은 저희보다 나이가 많거나 아니면은 결혼 했거나 조카가 있거나 막 이런 식이어서 저도 이제 막 이런 장면들을 보면은 좀 저도 빨리 결혼해야 돼 에~ 빨리 결혼내다 그런 것도 있고 그리고 저가 이제 친척 형이라고 부르는 사람이 이제 쉰두 살 막 이렇게 돼가주구 저도 이제 막 나이 많으신 분들이랑도 이제 편하게 대화할 수 있는 그런 거 같애요. 그러시면은 가족 행사가 있으신데 뭐 가족 그~ 가족이랑 같이 지내면서 뭐 재밌는 에피소드 있으세요?',\n",
       "        '저는 에피소드가 좀 많아요. 제가 아이들을 셋을 키우면서 뭐 남편이 수입이 그렇게 많지 않다 보니까 어떻게든 아껴 써야 된다는 생각으로 아이들한테 제 사고방식으로 아이들한테 강요를 한 적이 좀 많은 것 같애요. 어~ 중학교 큰애가 중학교 때 뭐 수퍼에서 물건을 사다 보면 저 수퍼에서 쪼끔 싸게 팔 때가 있고 이 수퍼에서 싸게 팔 때가 있는데 어느 수퍼에서 싸게 파는 몽 뭄 요즘 품목이 한 가구당 뭐 한 개 팔 때가 있어요. 그거를 저희 아이들 한테 세 명에 주면서 돈을 따로 따로 주면서 그걸 사 오라 그래요. 너네 하나씩 가서 이거 사 오라고 하면 걔네들이 저희 아이들이 눈이 좀 커요. 그래서 이렇게 봤을 때 쟤네는 가족이다. 그런게 보이는데 제가 봐서는 그런 걸 잘 모르잖아요.  가가지고 물건을 사 오라고 시켰는데 그~ 카운터 이모가 얘네 셋이 이렇게 쭉 서 있었어요. 계산할려구 딱 보더니 너희 가족 아니니? 물어봤어요. 근데 중학교 삼 학년짜리 사춘기예요. 근데 그 아이가요. 저는 얘네 몰라요. 그렇게 얘길 하는 거예요. 저는 그 얘길 듣고 제 방식대로 키우는 아이들이지만 제 스스로도 너무 웃긴 거예요. 그 자체가 그래서 그거를 듣구서 저희 남편이 참 너희 엄마 땜에 네가 참 힘들게 사는구나라는 그런 에피소드가 이거는 약과구요.  그런 일들이 많았습니다. 그러면 지금 서른 살이 되셨는데 음 여자 친군 있으세요?',\n",
       "        '0'],\n",
       "       ['저는 에피소드가 좀 많아요. 제가 아이들을 셋을 키우면서 뭐 남편이 수입이 그렇게 많지 않다 보니까 어떻게든 아껴 써야 된다는 생각으로 아이들한테 제 사고방식으로 아이들한테 강요를 한 적이 좀 많은 것 같애요. 어~ 중학교 큰애가 중학교 때 뭐 수퍼에서 물건을 사다 보면 저 수퍼에서 쪼끔 싸게 팔 때가 있고 이 수퍼에서 싸게 팔 때가 있는데 어느 수퍼에서 싸게 파는 몽 뭄 요즘 품목이 한 가구당 뭐 한 개 팔 때가 있어요. 그거를 저희 아이들 한테 세 명에 주면서 돈을 따로 따로 주면서 그걸 사 오라 그래요. 너네 하나씩 가서 이거 사 오라고 하면 걔네들이 저희 아이들이 눈이 좀 커요. 그래서 이렇게 봤을 때 쟤네는 가족이다. 그런게 보이는데 제가 봐서는 그런 걸 잘 모르잖아요.  가가지고 물건을 사 오라고 시켰는데 그~ 카운터 이모가 얘네 셋이 이렇게 쭉 서 있었어요. 계산할려구 딱 보더니 너희 가족 아니니? 물어봤어요. 근데 중학교 삼 학년짜리 사춘기예요. 근데 그 아이가요. 저는 얘네 몰라요. 그렇게 얘길 하는 거예요. 저는 그 얘길 듣고 제 방식대로 키우는 아이들이지만 제 스스로도 너무 웃긴 거예요. 그 자체가 그래서 그거를 듣구서 저희 남편이 참 너희 엄마 땜에 네가 참 힘들게 사는구나라는 그런 에피소드가 이거는 약과구요.  그런 일들이 많았습니다. 그러면 지금 서른 살이 되셨는데 음 여자 친군 있으세요?',\n",
       "        '어~ 여자 친구를 물어보셨는데 우선 저도 결혼을 빨리 은까 가족이 어머니가 이제 연세가 있다 보니까 이제 결혼을 빨리 해야 된다는 생각에 이제 여자 친구를 사귀고 싶고 그랬는데 어머니가 옛날부터 저한테 말씀하셨던 게 뭐냐면은 공부 좀 하라. 이런 말을 잔소리 많이 하셨어요. 근데 저가 이제 고등학교 때는 공부를 진짜 열심히 안 했어요. 근까 재미도 없고 하는데 이제 대학교 막상 이제 들어가니까 저희 이제 관심 분야가 생겼잖아요. 그러다 보니까 이제 그기에 관심이 가게 되고 이제 공  공부에 이제 재미를 붙이다 보니까 이제 늦게 돼서야 이제 공부에 재미를 붙여가지구 원래 이런 말도 있잖아요. 어머니께서 고등학교 때 연애하지 말고 대학교 가서 연애해라라는 식으로 해가지구 고등학교 때 가서 이제 할려구 했는데 이제 어~ 군대 갔다 오고 막상 이제 연구실에 들어가다 보니까 어~ 그냥 하루 종일 텀이 그냥 도서관 집 연구실 집 도서관 집 연구실이다 보니까 어~ 좀 연애할 시간도 없었던 거 같애요. 그리구 어~ 술을 또 좋아하지 않아가지구 또 뭐 술자리 가야지 이제 뭐 연애 여자를 만나고 할 텐데 그런 게 없어가지고 좀 많이 교류가 없었죠. 그래서 아직 현재는 아직 여자 친구가 없는 상태입니다. 아~ 그러시면은 만약에 가족 중에 이제 뭐 아까 전에 보니까 아들님이 스무 살이고 이제 딱 아들 딸들이 있으신데 만약에 이제 여자 친구라고 생각하고 이제 델꼬 남자 친구나 이성 친구를 델꼬 왔으면은 혹시 기분이 어떠신지. 그거에 대해서 궁금하네요.',\n",
       "        '0'],\n",
       "       ['가족 중에서 제일 사랑하는 가족이 있으세요?',\n",
       "        '질문이 좀 아이러니한데 가족 다 사랑하죠. 누구 한 명을 꼭 꼽자 이런 건 없는 거 같아요. 저는 음~ 가족 가족에 대해서 생각해 본 적이 결혼하고 나서 더 많이 생각을 하게 된 거 같아요. 그전에는 가족의 의미 를 크게 못 느꼈었는데 결혼을 하고 나니까 가족의 의미를 하나씩 알게 되더라구요. 가족의 소중함도 알겠고 가족의 힘 그리고 가족이 이래서 가족이구나 더 많이 기대게 되고 더 많이 느끼게 되고 없으면 안 되는 것 중의 하나가 사실은 가족이죠. &name1& 님도 가족을 이루셨잖아요. 어떠세요? 어떤 가정을 이루고 싶으세요?',\n",
       "        '0'],\n",
       "       ['질문이 좀 아이러니한데 가족 다 사랑하죠. 누구 한 명을 꼭 꼽자 이런 건 없는 거 같아요. 저는 음~ 가족 가족에 대해서 생각해 본 적이 결혼하고 나서 더 많이 생각을 하게 된 거 같아요. 그전에는 가족의 의미 를 크게 못 느꼈었는데 결혼을 하고 나니까 가족의 의미를 하나씩 알게 되더라구요. 가족의 소중함도 알겠고 가족의 힘 그리고 가족이 이래서 가족이구나 더 많이 기대게 되고 더 많이 느끼게 되고 없으면 안 되는 것 중의 하나가 사실은 가족이죠. &name1& 님도 가족을 이루셨잖아요. 어떠세요? 어떤 가정을 이루고 싶으세요?',\n",
       "        '저는 가족 을 이뤘죠. 가정을 이뤘죠. 제가 결혼 전에는 가족은 친정 식구도 다 가족이다 이렇게 생각하고 살았어요. 이쪽도 내 가족 이쪽도 내 가족 오빠네 가족도 내 가족 언니네 가족도 내 가족 엄마네 가족도 내 가족 제가 결혼해서 살아 보니까 가족은 다 구축된 가족이 다 있더라구요. 가정 가족 이케 뭔가 그 틀이 있긴 있는 거더라고요. 제가 몰랐던 게 많았던 거 같애요. 근데 어쨌든 큰 의미에서 보면 다 가족이죠. 친정도 가족 시댁도 가족 넓은 범위 내에서는 다 가족이죠. 어디까지 어디까지 정말 내 마음속에 가족이라고 봐야 될까요. &name2& 님은 어디까지 가족으로 보고 계신가요?',\n",
       "        '0'],\n",
       "       ['저는 가족 을 이뤘죠. 가정을 이뤘죠. 제가 결혼 전에는 가족은 친정 식구도 다 가족이다 이렇게 생각하고 살았어요. 이쪽도 내 가족 이쪽도 내 가족 오빠네 가족도 내 가족 언니네 가족도 내 가족 엄마네 가족도 내 가족 제가 결혼해서 살아 보니까 가족은 다 구축된 가족이 다 있더라구요. 가정 가족 이케 뭔가 그 틀이 있긴 있는 거더라고요. 제가 몰랐던 게 많았던 거 같애요. 근데 어쨌든 큰 의미에서 보면 다 가족이죠. 친정도 가족 시댁도 가족 넓은 범위 내에서는 다 가족이죠. 어디까지 어디까지 정말 내 마음속에 가족이라고 봐야 될까요. &name2& 님은 어디까지 가족으로 보고 계신가요?',\n",
       "        '저는 생각하기 나름이라고 생각해요. 남이래도 옆집 사람도 내가 가족이다 품으면 오히려 핏줄보다 더 가족 같은 가족이 될 수 있거든요. 꼭 핏줄이 섞여야 가족은 아니잖아요. 심리적인 것도 어느 정도는 작용을 하는 거 같애요. 결혼 안 했을 때는 몰랐는데 결혼하고 나니까 생각을 안 했던 부분을 많이 생각을 하게 되더라구요. 내가 언제부터 이렇 게 부모에 대해서 생각을 했었나 한 번도 생각해보지 않았던 부분들을 어느 순간부터 떠올리는 거를 보고 이런 게 나이를 먹는 거구나 철이 드는 거구나 살짝 감이 오더라구요. 아직 멀었겠지만 평생 철이 들어야 되겠지만 그래도 아무래도 핏줄이 섞인 가족이 더 끌리는 건 맞고 그게 더 진정한 가족이겠죠. 가족도 가족도 뭐 가족 나름이겠지만 또 다 가족이 좋은 가족이라고 볼 수 없잖아요. 그중에 또 득이 되는 가족이 있는 반면에 해가 되는 또 가족도 있고 뭐 어쩌겠어요. 다 품어야지. 가족이 왜 가족이에요. 그래서 가족이지. 그렇지 않으면 남이겠죠. &name1& 님은 어떠세요. 득이 되는 가족이 있으세요 해가 되는 가족이 있으세요?',\n",
       "        '0'],\n",
       "       ['저는 생각하기 나름이라고 생각해요. 남이래도 옆집 사람도 내가 가족이다 품으면 오히려 핏줄보다 더 가족 같은 가족이 될 수 있거든요. 꼭 핏줄이 섞여야 가족은 아니잖아요. 심리적인 것도 어느 정도는 작용을 하는 거 같애요. 결혼 안 했을 때는 몰랐는데 결혼하고 나니까 생각을 안 했던 부분을 많이 생각을 하게 되더라구요. 내가 언제부터 이렇 게 부모에 대해서 생각을 했었나 한 번도 생각해보지 않았던 부분들을 어느 순간부터 떠올리는 거를 보고 이런 게 나이를 먹는 거구나 철이 드는 거구나 살짝 감이 오더라구요. 아직 멀었겠지만 평생 철이 들어야 되겠지만 그래도 아무래도 핏줄이 섞인 가족이 더 끌리는 건 맞고 그게 더 진정한 가족이겠죠. 가족도 가족도 뭐 가족 나름이겠지만 또 다 가족이 좋은 가족이라고 볼 수 없잖아요. 그중에 또 득이 되는 가족이 있는 반면에 해가 되는 또 가족도 있고 뭐 어쩌겠어요. 다 품어야지. 가족이 왜 가족이에요. 그래서 가족이지. 그렇지 않으면 남이겠죠. &name1& 님은 어떠세요. 득이 되는 가족이 있으세요 해가 되는 가족이 있으세요?',\n",
       "        '득이 되는 가족 해가 되는 가족 이라고 말하기가 참 잘 모르겠어요. 그 부분에 대해서 가족은 그냥 득도 되고 도움도 되고 지금 아마 &name2& 님도 &name2& 님 가족에게는 득도 되고 슬픔도 되고 기쁨도 되고 다 저도 우리 가족에게는 기쁨도 되었다 슬픔도 되었다 다 그럴 거 같애요. 어느 순간에 기쁨도 줬다 슬픔도 줬다 다 그럴 거 같애요. 가족 행사 중에는 어떤 행사를 제일 크게 치르고 계세요? 뭐 생일이라던가 무슨 결혼기념일이라던가 뭐 어떤 행사를 좀 제일 크게 우리 집에는 가족 행사 중에 우리는 이거는 안 빼놓고 제일 크게 지낸다 하는 행사 있으신가요?',\n",
       "        '0'],\n",
       "       ['득이 되는 가족 해가 되는 가족 이라고 말하기가 참 잘 모르겠어요. 그 부분에 대해서 가족은 그냥 득도 되고 도움도 되고 지금 아마 &name2& 님도 &name2& 님 가족에게는 득도 되고 슬픔도 되고 기쁨도 되고 다 저도 우리 가족에게는 기쁨도 되었다 슬픔도 되었다 다 그럴 거 같애요. 어느 순간에 기쁨도 줬다 슬픔도 줬다 다 그럴 거 같애요. 가족 행사 중에는 어떤 행사를 제일 크게 치르고 계세요? 뭐 생일이라던가 무슨 결혼기념일이라던가 뭐 어떤 행사를 좀 제일 크게 우리 집에는 가족 행사 중에 우리는 이거는 안 빼놓고 제일 크게 지낸다 하는 행사 있으신가요?',\n",
       "        '저희 집은 생일을 가장 크게 꼽고 있어요. 애들 생일도 마찬가지고 어른 생일도 마찬가지예요. 생일이면 뭐 모두 참석할 수는 없겠지만 그래도 웬만하면 온 가족이 다 참석을 하려고 노력을 하죠. 어쨌든 일 년에 한 번이니까 축하해 주고 싶어서 뭐 그게 크던 작던 상관없이 밥 한 끼 먹자 하는 의미예요. 그거를 가장 크게 꼽고 있고 저희 가족의 어떻게 보면 자부심 중의 하나예요. 또 그렇게 얼굴을 안 보면 일 년에 크게 볼 날이 얼마나 있겠냐 해서 시작이 된 거였는데 저희 집 같은 경우는 너무 많이 보죠. 사실 너무 많이 봐서 탈인데 안 보는 거보다는 나은 거 같아요. 그렇게 하나둘씩 챙기다 보면 되게 소소한 것까지 안 챙길 수가 없더라고요. 그냥 지나갈 수가 없고 챙기게 되고 어떠세요. 어떤 거를 가장 손 꼽으세요?',\n",
       "        '0'],\n",
       "       ['저희 집은 생일을 가장 크게 꼽고 있어요. 애들 생일도 마찬가지고 어른 생일도 마찬가지예요. 생일이면 뭐 모두 참석할 수는 없겠지만 그래도 웬만하면 온 가족이 다 참석을 하려고 노력을 하죠. 어쨌든 일 년에 한 번이니까 축하해 주고 싶어서 뭐 그게 크던 작던 상관없이 밥 한 끼 먹자 하는 의미예요. 그거를 가장 크게 꼽고 있고 저희 가족의 어떻게 보면 자부심 중의 하나예요. 또 그렇게 얼굴을 안 보면 일 년에 크게 볼 날이 얼마나 있겠냐 해서 시작이 된 거였는데 저희 집 같은 경우는 너무 많이 보죠. 사실 너무 많이 봐서 탈인데 안 보는 거보다는 나은 거 같아요. 그렇게 하나둘씩 챙기다 보면 되게 소소한 것까지 안 챙길 수가 없더라고요. 그냥 지나갈 수가 없고 챙기게 되고 어떠세요. 어떤 거를 가장 손 꼽으세요?',\n",
       "        '저는 그러게 제가 질문을 하고도 가족의 행사에 대해서 뭐를 챙기고 살았나 하는 생각이 드네요. 챙기고는 다 살았을 텐데 분명 생일 생일을 주로 챙기고 살았던 거 같애요. 제사 아이들 생일을 제일 크게 하죠. 맛있는 거 먹고 사실 가족이 모인다는 거는 굉장히 큰 의미가 있는데 소소하든 작던 가족이 모여서 무슨 생일 아니어도 모일 수 있는 공간이 참 많은데 가족들이 모이는 게 쉬운 거 같으면서도 어려운 일인 거 같애요. 가족 중에서 제일 편하게 생각하는 가족 있으세요?',\n",
       "        '0'],\n",
       "       ['저는 그러게 제가 질문을 하고도 가족의 행사에 대해서 뭐를 챙기고 살았나 하는 생각이 드네요. 챙기고는 다 살았을 텐데 분명 생일 생일을 주로 챙기고 살았던 거 같애요. 제사 아이들 생일을 제일 크게 하죠. 맛있는 거 먹고 사실 가족이 모인다는 거는 굉장히 큰 의미가 있는데 소소하든 작던 가족이 모여서 무슨 생일 아니어도 모일 수 있는 공간이 참 많은데 가족들이 모이는 게 쉬운 거 같으면서도 어려운 일인 거 같애요. 가족 중에서 제일 편하게 생각하는 가족 있으세요?',\n",
       "        '전 언니가 제일 편하더라고요. 엄마 아빠가 가장 나에게 큰 선물을 주셨구나 약간 이런 느낌 진짜 큰 버팀목 같은 그런 느낌이에요. 없으면 안 될 존재 같은 가끔은 그런 생각도 해요. 아~ 나보다 언니가 더 오래 살았으면 좋겠다. 왠지 내가 감당이 안 될 거 같은 느낌이 들어서 그 정도로 내가 되게 많이 기대 고 있구나 라는 생각을 엄청 많이 하죠. 오히려 지금 살고 있는 신랑이나 뭐 보다 언니를 더 많이 생각하고 더 많이 기대는 거 같애요. 부모님보다도 더 자리가 큰 거 같은 느낌이 들 때도 있어요. 어쩔 때는 그래서 형제가 있어야 되나 보다 이런 느낌도 있구요. 그런 걸 보면은 &name1& 님은 참 성공하신 거 같네요. 자녀분이 있으시잖아요. 어떠세요? 자녀들한테 기대감은 있으신가요?',\n",
       "        '0'],\n",
       "       ['저는 애가 지금 대학교 일 학년이고 이제 인제 둘째가 대학교 일 학년인데 학교를 지금 못 가고 계속 온라인 강의로 수업을 하고 있어요. 어~ 그래서 아이가  그게 그~ 쫌 코로나도 그렇고 집에만 너무 있다 보니까 그게 너무 아이한테 안 좋은 거 같애요. 아우 그래서 지금 진짜 이~ 코로나 십구가 빨리 끝나야 되는데 아~ 너무 진짜 지연이 되니까 너무 힘든 거 같애. 여러 가지로 어떠세요?',\n",
       "        '네. 저는 저도 이제 아들이 한 명 있어요. 근데 얘는 이제 지금 다행히 다행은  아니고 어쨌든 공부하는 재수생이다 보니까 얘도 마찬가지인 거 같애요. 학원은 가지만 어쨌든 그 속에서 계속 열두 시간 이상을 이제 마스크를 착용하고 공부를 해야 되니까 그거에 대한 좀 애로사항이 있는 거 같애요. 집에 있으면 있는 대로 걱정이 되겠지만 일단 또 외부로 나가서 활동을 하고 있다 보니까 그게 또 걱 좀 걱정이 많이 되고요. 그래도 나름대로 본인도 이제 거기서 적응하다 보니까  찾아가고 또 공부하는 방법도 찾아가곤 하는데 일단은 또 재수생이다 보니까 지금의 또 코로나가 어떻게 또 또 걔한테는 아무려면 다른 때 재수할 때는 보면은 막 일요일도 없이 거의 막 열한 시까지 공부하고 그러는데 그나마 이제 코로나로 인해서 그래도 그렇게까지 장시간은 안 하고 뭐 빨간 글씨는 놀고 그래도 일요일은 안 가니까 조금 평상시에 스트레스 받았던 거를 좀 이렇게 충전하고 있는 거 같애요. 그래서 그나마 쫌 다행이긴 한데 그래도 재수생보다는 대학생이 낫지  않을까요? 어떻게 생각하시는지요?',\n",
       "        '0'],\n",
       "       ['아유 그래도 알차게 잘 쓰셨네요. 근데  저희 같은 경우두 이제 받아가지고 저희는 계속 그냥 외식 저희는 외식을 쫌 했었던 거 같애요. 그까 애도 공부하고  있고 그러니까 좀 이제 갈비를 먹으러 간다든가 좀 뭔가 이렇게 평상시에 자주 안 먹었던 한우를 먹고 그런 식으로 해서 좀 소비를 했구요. 또 이제 애가 이제 집에서 먹는 게 아침에 한 끼밖에 없다 보니까 본인이 좋아하는 갈비탕을 옆에 그~ 맛있게 하는 집이 있어가지고 거기서 이제 대놓고 또 마음껏 또 먹을 수 있게 그런 지원을 해주 해줬던 거 같고요. 어쨌든 저도 보니까 그게 꽁돈 보니까 이게 소비가 금방 짧게 끝나서 그까 좀 이게 꽁돈이 좀 무서운 거 같애요. 이게 좀 내가 힘들어서 벌어야 다시 한번 상 생각하게 되고 아껴 쓰고 할 텐데 그~ 지원 누가 줬다라고 생각을 하니까 나도 모르게 막 그냥 쫌 과소비가 되지 않았나 막 그런 생각이 들었고요. 또 이제 요번 코로나를 중간에 저희가 또 어머 친정엄마가 팔순 생신이었어요. 근데 이제 거리 두기가 한창이고 이럴 때였기 때문에 이제 저희는 이제 삼 형제인데 삼 남매인데 그~ 이제 이제 두 명은 그냥 각자 시간 되는 대로 팔순이긴 하지만 그냥 가족끼리 가서 지 축하해드리자 그러고 이제 막내 같은 경우는  굳이 왜 그렇게 해야 되냐 인생에 한 번인데 가족끼리 다 식당에 가서 먹어야지 막 이러는 게 이견이 좀 있었어요. 그래가지고 그거 때문에도 되게 많이 고민하고 했는데 어쨌든 그래도 이제 사회적 거리 두기 두리 두기도 하고 있고 또 연세가 있으시다 보니까 우리는 괜찮지만 부모님은 또 어떤 환경에 또 노출되면 또 건강에 염려되는 거기 때문에 팔순을 그냥 각자 삼 남매가 이제 자기 되는 시간 가서 이제 전에 그렇게 이제 축하해주고 이렇게 하는 걸로 했거든요. 그 대신 이제 용돈을 이제 그~ 팔순 행사로 할려고 했던 그런 것들 이제 용돈으로 드리긴 했는데 이제 고런 부분은 약간 아쉬움이 남지만 지나고 보니까 했어야 되나 이렇게 장기간으로 오래될 줄 몰른 거예요. 근데 이제 쫌 있으면 또 시어머니 생신이 또 돌아오는 거예요. 그래서 요것도 또 걱정이 되는 거예요. 이거 해야 되나 근데 이건 또 시댁 입장이잖 저는 이제 며느리 입장이잖아요. 그니까 이게 딸이랑 딸이랑 내 딸이 됐을 때랑 며느리 입장이 됐을 때랑 이게 또 생각이 또 달라지는 거예요. 또 며느리인데 또 해드려야 되는 거 아닌가 그런 생각이 또 드는 거예요. 그래서 아~ 고런 부분이 굉장히 많이 고민이 돼요. 그래서 만약에 그런 집안에 그런 큰 행사가  있을 경우 어떻게 하실 거 같은지 고것도 되게 좀 궁금하거든요?',\n",
       "        '저는 저희 인제 그런 집안에 인제 시어머님이나 뭐 이렇게 생일이 행사가 있 있을 때는 우리는 그게 그렇게 막 어~ 크게 생각을 안 해요. 그냥 가족끼리 그~ 모인다는 거에만 중점을 두고 인제 그냥 모였을 때 뭐 집에서 뭐 꼭 해먹거나 뭐 이게 아니라 그냥 뭐 밖에 나가서 이런 부페 이런 데 있잖아요. 그러니까 그~ 뭐 이런 프랜차이저 이런 이런 그~ 음식점 이런 데 가서 그냥 이렇게 뭐 오붓하게 부페식에 가서 그냥 가족끼리 이렇게 뭐 먹는다거나 외식 외식을 한다거나 막 그랬었거든요. 근데 인제 저희가 지금은 인제 그~ 코로나 때문에 그렇게 할 수가 없으니까 인제는 요즘에는 그냥 각자 시간 나는 대로 뭐 빨 인제 만약에 어머님 생일이 한 일주일이다 그러면은 그냥 뭐 시누 우린 또 시누이들이 많아요. 한 셋이고 우리는 이제 남편이 외동 외아들에다가 막내이다 보니까 거의 아들이래도 우리가 장남의 역할을 하는 게 아니라 우리 그~ 고모들이 다 그 역할을 해요. 그니까 가까이 또 살기도 하고 그니까 저희보다 그 누나들이 오히려 옆에서 많이 챙겨주기도 하고  행사가 인제 시댁에 그런 인제 어른들의 행사가 오면은 거의 누나들이 그~ 중점이 돼서 인제 이렇게 하고 의견을 하고 그다음에 그다음에 우리한테 인제 얘기를 하거든요. 뭐 그러면 우리는 그냥 따라 가는 입장이라서 어~ 그런 부분들은 되게 편했던 거 가 편한 거 같애요. 그래가지고 이제 뭐 이렇게 뭐를 한다거나 여행을 간다거나 이런 건 없고 저희는 그냥 그때 그때 시간 되는  되면 가서 어머님이랑 같이 뭐 저녁을 먹는다든가 뭐 점심을 먹는다 그 정도인 거 같애요. 예. 그~ 답이 됐는지 모르겠어. 네. 어떠',\n",
       "        '0'],\n",
       "       ['저는 저희 인제 그런 집안에 인제 시어머님이나 뭐 이렇게 생일이 행사가 있 있을 때는 우리는 그게 그렇게 막 어~ 크게 생각을 안 해요. 그냥 가족끼리 그~ 모인다는 거에만 중점을 두고 인제 그냥 모였을 때 뭐 집에서 뭐 꼭 해먹거나 뭐 이게 아니라 그냥 뭐 밖에 나가서 이런 부페 이런 데 있잖아요. 그러니까 그~ 뭐 이런 프랜차이저 이런 이런 그~ 음식점 이런 데 가서 그냥 이렇게 뭐 오붓하게 부페식에 가서 그냥 가족끼리 이렇게 뭐 먹는다거나 외식 외식을 한다거나 막 그랬었거든요. 근데 인제 저희가 지금은 인제 그~ 코로나 때문에 그렇게 할 수가 없으니까 인제는 요즘에는 그냥 각자 시간 나는 대로 뭐 빨 인제 만약에 어머님 생일이 한 일주일이다 그러면은 그냥 뭐 시누 우린 또 시누이들이 많아요. 한 셋이고 우리는 이제 남편이 외동 외아들에다가 막내이다 보니까 거의 아들이래도 우리가 장남의 역할을 하는 게 아니라 우리 그~ 고모들이 다 그 역할을 해요. 그니까 가까이 또 살기도 하고 그니까 저희보다 그 누나들이 오히려 옆에서 많이 챙겨주기도 하고  행사가 인제 시댁에 그런 인제 어른들의 행사가 오면은 거의 누나들이 그~ 중점이 돼서 인제 이렇게 하고 의견을 하고 그다음에 그다음에 우리한테 인제 얘기를 하거든요. 뭐 그러면 우리는 그냥 따라 가는 입장이라서 어~ 그런 부분들은 되게 편했던 거 가 편한 거 같애요. 그래가지고 이제 뭐 이렇게 뭐를 한다거나 여행을 간다거나 이런 건 없고 저희는 그냥 그때 그때 시간 되는  되면 가서 어머님이랑 같이 뭐 저녁을 먹는다든가 뭐 점심을 먹는다 그 정도인 거 같애요. 예. 그~ 답이 됐는지 모르겠어. 네. 어떠',\n",
       "        '음~ 저희 같은 경우도 이제 평 오 남매다 보니깐 아무래도 이제 잘 자주 모이지는 못해죠. 뭐 천안에 한 사람 살고 서울에 세 명 살고 또 뭐 이렇게 또 지방에 있다 보니까 모이지는 못하지만 이제 뭐 생신이라든가 그럴 때는 어버이날 뭐 요럴 때는 다 같이 명절 때는 당연히 모이고 그래도 이제 한여름 한겨울이에요. 부모님의 생신이 그래서 이제 겨울에는 어차피 놀러갈 수가 없으니까 여름 휴가를 많이 이용해서 거의 뭐 일 박 이 일이나 이 박 삼 일로 해가지고 가서 이렇게 같이 휴가 겸 해가지고 항상 그런 모임을 가졌었는데 이제 올해도 어김 없이 이제 팔월 달에 어머님 생신이 다가오는데 항상 그렇 던 해왔던 행사이기도 하고 또 그때 아니면 또 애들도 다 크긴 했지만 또 다 같이 놀러가고 하는 경우는 그때가 처 가장 좋은 때라 휴가철이라 많이 했는데 아~ 요번에는 쫌 그게 이제 고민이에요. 고민이고 또 저희 제 입장은 막내며느리이기 때문에 뭐 나서서 이래라 저래라 할 수 없는 상황이기 때문에 네. 그래서 이제 그렇게 저희는 해나가고 있습니다.',\n",
       "        '0'],\n",
       "       ['너 그때 기억나? 그~ 우리 일 학년 때 그~ &name1& 라는 남자애랑 완전 친했었잖아. 그래가지고 막 서로 집 놀러 가고 막 그랬었는데 그때 우리 집 와가지구 그때 동생이랑 나랑 걔랑 집에 있었거든. 그래가지고 막 그거 동생 막 게임 막 옆에서 막 해주구 막 내 동생한테 친한 척하고 막 내가 주스도 막 갈아주고 그랬단 말이야 근데 걔가 집에 우리 집에서 나갈 때 나갈 때 우리 엄마랑 마주친 거야. 그래가지구 우리 엄마가 걔를 보는 눈빛이 완전 싸늘해 가지구 걔한테 너 누구니 라고 물어봤는데 그래갖고 걔도 당황해가지구 나도 당황하고 그래가지구 아~ 친구에요. 친구 하고 그냥 얼른 후다닥 나가가지고 엄마한테 나중에 해명했어. 근데 너도 우리 집에 그~ &name1&란 걔랑 같이 놀러 온 적 있지 않아?',\n",
       "        '맞아. 우리 그때 한참 친했을 때 &name1&가 자꾸 나는 너희 집에 둘만 가고 싶은데 계속 자꾸 따라오는 거야. 그래가지구 같이 갔는데 그때 &name2&도 집에 있어가지고 걔가 어~ &name2& 공부해? 그럼 같이 공부하자 내가 알려줄게 이러면서 옆에서 알려줬잖아. 그래가지고 그게 내가 찍었는데 아직도 내 갤러리에 있는 거야. 그때 가가지고 너 졸업사진 중학교 졸업사진 있는 것도 찍고 막 그런 거 많단 말이야. 근데 너가 말했던 그~ 나와가지고 민망했던 그거 그때 아니고 나도 있었거든. 그래가지구 우리 셋이 나가는데 &name1&랑 그~ 딱 마주쳐가지고 어~ 안녕하세요 했는데 너   너가 엄마한테 당황 안 하고 어~  얜 &name1&는 소개 안 하고 얘 내가 말한 &name3&야 &name3& 이러면서 너가 나만 소개시켜줬잖아. 그때 기억 안 나?',\n",
       "        '0'],\n",
       "       ['&name4&는 여자친구가 있어 본 적이 없는 거 같어. 아니 걔가 항상 야 전화를 맨날 하잖아. 그래가지고 옆에서 소리를 들어보면 누군지 안 단 말이야. 그래가지고 아~ 남자애면 아~ 남자애구나 하고 계속 그냥 옆에서 들리는 거 안 들리는척 하는데 여자인 적이 많단 말이야. 걔가 여자인 친구는 많아. 맨날 페메도 보면 여자인 얘들도 많고 카톡도 많고 옛날에는 내가 내가 누나라서 그런지 내가 초등학교 때면 맨날 내 친구들이랑 같이 놀고 싶다고 놀고 싶다고 울구 불구 옆에서 같이 가자고 나도 데려가라고 그래서 그랬거든. 그건지 몰라도 근데 우리 가족 이게 엄마 쪽은 다 여 누나란 말이야. 남자인 친구도 없고 형도 없고 그래가지구 누나들 틈에서 자라면서 그랬나본데 아무튼 여자 친구는 없고 내가 그래가지구 너 여자친구냐 이렇게 물어보면 아니야 맨날 그러면서 하는데 여자친군 없는 거 같아. 어~ 그러면 너는 &name2&랑도 이렇게 얘기 안 하는데 엄마랑은 얘기 자주 해?',\n",
       "        '엄마랑은 그래도 언니 다음으로는 많이 하는 거 같애. 그~ 엄마랑 딱히 지금 얘깃거리가 없어서 그런 진 몰라도 엄마랑 아~ 저번에 엄마한테 내가 뭐지 나 식당에 알바 가잖아. 그것 땜에 내가 돈이 없는 거야. 돈 막 내가 그동안 방학 때 막 써버려가지구 내가 식당에서 알바를 하는데 거그 그거를 어쨌든 가족 일이니까 뭐지 쪼끔이라도 챙겨주지 이렇 챙겨 주지 않을까 이렇게 생각했는데 아니 내가 말을 안 하니까 안 주대?  그래가지구 내가 한 번 날 잡고 아니 엄마 나 쪼끔  빈곤하다고 밖에서 내가 집에 이 집에서 제일 많이 나가서 노는데 스무 살이 스무 살한테 왜 용돈도 안 주냐고 그래가지고 엄마가 이제 달마다 용돈을 너 주는데 에~ 또 뭔가 너무 많이 주는 거 같기도 해서 지금 이제 용돈을 한 쪼끔 줄여달라구 말하거나 아니면 식당에 더 알바를 자주 하러 갈까 생각 중이야. 너는 요즘 너도 요즘 엄마랑 얘기 잘해?',\n",
       "        '0'],\n",
       "       ['엄마랑은 그래도 언니 다음으로는 많이 하는 거 같애. 그~ 엄마랑 딱히 지금 얘깃거리가 없어서 그런 진 몰라도 엄마랑 아~ 저번에 엄마한테 내가 뭐지 나 식당에 알바 가잖아. 그것 땜에 내가 돈이 없는 거야. 돈 막 내가 그동안 방학 때 막 써버려가지구 내가 식당에서 알바를 하는데 거그 그거를 어쨌든 가족 일이니까 뭐지 쪼끔이라도 챙겨주지 이렇 챙겨 주지 않을까 이렇게 생각했는데 아니 내가 말을 안 하니까 안 주대?  그래가지구 내가 한 번 날 잡고 아니 엄마 나 쪼끔  빈곤하다고 밖에서 내가 집에 이 집에서 제일 많이 나가서 노는데 스무 살이 스무 살한테 왜 용돈도 안 주냐고 그래가지고 엄마가 이제 달마다 용돈을 너 주는데 에~ 또 뭔가 너무 많이 주는 거 같기도 해서 지금 이제 용돈을 한 쪼끔 줄여달라구 말하거나 아니면 식당에 더 알바를 자주 하러 갈까 생각 중이야. 너는 요즘 너도 요즘 엄마랑 얘기 잘해?',\n",
       "        '나는 엄마 나도 엄마 일 해가지구 뭐 낮에는 별로 말 못 하는데 막 토요일 일요일은 쉬잖아. 그래가지고 같이 쇼핑도 많이 간단 말이야. 맛있는 것도 먹으러 가고 맨날 가면 맨날 항상 내 옷을 보고 맨날 너는 왜 그렇게 입냐고 엄마가 쫌 쫌 츠 나는 내 스타일이 좀 좋거든. 근데 엄마가 자꾸 너는 야 이거 아니다. 너 이러면 다리가 더 짧게 보인다  맨날 그러는 거야. 그래가지구 엄마 그럼 뭘 입어야 되냐고 했는데 아~ 그럼 근데 나 엄마가 골라주는 거면 또 나랑 스타일이 전혀 아닌 거야. 그래가지구 그냥 맨날 그렇게 싸우고 엄마랑 그냥 친구처럼 대화 많이 하는 거 같아. 그리고 너는 언니 있잖아. 근데 언니 말고 오빠 가지고 싶었던 적 있어?',\n",
       "        '0'],\n",
       "       ['나는 엄마 나도 엄마 일 해가지구 뭐 낮에는 별로 말 못 하는데 막 토요일 일요일은 쉬잖아. 그래가지고 같이 쇼핑도 많이 간단 말이야. 맛있는 것도 먹으러 가고 맨날 가면 맨날 항상 내 옷을 보고 맨날 너는 왜 그렇게 입냐고 엄마가 쫌 쫌 츠 나는 내 스타일이 좀 좋거든. 근데 엄마가 자꾸 너는 야 이거 아니다. 너 이러면 다리가 더 짧게 보인다  맨날 그러는 거야. 그래가지구 엄마 그럼 뭘 입어야 되냐고 했는데 아~ 그럼 근데 나 엄마가 골라주는 거면 또 나랑 스타일이 전혀 아닌 거야. 그래가지구 그냥 맨날 그렇게 싸우고 엄마랑 그냥 친구처럼 대화 많이 하는 거 같아. 그리고 너는 언니 있잖아. 근데 언니 말고 오빠 가지고 싶었던 적 있어?',\n",
       "        '항상 나는 아니 뭐지 밑에가 남동생이구 위에 언니 있으니까 쪼끔 챙김 같은 거 많이 받긴 하는데 뭔가 그래도 오빠 있는 애들 보면은 되게 부럽더라고 쪼끔 나는 근데 어~ 나이 차이가 많이 안 나는 오빠 말고 나이 차이가 많이 나는 오빠 만나고 싶어. 아니 보통 그런 애들 보면은 아니 오빠한테 용돈을 되게 많이 받더라구 그래가지고 나 그 용돈 받고 싶어서  오빠 오빠 한 명 만들고 싶어. 근데 우리 언니도 우리 언니가 첫째니까 어~ 또 뭐 윗사람들한테 챙김 받고 싶을 거 아니야 그래가지구 언니도 아빠한테 언니나 오빠 한 명 입양시켜달라고 그렇게 말한 적도 있다니까 너는 너가 첫짼데 뭐지 오빠나 언니나 오빠 갖고 싶다고 생각 든 적 없어?',\n",
       "        '0'],\n",
       "       ['항상 나는 아니 뭐지 밑에가 남동생이구 위에 언니 있으니까 쪼끔 챙김 같은 거 많이 받긴 하는데 뭔가 그래도 오빠 있는 애들 보면은 되게 부럽더라고 쪼끔 나는 근데 어~ 나이 차이가 많이 안 나는 오빠 말고 나이 차이가 많이 나는 오빠 만나고 싶어. 아니 보통 그런 애들 보면은 아니 오빠한테 용돈을 되게 많이 받더라구 그래가지고 나 그 용돈 받고 싶어서  오빠 오빠 한 명 만들고 싶어. 근데 우리 언니도 우리 언니가 첫째니까 어~ 또 뭐 윗사람들한테 챙김 받고 싶을 거 아니야 그래가지구 언니도 아빠한테 언니나 오빠 한 명 입양시켜달라고 그렇게 말한 적도 있다니까 너는 너가 첫짼데 뭐지 오빠나 언니나 오빠 갖고 싶다고 생각 든 적 없어?',\n",
       "        '아무래도 언니보다는 나도 오빠를 가지고 싶지. 아니 내 친구 중에 오빠가 두 명이 있는 친구가 있어 근데 걔 얘기를 들어보니까 중학교 졸업식 날에 막 장 정장을 막 빼입고 오빠들이 막 와가지고 뭐 졸업 축하한다 막 이렇게 했다는 거야. 그래가지고 얘들이 아주 그냥 와 누구야 누구야 누구야 너희 오빠야 설마 너희 오빠야? 완전 스타가 돼가지구 완전 어~ 나 오빠랑 사진 찍어주면 안 돼? 계속 이래가지구 그랬단 말이야. 근데 나는 진짜 너무 부러워가지고 아~ 지짜 너희 오빠 지짜 좋다 이랬는데 근데 정작 걔한테 보니까 아~ 진짜 별로야 이래가지고 왜 이렇게 정장을 빼입고 와 남의 졸업식에 막 이러는 거야. 그래가지구 아~ 지짜 현실 남매구나 생각했는데 나는 연예 인을 좋아하면 약간 빙글 그런 거 왜 많잖아. 그런 거 한 번씩 보잖아? 그러면 와 지짜 이게 지짜 현실 말고 짜 소설 속에 있는 오빠구나 하면서 봤다 말이야. 그래가지구 너무 좋아. 나도 오빠가 있었으면 좋겠다는 생각을 많이 했어. 근데 너는 &name2&한테 막 바라는 거 있어?',\n",
       "        '0'],\n",
       "       ['얼마 전에 삼촌 생일이었는데 우리 집 사람들이 전부 다 달력에 체크를 해 놓고 삼촌 생일인 줄 까먹은 거야. 그래서 아빠가 나중에 한 열한 시 쯤에 아~ 맞다. 삼촌 생일이었다. 이러고 전화를 하려고 했는데 삼촌 아마 그 시간에 잘 거라고 연락을 못 했거든. 근데 니네 니네는 연락했니?',\n",
       "        '아니 니 생일 바로 다음 날인데 다 까먹는다고? 그건 너무 한 거 아니냐? 아니 그~ 우리는 그~ 하루 전날인 니 생일날에 그~ 엄마 아빠 부산 와가지고 와가지고 뭐 어디 갔더라? 엔씨 가서 밥 먹고 서면에서 맛없는 떡볶이 먹고 뭐 그렇게 회식 했다. 아~ 맞다. 그~ 인 인도요리  인도요리 먹으러 갔어. 아빠가 난 먹고 싶다 해가지고',\n",
       "        '0'],\n",
       "       ['우리 예전에 갔던 그~ 거기 맞음 맞 마 맞는데 뭐 아직 맛있더라. 근데 내가 어제 쇼킹한 걸 들었다. 고모가 고모부보다 여섯 살 연상이래. 아니 엄마가 언니한테 그~ 우리 집안 여자들은 자꾸 연하만 만난다고 친구도 연하로 만나고 남자 친구도 연하로 만난다고 그~ 고모부랑 고모 얘기를 해 줬대. 근데 나는 그렇게까지 차이 나는 줄 몰랐거든. 살짝 둘이 동갑 느낌 아니야?',\n",
       "        '아니 나는 고모랑 고모부랑 나이 차이가 반대로 그~ 고모가 더 많은 건 알고 있었는데 삼촌이 숙모보다 나이가 어렸어? 나 그거를 이제 처음 알았다.',\n",
       "        '0'],\n",
       "       ['아니 나는 고모랑 고모부랑 나이 차이가 반대로 그~ 고모가 더 많은 건 알고 있었는데 삼촌이 숙모보다 나이가 어렸어? 나 그거를 이제 처음 알았다.',\n",
       "        '그거를 이제 처음 알았다고 완전 그거는 심각하다. 근데 나도 큰엄마랑 큰아빠 나이 차이 모름 미안', '0'],\n",
       "       ['그거를 이제 처음 알았다고 완전 그거는 심각하다. 근데 나도 큰엄마랑 큰아빠 나이 차이 모름 미안',\n",
       "        '근데 우리 엄마랑 아빠는 나이 차이 별로 안 나거든. 한 살 차이 나가지고 두 분 다 그냥 나이 나이 세기 되게 쉽다. 한 살 차이니까 그냥 아빠 나이에서 한 살 빼면 되니까',\n",
       "        '0'],\n",
       "       ['근데 우리 엄마랑 아빠는 나이 차이 별로 안 나거든. 한 살 차이 나가지고 두 분 다 그냥 나이 나이 세기 되게 쉽다. 한 살 차이니까 그냥 아빠 나이에서 한 살 빼면 되니까',\n",
       "        '그거 우리 엄마 아빠도 똑같잖아.  그냥 아빠 아빠가 그냥 어쨌든 더 어리다. 실제로는 세 살 차이인가 그런데 그~ 주민등록상으로 엄마가 일 년 늦게 그거 돼가지고 두 살 차이 어~ 그거 알아서 생각하지. 그건 뭐 아무튼 그거는 그거고 아니 &name1&이 옷 쫌 바꿨으면 좋겠다. 왜냐면 너무 가족 모임에서 너무 격식을 차리고 오는 거 같애. 혼자 나까지 드레스 입어야 될 거 같다고',\n",
       "        '0'],\n",
       "       ['그거 우리 엄마 아빠도 똑같잖아.  그냥 아빠 아빠가 그냥 어쨌든 더 어리다. 실제로는 세 살 차이인가 그런데 그~ 주민등록상으로 엄마가 일 년 늦게 그거 돼가지고 두 살 차이 어~ 그거 알아서 생각하지. 그건 뭐 아무튼 그거는 그거고 아니 &name1&이 옷 쫌 바꿨으면 좋겠다. 왜냐면 너무 가족 모임에서 너무 격식을 차리고 오는 거 같애. 혼자 나까지 드레스 입어야 될 거 같다고',\n",
       "        '나도 그게 되게 요즘에 신경 쓰였는데 평소에는 막 되 옛날에는 되게 편하게 입고 다녔는데 요즘 들어서 엄청 격식 차리는 느낌이라서 진짜 신경 쓰이는데 또 최근에는 또 따른 옷에 빠졌더라고 그~ 파자마같이 생긴 잠옷같이 생긴 거 근데 그게 진짜 잠옷 같은데 마음에 드는지 올 때마다 그거 입고 오더라.',\n",
       "        '0'],\n",
       "       ['너무 패션 센스가 극과 극을 달리는 거 아이가? 음~ 아니 수트 아니면은 파자마를 입는 거는 모르겠다. 나는 그거 &name2&이랑 쫌 교환 쫌 했으면 좋겠다. 왜냐면 걔는 맨날 추리한 청바지에 추리한 티셔츠 입잖아. 집 가서 말 쫌 해라. &name1&이 옷 쫌 뺏어 입으라고',\n",
       "        '나도 사실 게네 둘이 반 썪어가지고 썪어가지고 반으로 나누고 싶은데 그게 쉬웠으면 나는 진작에 했겠지. 근데 쫌 옷을 어떻게든 해 주고 싶긴 해. 너무너무 가족끼리 격식 차리니까 너무 부담스럽기도 하고 내 동생은 또 너무 격식을 안 차리다 보니까 그것도 그거대로 너무 신경이 쓰이다 보니까 쪼금 옷을 어떻게 해 주고 싶은데 말을 안 듣네. 너도 가끔씩 오면 쫌 얘기해 줘라. 다들 가만히 있으니까 애들이 옷을 너무 그런다.',\n",
       "        '0'],\n",
       "       ['나도 사실 게네 둘이 반 썪어가지고 썪어가지고 반으로 나누고 싶은데 그게 쉬웠으면 나는 진작에 했겠지. 근데 쫌 옷을 어떻게든 해 주고 싶긴 해. 너무너무 가족끼리 격식 차리니까 너무 부담스럽기도 하고 내 동생은 또 너무 격식을 안 차리다 보니까 그것도 그거대로 너무 신경이 쓰이다 보니까 쪼금 옷을 어떻게 해 주고 싶은데 말을 안 듣네. 너도 가끔씩 오면 쫌 얘기해 줘라. 다들 가만히 있으니까 애들이 옷을 너무 그런다.',\n",
       "        '근데 &name2&이는 옷을 지적하기에는 약속이 없잖아. 그러면은 그대로 있어도 되는 거 아니야? 음~ 걔는 뭐 그 정도로 하고 아니 &name1&이 말 카톡 말투가 너무 너무 재미없는 동기 일 같애. 그거 어제도 무슨 인스타 어쩌구 물어보러 왔는데 내가 자꾸 인스타는 언니한테 가라 그랬더니 자꾸 나한테 묻는 거야. 왜 왜 그러는 건지 모르겠어. 나 걔랑 대화하기가 너무 힘들다. ',\n",
       "        '0'],\n",
       "       ['근데 &name2&이는 옷을 지적하기에는 약속이 없잖아. 그러면은 그대로 있어도 되는 거 아니야? 음~ 걔는 뭐 그 정도로 하고 아니 &name1&이 말 카톡 말투가 너무 너무 재미없는 동기 일 같애. 그거 어제도 무슨 인스타 어쩌구 물어보러 왔는데 내가 자꾸 인스타는 언니한테 가라 그랬더니 자꾸 나한테 묻는 거야. 왜 왜 그러는 건지 모르겠어. 나 걔랑 대화하기가 너무 힘들다. ',\n",
       "        '아니 그래도 &name2&은 이제 또 새내기다 보니까 옷을 잘 입어야 되긴 하는데 그래도 쪼금 사람같이 입고는 다녀야 될 거 아니야. 그래가지고 한번 엄마랑 옷을 사러 간 적이 있었는데 와 걔가 웬일로 엄청 밝은 색 옷을 샀더라고 그래서 엄청 잘 입고 다녔는데 얼마 전에 콜라를 사 왔는데 얘가 들고 오면서 흔들었나 봐. 그래가지고 뚜껑 열자마자 얘가 폭발을 해가지고 쌔 옷을 하루 입은 거 같은데 거기다가 콜라를 다 부어버린 거야. 그래가지고 아직까지 얼룩이 남아 있는데 잘 입고 다니더라. 어~ &name1&이 말투 말투가 사실 나도 &name1&이랑 카톡을 많이 안 해 봤는데 근데 진짜 너무 딱딱하고 형식적이고 우리 엄마도 나이가 있다 보니까 그게 되게 쪼금 사무적으로 보내는 편인데 그거보다 더 사무적인 거 나는 진짜 그~ 또래 애들 중에서 처음 본 거 같다.',\n",
       "        '0'],\n",
       "       ['근데 더 가져가기엔 할머니 옷의 문제점을 알잖니? 그~ 옷이 너무 십 분의 이가 너무 괴랄해. 그래서 지금 옷장에 언젠가 입겠지 하고 짱 박아 놓은 옷 한 오십 개 있고 잠옷으로 입고 있는 옷 한 칠십 개 있는 거 같은데 이~ 할머니 취미 쫌 어떻게 말려볼 생각은 없는지',\n",
       "        '아니 그게 나도 많이 말리고는 있었거든. 근데 할머니 고집이 있다 아이가. 그래가지구 맨날 말하는데도 아~ 알았다. 알았다. 이러고 나중에 되면 또다시 또 사 온단 말이야. 근데 또 계속 사 오는 이유가 나는 맨날 싫다카는데 언니가 걍 입는다 아이가. 그래가지구 언니가 그냥 그대로 그냥 입어주니까 할머니가 계속 사 오는 거 같은데 나한테 뭐라 말하는 거보다는 언니한테 언니한테 쫌 그만 갖고 오라고 하는 게 더 낫지 않을까? 권장해 드린다.',\n",
       "        '0']], dtype='<U3083')"
      ]
     },
     "execution_count": 52,
     "metadata": {},
     "output_type": "execute_result"
    }
   ],
   "source": [
    "temp[(test_pred == test_true) & (test_true == 0)]"
   ]
  },
  {
   "cell_type": "code",
   "execution_count": 70,
   "metadata": {},
   "outputs": [
    {
     "data": {
      "text/plain": [
       "{61: '성격',\n",
       " 413: '회사/학교',\n",
       " 414: '회사/학교',\n",
       " 415: '회사/학교',\n",
       " 480: '성격',\n",
       " 482: '성격',\n",
       " 483: '성격',\n",
       " 541: '연애/결혼',\n",
       " 542: '연애/결혼',\n",
       " 557: '꿈(목표)',\n",
       " 558: '꿈(목표)',\n",
       " 559: '여행지(국내/해외)',\n",
       " 561: '반려동물',\n",
       " 852: '연애/결혼',\n",
       " 1470: '연애/결혼',\n",
       " 1471: '연애/결혼',\n",
       " 1472: '연애/결혼',\n",
       " 1473: '연애/결혼',\n",
       " 1474: '연애/결혼',\n",
       " 1475: '연애/결혼',\n",
       " 1957: '선물',\n",
       " 2096: '회사/학교',\n",
       " 2097: '회사/학교',\n",
       " 2098: '회사/학교',\n",
       " 2099: '먹거리',\n",
       " 2136: '회사/학교',\n",
       " 2137: '회사/학교',\n",
       " 2138: '회사/학교',\n",
       " 2139: '연애/결혼',\n",
       " 2144: '방송/연예',\n",
       " 2145: '스포츠/레저',\n",
       " 2234: '먹거리',\n",
       " 2235: '회사/학교',\n",
       " 2236: '먹거리',\n",
       " 2237: '먹거리',\n",
       " 2243: '먹거리',\n",
       " 2247: '꿈(목표)',\n",
       " 2248: '여행지(국내/해외)',\n",
       " 2249: '여행지(국내/해외)',\n",
       " 2251: '먹거리',\n",
       " 2252: '먹거리',\n",
       " 2253: '먹거리',\n",
       " 2254: '먹거리',\n",
       " 2255: '먹거리',\n",
       " 2256: '먹거리'}"
      ]
     },
     "execution_count": 70,
     "metadata": {},
     "output_type": "execute_result"
    }
   ],
   "source": [
    "dict(zip(np.where((test_pred != test_true) & (test_true == 0))[0], [label_i2w[i] for i in test_pred[(test_pred != test_true) & (test_true == 0)]]))"
   ]
  },
  {
   "cell_type": "code",
   "execution_count": 72,
   "metadata": {},
   "outputs": [
    {
     "data": {
      "text/plain": [
       "(array([ 302,  303,  304,  305,  306,  307,  308,  612,  613,  614,  615,\n",
       "         616,  617,  618,  619,  620,  621,  622,  623,  624,  625,  626,\n",
       "         627,  642,  643,  644,  682,  683,  684,  686,  687,  688,  689,\n",
       "         690, 1013, 1014, 1015, 1016, 1017, 1018, 1019, 1020, 1021, 1022,\n",
       "        1023, 1024, 1025, 1026, 1027, 1028, 1029, 1030, 1031, 1033, 1034,\n",
       "        1035, 1036, 1082, 1083, 1084, 1085, 1086, 1087, 1088, 1089, 1178,\n",
       "        1179, 1180, 1181, 1182, 1183, 1184, 1185, 1186, 1187, 1476, 1477,\n",
       "        1478, 1479, 1480, 1481, 1482, 1483, 1484, 1508, 1509, 1510, 1511,\n",
       "        1512, 1513, 1514, 1626, 1627, 1628, 1629, 1630, 1631, 1837, 1838,\n",
       "        1839, 1840, 1841, 1842, 1843, 1844, 1845, 2023, 2024, 2025, 2026,\n",
       "        2027, 2113, 2114, 2115, 2116, 2117, 2118]),)"
      ]
     },
     "execution_count": 72,
     "metadata": {},
     "output_type": "execute_result"
    }
   ],
   "source": [
    "np.where((test_pred == test_true) & (test_true == 5))"
   ]
  },
  {
   "cell_type": "code",
   "execution_count": 74,
   "metadata": {},
   "outputs": [
    {
     "data": {
      "text/plain": [
       "('반려동물',\n",
       " ('아~ 네. 그 모더콜리가 굉장히 이케 크기가 약간 크드라구요. 그러고 활동적이고 그래서 굉장히 산책을 좋아한다고 얘기 들었그든요? 그래서 같이 있었으면 정말 재밌었을 것 같애요. 제가 보기에도 저와 같은 경우에는 강아지를 키웠는데 굉장히 작은 종류를 키웠어요. 대체적으로요. 집에서 그냥 키울 수 있는 종류로 키웠는데 음~ 그~ 강아지를 누가 줬느냐 하면 예전에 큰  할머니가 주셨어요. 그래서 그 큰할머니가 그 강아지를 줬는데 그 강아지 눈이 우리 큰할머니 눈 하고 똑같앴어요. 그래서 걔만 보지 잘못해서 다른 데 뭐 오줌을 싸거나 그랬을 때 야단을 치고 싶지만은 그 큰할머니 눈을 이제 마주치는 것 같애서 야단을 못 쳤던 경험이 있고 굉장히 뭐 이렇게 야단칠려 그러면 가만히 있어서 도대체가 야단칠 수 없을 정도로 굉장히 예뻤던 강아지였어요. 근데 그 강아지도 보통 십오 년이 넘으면은 치매 증상이 있드라구요. 그래서 치매 증상이 있는데도 불구하고 내가 굉장히 함부로 오줌 싸는 걸 싫어해서 그런지 다리를 끌면서까지 화장실에 가갖고서 누트라구요. 그게 너무너무 사랑스러워서 다들 뭐 안락사를 시키라 그랬그든. 예전에 그런데 차마 그러진 못하고 끝까지 제가 보살폈던 경험이 있습니다. 아~ 그러면은 그~ 보더콜리  이 외에는 강아지를 키운 적이 없으신가요?',\n",
       "  '예. 보더콜리가 가장 오랜 기간 키웠던 견종이 보더콜리였고 어릴 때부터 뭐 믹스견도 있었고 푸들도 있었고 어~  잠시였지만 진돗개도 어렸을 때 잠깐 키웠었습니다. 그래서 어~ 사실  저로서는 뭐 믹스견이든 뭐 품질이  품질이 뭐 좋다고 하는 견종이든 사실 크게 차이는 없다고 생각을 합니다. 뭐 반려동물이 사실 인간 인간과에 어떤 외로움을 공유할 수 있는 존재 그런 존재라고 생각을 하고 뭐 일상에 작은 작은 소소한 행복 이런 도구라고 생각을 하기 때문에 뭐 믹스견이든 뭐 푸들이든 뭐 견종에 대해서  그렇게 상관하진 않는 편이었구요. 어~ 굳이 다른 얘기를 하자면  진돗개는 뭐 사실 품 너무  짧게 키워서  제가  집에 마당이 있었으면은 더 오래 키웠을 텐데 어쩔 수 없이 인제 경기도에 있는 외가댁으로 보냈던 기억이 납니다. 그래서 어~ 그래도 한국을 대표하는 갠데 진돗개를 쫌 더 오래 키워봤으면 아니면 앞으로 키워봤으면 하는 희망이 있구요. 개 개 이외에는 저는 이제 고양이도 잠깐 키워봤고 뭐 금붕어 새 이구아나 햄스터 등 여러 가지를 키웠습니다. 그래서 어~ 가장 그까 개를 제외 우리나라에서 좀 희귀한 것 동 반려동물 중에 하나가 이구아난데 사실 저는 이구아나 키우는 것도 꽤 재미가 있다고 생각을 합니다. 그래서 물론 강아지처럼 뭐 주인이 나가거나 들어올 때 뭐 꼬리를 반긴다거나 뭐 표정이 변한다거나 그런 재미는 없지만 그래도 이구아나가 조금씩 조금씩 커가는 모습 그런 거 보면서 어~ 그래도 정말 조용하게 키울 수 있는 반려동물이어서 어~ 이것도 괜찮다. 혹시나 반려동물 개 이외에 생각하는 사람이 있으면은 파충류 종류도 뭐 어떤 뭐 징그럽다는 뭐 그런 선입견만 없으면은 충분히 재밌을 것 같다 그렇게 추천을 하고 싶습니다. 네. 그럼 혹시 님 님께서는 방금 말씀하셨던 강아지 외에 에~ 다른 동물을 키워본 경험이 있으신가요?',\n",
       "  5))"
      ]
     },
     "execution_count": 74,
     "metadata": {},
     "output_type": "execute_result"
    }
   ],
   "source": [
    "num = 303\n",
    "label_i2w[test_pred[num]], test_dataset[num]"
   ]
  },
  {
   "cell_type": "code",
   "execution_count": 94,
   "metadata": {},
   "outputs": [],
   "source": [
    "length_count = [[0, 0] for _ in label_i2w]\n",
    "\n",
    "for d in data_train:\n",
    "    length_count[d[3]][0] += 1 if d[1] == 512 else 0\n",
    "    length_count[d[3]][1] += 1\n",
    "    \n",
    "for d in data_test:\n",
    "    length_count[d[3]][0] += 1 if d[1] == 512 else 0\n",
    "    length_count[d[3]][1] += 1\n",
    "    \n",
    "for d in data_valid:\n",
    "    length_count[d[3]][0] += 1 if d[1] == 512 else 0\n",
    "    length_count[d[3]][1] += 1"
   ]
  },
  {
   "cell_type": "code",
   "execution_count": 101,
   "metadata": {},
   "outputs": [
    {
     "name": "stdout",
     "output_type": "stream",
     "text": [
      "0.471\t가족\n",
      "0.377\t건강/다이어트\n",
      "0.233\t계절/날씨\n",
      "0.416\t꿈(목표)\n",
      "0.248\t먹거리\n",
      "0.401\t반려동물\n",
      "0.214\t방송/연예\n",
      "0.411\t선물\n",
      "0.344\t성격\n",
      "0.297\t스포츠/레저\n",
      "0.370\t아르바이트\n",
      "0.233\t여행지(국내/해외)\n",
      "0.323\t연애/결혼\n",
      "0.226\t영화\n",
      "0.247\t회사/학교\n"
     ]
    }
   ],
   "source": [
    "for i, (l, c) in enumerate(length_count):\n",
    "    print('%.3f' %(l/c), label_i2w[i], sep='\\t')"
   ]
  },
  {
   "cell_type": "code",
   "execution_count": 96,
   "metadata": {},
   "outputs": [
    {
     "data": {
      "text/plain": [
       "True"
      ]
     },
     "execution_count": 96,
     "metadata": {},
     "output_type": "execute_result"
    }
   ],
   "source": [
    "data_train[0][1] == 512"
   ]
  }
 ],
 "metadata": {
  "kernelspec": {
   "display_name": "KCC",
   "language": "python",
   "name": "venv_kcc"
  },
  "language_info": {
   "codemirror_mode": {
    "name": "ipython",
    "version": 3
   },
   "file_extension": ".py",
   "mimetype": "text/x-python",
   "name": "python",
   "nbconvert_exporter": "python",
   "pygments_lexer": "ipython3",
   "version": "3.7.5"
  }
 },
 "nbformat": 4,
 "nbformat_minor": 2
}
